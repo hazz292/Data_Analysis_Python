{
 "cells": [
  {
   "cell_type": "markdown",
   "id": "d0d4a2ef",
   "metadata": {
    "tags": []
   },
   "source": [
    "### Package Imports"
   ]
  },
  {
   "cell_type": "code",
   "execution_count": 1,
   "id": "dbd96293",
   "metadata": {},
   "outputs": [],
   "source": [
    "import numpy as np"
   ]
  },
  {
   "cell_type": "markdown",
   "id": "1634422e-aece-4624-9fb9-a42d6834e3c4",
   "metadata": {},
   "source": [
    "# NumPy Arrays & Properties"
   ]
  },
  {
   "cell_type": "markdown",
   "id": "6941763c-2ce3-4a61-9e53-6e698c48486b",
   "metadata": {},
   "source": [
    "- ndim – the number of dimensions (axes) in the array\n",
    "- shape – the size of the array for each dimension\n",
    "- size – the total number of elements in the array\n",
    "- dtype – the data type of the elements in the array"
   ]
  },
  {
   "cell_type": "code",
   "execution_count": 2,
   "id": "ac0d2c7b",
   "metadata": {},
   "outputs": [
    {
     "data": {
      "text/plain": [
       "numpy.ndarray"
      ]
     },
     "execution_count": 2,
     "metadata": {},
     "output_type": "execute_result"
    }
   ],
   "source": [
    "sales = [0, 5, 155]\n",
    "\n",
    "sales_array = np.array(sales)\n",
    "\n",
    "type(sales_array)"
   ]
  },
  {
   "cell_type": "code",
   "execution_count": 3,
   "id": "49d55877",
   "metadata": {},
   "outputs": [
    {
     "name": "stdout",
     "output_type": "stream",
     "text": [
      "ndim: 1\n"
     ]
    }
   ],
   "source": [
    "print('ndim: ' + str(sales_array.ndim))"
   ]
  },
  {
   "cell_type": "code",
   "execution_count": 4,
   "id": "7b50a227",
   "metadata": {},
   "outputs": [
    {
     "name": "stdout",
     "output_type": "stream",
     "text": [
      "ndim: 1\n"
     ]
    }
   ],
   "source": [
    "print(f\"ndim: {sales_array.ndim}\")"
   ]
  },
  {
   "cell_type": "code",
   "execution_count": 5,
   "id": "6c5d9bd1",
   "metadata": {},
   "outputs": [
    {
     "data": {
      "text/plain": [
       "array([0, 1, 2, 3, 4])"
      ]
     },
     "execution_count": 5,
     "metadata": {},
     "output_type": "execute_result"
    }
   ],
   "source": [
    "array = np.array(range(5))\n",
    "\n",
    "array"
   ]
  },
  {
   "cell_type": "code",
   "execution_count": 6,
   "id": "5548fdf7-2c88-4bd3-9b97-d499e4872709",
   "metadata": {},
   "outputs": [
    {
     "data": {
      "text/plain": [
       "array([[0, 1, 2, 3, 4],\n",
       "       [0, 1, 2, 3, 4]])"
      ]
     },
     "execution_count": 6,
     "metadata": {},
     "output_type": "execute_result"
    }
   ],
   "source": [
    "array_2d = np.array([range(5), range(5)])\n",
    "\n",
    "array_2d"
   ]
  },
  {
   "cell_type": "code",
   "execution_count": 7,
   "id": "b3fafa56-c9b6-4353-a8d4-815d17b7dcab",
   "metadata": {},
   "outputs": [
    {
     "name": "stdout",
     "output_type": "stream",
     "text": [
      "2\n",
      "(2, 5)\n",
      "10\n",
      "int64\n"
     ]
    }
   ],
   "source": [
    "print(array_2d.ndim)\n",
    "\n",
    "print(array_2d.shape)\n",
    "\n",
    "print(array_2d.size)\n",
    "\n",
    "print(array_2d.dtype)"
   ]
  },
  {
   "cell_type": "code",
   "execution_count": 8,
   "id": "edf7ab4a-59d3-465b-9a12-11cdd90b94af",
   "metadata": {},
   "outputs": [
    {
     "data": {
      "text/plain": [
       "array([[0, 0],\n",
       "       [1, 1],\n",
       "       [2, 2],\n",
       "       [3, 3],\n",
       "       [4, 4]])"
      ]
     },
     "execution_count": 8,
     "metadata": {},
     "output_type": "execute_result"
    }
   ],
   "source": [
    "# Transpose\n",
    "array_2d.T"
   ]
  },
  {
   "cell_type": "code",
   "execution_count": 9,
   "id": "f5fa37f1-99ed-4a28-8e0e-c707ce0f7ea6",
   "metadata": {},
   "outputs": [
    {
     "name": "stdout",
     "output_type": "stream",
     "text": [
      "1\n",
      "(5,)\n",
      "5\n",
      "int64\n"
     ]
    }
   ],
   "source": [
    "print(array.ndim)\n",
    "\n",
    "print(array.shape)\n",
    "\n",
    "print(array.size)\n",
    "\n",
    "print(array.dtype)"
   ]
  },
  {
   "cell_type": "markdown",
   "id": "3a5e9bd3",
   "metadata": {
    "tags": []
   },
   "source": [
    "# Assignment 1: Array Basics\n",
    "\n",
    "Hi there,\n",
    "\n",
    "Can you import Numpy and convert the following list comprehension (I just learned about comprehensions in an awesome course by Maven) into an array?\n",
    "\n",
    "Once you've done that report the following about the array:\n",
    "* The number of dimensions  (ndim)\n",
    "* The shape (shape, size of array for each dimension)\n",
    "* The number of elements in the array (size)\n",
    "* The type of data contained inside (dtype)"
   ]
  },
  {
   "cell_type": "code",
   "execution_count": 10,
   "id": "6d3f8d99",
   "metadata": {},
   "outputs": [
    {
     "data": {
      "text/plain": [
       "[10, 20, 30, 40, 50, 60, 70, 80, 90, 100]"
      ]
     },
     "execution_count": 10,
     "metadata": {},
     "output_type": "execute_result"
    }
   ],
   "source": [
    "my_list = [x * 10 for x in range(1, 11)]\n",
    "\n",
    "my_list"
   ]
  },
  {
   "cell_type": "code",
   "execution_count": 11,
   "id": "55140e10-75e6-45da-8c09-894613fdee0f",
   "metadata": {},
   "outputs": [
    {
     "data": {
      "text/plain": [
       "array([[ 10,  20,  30,  40,  50],\n",
       "       [ 60,  70,  80,  90, 100]])"
      ]
     },
     "execution_count": 11,
     "metadata": {},
     "output_type": "execute_result"
    }
   ],
   "source": [
    "np_array = np.array(my_list).reshape(2,5)\n",
    "\n",
    "np_array"
   ]
  },
  {
   "cell_type": "code",
   "execution_count": 12,
   "id": "3b1cf2bf-1a5f-4669-a41d-270889769331",
   "metadata": {},
   "outputs": [
    {
     "name": "stdout",
     "output_type": "stream",
     "text": [
      "Dimensions: 2\n",
      "Shape: (2, 5)\n",
      "Size: 10\n",
      "Data type: int64\n"
     ]
    }
   ],
   "source": [
    "print(f\"Dimensions: {np_array.ndim}\")\n",
    "\n",
    "print(f\"Shape: {np_array.shape}\")\n",
    "\n",
    "print(f\"Size: {np_array.size}\")\n",
    "\n",
    "print(f\"Data type: {np_array.dtype}\")"
   ]
  },
  {
   "cell_type": "markdown",
   "id": "eb8f5015-348d-4497-9f42-72d8f3bf98a5",
   "metadata": {},
   "source": [
    "# Array Creation"
   ]
  },
  {
   "cell_type": "markdown",
   "id": "f6951e23-6316-410d-9056-a72399530baf",
   "metadata": {},
   "source": [
    "#### Functions to create arrays\n",
    "\n",
    "- ones: creates an array of ones of a given size, as float by default\n",
    "    - np.ones((rows, cols), dtype)\n",
    "- zeros: Creates an array of zeros of a given size, as float by default\n",
    "    - np.zeros((rows, cols), dtype)\n",
    "- arrange: Creates an array of integers with given start & stop values, and a step size (only stop is required, and is not inclusive)\n",
    "    - np.arange(start, stop, step)\n",
    "- linspace: Creates an array of floats with given start & stop values with n elements, separated by a consistent step size (stop is inclusive)\n",
    "    - np.linspace(start, stop, n)\n",
    "- reshape: Changes an array into the specified dimensions, if compatible\n",
    "    - np.array.reshape(rows, cols)"
   ]
  },
  {
   "cell_type": "code",
   "execution_count": 13,
   "id": "c0a2062e-5d1f-4bdc-bf45-d4aca1ad6fd5",
   "metadata": {},
   "outputs": [
    {
     "data": {
      "text/plain": [
       "array([1., 1., 1., 1., 1.])"
      ]
     },
     "execution_count": 13,
     "metadata": {},
     "output_type": "execute_result"
    }
   ],
   "source": [
    "# Create an array of ones\n",
    "np.ones(5)"
   ]
  },
  {
   "cell_type": "code",
   "execution_count": 14,
   "id": "7b332a27-fddf-4ec3-8f43-cb55761c2622",
   "metadata": {},
   "outputs": [
    {
     "data": {
      "text/plain": [
       "array([1, 1])"
      ]
     },
     "execution_count": 14,
     "metadata": {},
     "output_type": "execute_result"
    }
   ],
   "source": [
    "# Create an array of ones with explicit data type\n",
    "np.ones(2, dtype='int')"
   ]
  },
  {
   "cell_type": "code",
   "execution_count": 15,
   "id": "76cd5e93-104d-4922-b792-e07b1fdd0537",
   "metadata": {},
   "outputs": [
    {
     "data": {
      "text/plain": [
       "array([[0, 0, 0, 0, 0, 0, 0, 0, 0, 0, 0, 0, 0, 0, 0, 0, 0, 0, 0, 0],\n",
       "       [0, 0, 0, 0, 0, 0, 0, 0, 0, 0, 0, 0, 0, 0, 0, 0, 0, 0, 0, 0],\n",
       "       [0, 0, 0, 0, 0, 0, 0, 0, 0, 0, 0, 0, 0, 0, 0, 0, 0, 0, 0, 0],\n",
       "       [0, 0, 0, 0, 0, 0, 0, 0, 0, 0, 0, 0, 0, 0, 0, 0, 0, 0, 0, 0],\n",
       "       [0, 0, 0, 0, 0, 0, 0, 0, 0, 0, 0, 0, 0, 0, 0, 0, 0, 0, 0, 0]])"
      ]
     },
     "execution_count": 15,
     "metadata": {},
     "output_type": "execute_result"
    }
   ],
   "source": [
    "# Create an array of zeros\n",
    "np.zeros(100, dtype='int').reshape(5,20)"
   ]
  },
  {
   "cell_type": "code",
   "execution_count": 16,
   "id": "c00bd1c5-277c-4177-8d6d-b4a58ee58fcc",
   "metadata": {},
   "outputs": [
    {
     "data": {
      "text/plain": [
       "array([[0, 0, 0, 0, 0, 0, 0, 0, 0, 0, 0, 0, 0, 0, 0, 0, 0, 0, 0, 0],\n",
       "       [0, 0, 0, 0, 0, 0, 0, 0, 0, 0, 0, 0, 0, 0, 0, 0, 0, 0, 0, 0],\n",
       "       [0, 0, 0, 0, 0, 0, 0, 0, 0, 0, 0, 0, 0, 0, 0, 0, 0, 0, 0, 0],\n",
       "       [0, 0, 0, 0, 0, 0, 0, 0, 0, 0, 0, 0, 0, 0, 0, 0, 0, 0, 0, 0],\n",
       "       [0, 0, 0, 0, 0, 0, 0, 0, 0, 0, 0, 0, 0, 0, 0, 0, 0, 0, 0, 0]])"
      ]
     },
     "execution_count": 16,
     "metadata": {},
     "output_type": "execute_result"
    }
   ],
   "source": [
    "# Create an array of zeros, reshape within function argument 1, or Transpose with T\n",
    "np.zeros((5, 20), dtype='int')"
   ]
  },
  {
   "cell_type": "code",
   "execution_count": 17,
   "id": "e035a76b-5840-4e24-8cef-ae75959a4290",
   "metadata": {},
   "outputs": [
    {
     "data": {
      "text/plain": [
       "array([[1., 0., 0., 0., 0.],\n",
       "       [0., 0., 0., 0., 0.],\n",
       "       [0., 1., 0., 0., 0.],\n",
       "       [0., 0., 0., 0., 0.],\n",
       "       [0., 0., 1., 0., 0.],\n",
       "       [0., 0., 0., 0., 0.],\n",
       "       [0., 0., 0., 1., 0.],\n",
       "       [0., 0., 0., 0., 0.],\n",
       "       [0., 0., 0., 0., 1.],\n",
       "       [0., 0., 0., 0., 0.],\n",
       "       [0., 0., 0., 0., 0.],\n",
       "       [1., 0., 0., 0., 0.],\n",
       "       [0., 0., 0., 0., 0.],\n",
       "       [0., 1., 0., 0., 0.],\n",
       "       [0., 0., 0., 0., 0.],\n",
       "       [0., 0., 1., 0., 0.],\n",
       "       [0., 0., 0., 0., 0.],\n",
       "       [0., 0., 0., 1., 0.],\n",
       "       [0., 0., 0., 0., 0.],\n",
       "       [0., 0., 0., 0., 1.]])"
      ]
     },
     "execution_count": 17,
     "metadata": {},
     "output_type": "execute_result"
    }
   ],
   "source": [
    "# Matrix math\n",
    "np.identity(10).reshape(5, 20).T"
   ]
  },
  {
   "cell_type": "code",
   "execution_count": 18,
   "id": "4c97716a-102b-44d8-a4f8-b8a26e148558",
   "metadata": {},
   "outputs": [
    {
     "data": {
      "text/plain": [
       "array([[0, 1],\n",
       "       [2, 3],\n",
       "       [4, 5],\n",
       "       [6, 7],\n",
       "       [8, 9]])"
      ]
     },
     "execution_count": 18,
     "metadata": {},
     "output_type": "execute_result"
    }
   ],
   "source": [
    "# Arrange: Start, Stop, Step\n",
    "np.arange(10).reshape(5,2)"
   ]
  },
  {
   "cell_type": "code",
   "execution_count": 19,
   "id": "c21276d9-517a-49a7-bcb0-d92349f33cb8",
   "metadata": {},
   "outputs": [
    {
     "data": {
      "text/plain": [
       "array([  0,  10,  20,  30,  40,  50,  60,  70,  80,  90, 100])"
      ]
     },
     "execution_count": 19,
     "metadata": {},
     "output_type": "execute_result"
    }
   ],
   "source": [
    "np.linspace(0, 100, 11, dtype='int')"
   ]
  },
  {
   "cell_type": "code",
   "execution_count": 20,
   "id": "4aa7c005-7e98-48be-aaaa-5f3e91517e69",
   "metadata": {},
   "outputs": [
    {
     "data": {
      "text/plain": [
       "array([ 0,  9, 18, 27, 36, 45, 54, 64])"
      ]
     },
     "execution_count": 20,
     "metadata": {},
     "output_type": "execute_result"
    }
   ],
   "source": [
    "np.linspace(0, 64, 8, dtype='int')"
   ]
  },
  {
   "cell_type": "markdown",
   "id": "f37ba88a-69b7-44d1-b609-79871fef37b2",
   "metadata": {},
   "source": [
    "# Random Number Arrays"
   ]
  },
  {
   "cell_type": "markdown",
   "id": "0b164158-6bc7-43e7-ab43-086b14de7533",
   "metadata": {},
   "source": [
    "Create random number arrays from a variety of distributions. Great for sampling and simulation.\n",
    "\n",
    "- default_rng: creates a random number generator (seed for reproducibility)\n",
    "    - np.default_rng(seed)\n",
    "- random: returns n random numbers from a uniform distribution between 0 and 1\n",
    "    - rng.random(n)\n",
    "- normal: returns n random numbers from a normal distribution with a given mean and standard deviation\n",
    "    - rng.normal(mean, stdev, n)\n",
    "    \n",
    "    \n",
    "- 'rng' is the standard variable name for the default_rng number generator"
   ]
  },
  {
   "cell_type": "code",
   "execution_count": 21,
   "id": "e9baf2e1-174a-4e9c-922b-34e1cf42bd31",
   "metadata": {},
   "outputs": [
    {
     "data": {
      "text/plain": [
       "array([0.22733602, 0.31675834, 0.79736546, 0.67625467, 0.39110955,\n",
       "       0.33281393, 0.59830875, 0.18673419, 0.67275604, 0.94180287])"
      ]
     },
     "execution_count": 21,
     "metadata": {},
     "output_type": "execute_result"
    }
   ],
   "source": [
    "# import \n",
    "from numpy.random import default_rng\n",
    "\n",
    "# create a random number generator with a seed of 12345 and assigning it\n",
    "rng = default_rng(12345)\n",
    "\n",
    "# use the random method to return an array with 10 random numbers\n",
    "random_array = rng.random(10)\n",
    "\n",
    "random_array"
   ]
  },
  {
   "cell_type": "code",
   "execution_count": 22,
   "id": "46b8a638-b37b-4435-a2a8-f4596d8c8fd9",
   "metadata": {},
   "outputs": [
    {
     "data": {
      "text/plain": [
       "array([3.57617496, 6.26372846, 4.12933826, 4.74082677, 4.92465669,\n",
       "       4.25911535, 3.6322073 , 5.6488928 , 5.36105811, 3.04713694])"
      ]
     },
     "execution_count": 22,
     "metadata": {},
     "output_type": "execute_result"
    }
   ],
   "source": [
    "# import \n",
    "from numpy.random import default_rng\n",
    "\n",
    "# create a random number generator with a seed of 12345 and assigning it\n",
    "rng = default_rng(12345)\n",
    "\n",
    "mean, stddev = 5, 1\n",
    "\n",
    "random_normal = rng.normal(mean, stddev, size=10)\n",
    "\n",
    "random_normal"
   ]
  },
  {
   "cell_type": "markdown",
   "id": "53b502ce-fa95-49b3-8d2e-7ef73c8e2641",
   "metadata": {},
   "source": [
    "**IMPORTANT**\n",
    "- make sure to set a seed when generating random numbers to ensure you and others can recreate the work you've done (the value for the seed is less import)"
   ]
  },
  {
   "cell_type": "code",
   "execution_count": 23,
   "id": "5e6e05e3-2d72-4d0d-ae5b-494a6aaf6672",
   "metadata": {},
   "outputs": [
    {
     "data": {
      "text/plain": [
       "array([0.39682145, 0.86568572, 0.46040359, 0.30599848, 0.57381588,\n",
       "       0.08888468, 0.88194347, 0.73228387, 0.73215182, 0.56233394])"
      ]
     },
     "execution_count": 23,
     "metadata": {},
     "output_type": "execute_result"
    }
   ],
   "source": [
    "rng = np.random.default_rng(616)\n",
    "\n",
    "# Generate random numbers\n",
    "rng.random(10)"
   ]
  },
  {
   "cell_type": "code",
   "execution_count": 24,
   "id": "ae4801eb-362d-4638-8d28-b14bc06de3db",
   "metadata": {},
   "outputs": [
    {
     "data": {
      "text/plain": [
       "array([8, 3, 6, 0, 3, 3, 1, 2, 2, 4, 9, 1, 2, 5, 1, 8, 9, 0, 3, 1, 5, 8,\n",
       "       0, 6, 1, 7, 0, 7, 6, 0, 3, 7, 1, 9, 4, 1, 6, 1, 4, 4, 9, 5, 3, 4,\n",
       "       7, 8, 3, 3, 5, 0, 4, 9, 9, 5, 6, 5, 8, 2, 3, 0, 0, 8, 3, 8, 4, 8,\n",
       "       8, 9, 7, 3, 8, 4, 9, 2, 6, 3, 0, 3, 2, 0, 0, 4, 9, 5, 4, 1, 8, 2,\n",
       "       7, 7, 1, 2, 2, 4, 1, 6, 7, 3, 7, 5])"
      ]
     },
     "execution_count": 24,
     "metadata": {},
     "output_type": "execute_result"
    }
   ],
   "source": [
    "# Generate integers\n",
    "\n",
    "rng.integers(0, 10, 100)"
   ]
  },
  {
   "cell_type": "code",
   "execution_count": 25,
   "id": "2aee0e59-9e71-4267-aad1-474a356950f1",
   "metadata": {},
   "outputs": [
    {
     "data": {
      "text/plain": [
       "array([53.53115044, 46.35468178, 46.1580894 , 52.89177118, 45.90693639,\n",
       "       44.51748741, 57.41467712, 51.82624671, 53.9032125 , 53.21454641])"
      ]
     },
     "execution_count": 25,
     "metadata": {},
     "output_type": "execute_result"
    }
   ],
   "source": [
    "# Generate numbers with normal distribution\n",
    "rng.normal(50, 5, 10)"
   ]
  },
  {
   "cell_type": "markdown",
   "id": "8ff92bb7",
   "metadata": {},
   "source": [
    "# Assignment 2: Array Creation\n",
    "\n",
    "Thanks for your help with the first piece - I'm starting to understand some of the key differences between base Python data types and NumPy arrays. \n",
    "\n",
    "Does NumPy have anything like the range() function from base Python?\n",
    "\n",
    "If so: \n",
    "* create the same array from assignment 1 using a NumPy function. \n",
    "* Make it 5 rows and 2 columns. \n",
    "* It's ok if the datatype is float or int."
   ]
  },
  {
   "cell_type": "code",
   "execution_count": 26,
   "id": "81839e0f",
   "metadata": {},
   "outputs": [
    {
     "data": {
      "text/plain": [
       "array([[ 10,  20],\n",
       "       [ 30,  40],\n",
       "       [ 50,  60],\n",
       "       [ 70,  80],\n",
       "       [ 90, 100]])"
      ]
     },
     "execution_count": 26,
     "metadata": {},
     "output_type": "execute_result"
    }
   ],
   "source": [
    "# arange creates array as int and stop is NOT inclusive\n",
    "np_array = np.arange(10, 101, 10).reshape(5, 2)\n",
    "\n",
    "np_array"
   ]
  },
  {
   "cell_type": "code",
   "execution_count": 27,
   "id": "96016053-4d9c-454e-a861-2be84a601a16",
   "metadata": {},
   "outputs": [
    {
     "data": {
      "text/plain": [
       "array([[ 10,  20],\n",
       "       [ 30,  40],\n",
       "       [ 50,  60],\n",
       "       [ 70,  80],\n",
       "       [ 90, 100]])"
      ]
     },
     "execution_count": 27,
     "metadata": {},
     "output_type": "execute_result"
    }
   ],
   "source": [
    "# arange creates array as int and stop is NOT inclusive\n",
    "np_array = (np.arange(1, 11) * 10).reshape(5, 2)\n",
    "\n",
    "np_array"
   ]
  },
  {
   "cell_type": "code",
   "execution_count": 28,
   "id": "1437d33e-9c6e-4c2c-8da0-e71400a24b3c",
   "metadata": {},
   "outputs": [
    {
     "data": {
      "text/plain": [
       "array([[ 10.,  20.],\n",
       "       [ 30.,  40.],\n",
       "       [ 50.,  60.],\n",
       "       [ 70.,  80.],\n",
       "       [ 90., 100.]])"
      ]
     },
     "execution_count": 28,
     "metadata": {},
     "output_type": "execute_result"
    }
   ],
   "source": [
    "# linspace creates array as float and stop IS inclusive\n",
    "np_array_2 = np.linspace(10, 100, 10).reshape(5, 2)\n",
    "\n",
    "np_array_2"
   ]
  },
  {
   "cell_type": "markdown",
   "id": "e0849aa4",
   "metadata": {},
   "source": [
    "Looking good so far! One of our data scientists asked about random number generation in NumPy.\n",
    "\n",
    "Can you create a 3x3 array of random numbers between 0 and 1? Use a random state of 2022.\n",
    "\n",
    "Store the random array in a variable called `random_array`."
   ]
  },
  {
   "cell_type": "code",
   "execution_count": 29,
   "id": "f1d2acf0-8218-47b2-83cb-a505b1d7b35d",
   "metadata": {},
   "outputs": [
    {
     "data": {
      "text/plain": [
       "array([[0.24742606, 0.09299006, 0.61176337],\n",
       "       [0.06066207, 0.66103343, 0.75515778],\n",
       "       [0.1108689 , 0.04305584, 0.41441747]])"
      ]
     },
     "execution_count": 29,
     "metadata": {},
     "output_type": "execute_result"
    }
   ],
   "source": [
    "rng = default_rng(2022)\n",
    "\n",
    "random_array = rng.random((3, 3)) #.reshape(3, 3)\n",
    "\n",
    "random_array"
   ]
  },
  {
   "cell_type": "markdown",
   "id": "df3b9a6c-b4d4-4eda-b5cb-7af664e777d3",
   "metadata": {},
   "source": [
    "# Indexing & Slicing Arrays"
   ]
  },
  {
   "cell_type": "markdown",
   "id": "e4717f76-7ea5-4999-bf02-c94787386f40",
   "metadata": {},
   "source": [
    "Indexing & slicing **ONE-dimensional** arrays is the same as base Python\n",
    "   - array[index] = indexing to access a single element (0-indexed)\n",
    "   - array[start:stop:step size] = slicing to access a series of elements (stop is NOT inclusive)"
   ]
  },
  {
   "cell_type": "code",
   "execution_count": 30,
   "id": "0d9f5f7d-f398-43e4-969b-1eac8b85284a",
   "metadata": {},
   "outputs": [],
   "source": [
    "product = ['fruits', 'vegetables', 'cereal', 'dairy', 'eggs', 'snacks',\n",
    "                 'beverages', 'coffee', 'tea', 'spices']"
   ]
  },
  {
   "cell_type": "code",
   "execution_count": 31,
   "id": "950955d2-088a-4b29-b275-0516fe850661",
   "metadata": {},
   "outputs": [
    {
     "data": {
      "text/plain": [
       "array(['fruits', 'vegetables', 'cereal', 'dairy', 'eggs', 'snacks',\n",
       "       'beverages', 'coffee', 'tea', 'spices'], dtype='<U10')"
      ]
     },
     "execution_count": 31,
     "metadata": {},
     "output_type": "execute_result"
    }
   ],
   "source": [
    "product_array = np.array(product)\n",
    "\n",
    "product_array"
   ]
  },
  {
   "cell_type": "code",
   "execution_count": 32,
   "id": "519a5c0d-123a-479b-967a-3e01c02c10bb",
   "metadata": {},
   "outputs": [
    {
     "name": "stdout",
     "output_type": "stream",
     "text": [
      "vegetables\n",
      "spices\n"
     ]
    }
   ],
   "source": [
    "# first element\n",
    "print(product_array[1])\n",
    "# last element\n",
    "print(product_array[-1])"
   ]
  },
  {
   "cell_type": "code",
   "execution_count": 33,
   "id": "f6cde438-a8aa-4c76-90a6-200b309659d2",
   "metadata": {},
   "outputs": [
    {
     "name": "stdout",
     "output_type": "stream",
     "text": [
      "['fruits' 'vegetables' 'cereal' 'dairy' 'eggs']\n"
     ]
    }
   ],
   "source": [
    "# first 5 elements\n",
    "print(product_array[:5])"
   ]
  },
  {
   "cell_type": "code",
   "execution_count": 34,
   "id": "badd1d86-a09b-4cc9-8545-fdb7e3c41604",
   "metadata": {},
   "outputs": [
    {
     "name": "stdout",
     "output_type": "stream",
     "text": [
      "['snacks' 'coffee' 'spices']\n"
     ]
    }
   ],
   "source": [
    "# start at 6th element and grab every other element until end of array\n",
    "print(product_array[5::2])"
   ]
  },
  {
   "cell_type": "markdown",
   "id": "ebc55035-20ab-4a36-84a7-f090a05e9951",
   "metadata": {},
   "source": [
    "Indexing & slicing **TWO-dimensional** arrays requires an extra index or slice\n",
    "   - array[row index, column index] = indexing to access a single element (0-indexed)\n",
    "   - array[start:stop:step size, start:stop:step size] = slicing to access a series of elements (stop is NOT inclusive)"
   ]
  },
  {
   "cell_type": "code",
   "execution_count": 35,
   "id": "9bcfe605-6b89-4acc-b290-420da6224c95",
   "metadata": {},
   "outputs": [
    {
     "data": {
      "text/plain": [
       "array([['fruits', 'vegetables', 'cereal', 'dairy', 'eggs'],\n",
       "       ['snacks', 'beverages', 'coffee', 'tea', 'spices']], dtype='<U10')"
      ]
     },
     "execution_count": 35,
     "metadata": {},
     "output_type": "execute_result"
    }
   ],
   "source": [
    "product_2D = (['fruits', 'vegetables', 'cereal', 'dairy', 'eggs'], \n",
    "           ['snacks', 'beverages', 'coffee', 'tea', 'spices'])\n",
    "\n",
    "product_array2D = np.array(product_2D)\n",
    "\n",
    "product_array2D"
   ]
  },
  {
   "cell_type": "code",
   "execution_count": 36,
   "id": "faa6e9b1-6acd-4ff9-ad65-6715f4543c5f",
   "metadata": {},
   "outputs": [
    {
     "data": {
      "text/plain": [
       "'coffee'"
      ]
     },
     "execution_count": 36,
     "metadata": {},
     "output_type": "execute_result"
    }
   ],
   "source": [
    "# second row and 3 column element\n",
    "product_array2D[1, 2]"
   ]
  },
  {
   "cell_type": "code",
   "execution_count": 37,
   "id": "33403752-bcac-4d4d-b58f-748063133b2e",
   "metadata": {},
   "outputs": [
    {
     "data": {
      "text/plain": [
       "array([['cereal', 'dairy', 'eggs'],\n",
       "       ['coffee', 'tea', 'spices']], dtype='<U10')"
      ]
     },
     "execution_count": 37,
     "metadata": {},
     "output_type": "execute_result"
    }
   ],
   "source": [
    "# go to all rows and grab all elements starting from the 3rd in each row\n",
    "product_array2D[:, 2:]"
   ]
  },
  {
   "cell_type": "code",
   "execution_count": 38,
   "id": "aa642fa3-9ab7-419c-addc-1b6dd0f01be6",
   "metadata": {},
   "outputs": [
    {
     "data": {
      "text/plain": [
       "array([['snacks', 'beverages', 'coffee', 'tea', 'spices']], dtype='<U10')"
      ]
     },
     "execution_count": 38,
     "metadata": {},
     "output_type": "execute_result"
    }
   ],
   "source": [
    "# second row and grab all elements\n",
    "product_array2D[1:,:]"
   ]
  },
  {
   "cell_type": "markdown",
   "id": "6927e8b0",
   "metadata": {},
   "source": [
    "# Assignment 3: Accessing Array Data\n",
    "\n",
    "\n",
    "Slice and index the `random_array` we created in the previous exercise. Perform the following:\n",
    "\n",
    "* Grab the first two 'rows' of the array\n",
    "* Grab the entire first column\n",
    "* Finally, grab the second element of the third row.\n",
    "\n",
    "Thanks!\n"
   ]
  },
  {
   "cell_type": "code",
   "execution_count": 39,
   "id": "62a4e208",
   "metadata": {},
   "outputs": [
    {
     "data": {
      "text/plain": [
       "array([[0.24742606, 0.09299006, 0.61176337],\n",
       "       [0.06066207, 0.66103343, 0.75515778],\n",
       "       [0.1108689 , 0.04305584, 0.41441747]])"
      ]
     },
     "execution_count": 39,
     "metadata": {},
     "output_type": "execute_result"
    }
   ],
   "source": [
    "random_array"
   ]
  },
  {
   "cell_type": "code",
   "execution_count": 40,
   "id": "8f9e9acf",
   "metadata": {
    "scrolled": true
   },
   "outputs": [
    {
     "data": {
      "text/plain": [
       "2"
      ]
     },
     "execution_count": 40,
     "metadata": {},
     "output_type": "execute_result"
    }
   ],
   "source": [
    "random_array.ndim"
   ]
  },
  {
   "cell_type": "code",
   "execution_count": 41,
   "id": "87fa83f7",
   "metadata": {},
   "outputs": [
    {
     "data": {
      "text/plain": [
       "array([[0.24742606, 0.09299006, 0.61176337],\n",
       "       [0.06066207, 0.66103343, 0.75515778]])"
      ]
     },
     "execution_count": 41,
     "metadata": {},
     "output_type": "execute_result"
    }
   ],
   "source": [
    "# first 2 rows of the array\n",
    "random_array[:2, :]"
   ]
  },
  {
   "cell_type": "code",
   "execution_count": 42,
   "id": "fe985696",
   "metadata": {},
   "outputs": [
    {
     "data": {
      "text/plain": [
       "array([0.24742606, 0.06066207, 0.1108689 ])"
      ]
     },
     "execution_count": 42,
     "metadata": {},
     "output_type": "execute_result"
    }
   ],
   "source": [
    "# entire first column\n",
    "random_array[:, 0]"
   ]
  },
  {
   "cell_type": "code",
   "execution_count": 43,
   "id": "4dbedb45-f780-4eef-8676-5e24d7fabcb6",
   "metadata": {},
   "outputs": [
    {
     "data": {
      "text/plain": [
       "0.04305584439252108"
      ]
     },
     "execution_count": 43,
     "metadata": {},
     "output_type": "execute_result"
    }
   ],
   "source": [
    "# second element of the third row\n",
    "random_array[2, 1]"
   ]
  },
  {
   "cell_type": "markdown",
   "id": "0191b4ac-8bd0-44e9-9291-0da9c8672bbb",
   "metadata": {},
   "source": [
    "# Array Operations"
   ]
  },
  {
   "cell_type": "markdown",
   "id": "61fdcfb1-2c71-4fc9-8889-23a8a68e7013",
   "metadata": {},
   "source": [
    "Arithmetic operators can be used to perform array operations."
   ]
  },
  {
   "cell_type": "code",
   "execution_count": 44,
   "id": "0d431baa-c5e9-4022-b905-99ca7b4d11c7",
   "metadata": {},
   "outputs": [
    {
     "data": {
      "text/plain": [
       "array([[   0,    5,  155,    0,  518],\n",
       "       [   0, 1827,  616,  317,  325]])"
      ]
     },
     "execution_count": 44,
     "metadata": {},
     "output_type": "execute_result"
    }
   ],
   "source": [
    "# create an array\n",
    "sales = [[0, 5, 155, 0, 518], [0, 1827, 616, 317, 325]]\n",
    "\n",
    "sales_array = np.array(sales)\n",
    "\n",
    "sales_array"
   ]
  },
  {
   "cell_type": "code",
   "execution_count": 45,
   "id": "2e57f30b-c1c3-4909-b43b-fef9d5dd8ca8",
   "metadata": {},
   "outputs": [
    {
     "data": {
      "text/plain": [
       "array([[   2,    7,  157,    2,  520],\n",
       "       [   2, 1829,  618,  319,  327]])"
      ]
     },
     "execution_count": 45,
     "metadata": {},
     "output_type": "execute_result"
    }
   ],
   "source": [
    "# add 2 to every element in the array\n",
    "sales_array + 2"
   ]
  },
  {
   "cell_type": "code",
   "execution_count": 46,
   "id": "8f1b849f-5f66-41cd-b26b-50f614fc05cd",
   "metadata": {},
   "outputs": [
    {
     "data": {
      "text/plain": [
       "array([     0,   9135,  95480,      0, 168350])"
      ]
     },
     "execution_count": 46,
     "metadata": {},
     "output_type": "execute_result"
    }
   ],
   "source": [
    "# quantity is first row of array\n",
    "quantity = sales_array[0, :]\n",
    "\n",
    "# price is second row of array\n",
    "price = sales_array[1, :]\n",
    "\n",
    "# calculate profit (multiply operates on 2 arrays of the same length)\n",
    "quantity * price"
   ]
  },
  {
   "cell_type": "markdown",
   "id": "52dae369-4c1d-46f5-a843-7f7eecd335c7",
   "metadata": {},
   "source": [
    "**Array operations are applied via vectorization and broadcasting, which elimiates the need to loop through the array's elements**"
   ]
  },
  {
   "cell_type": "code",
   "execution_count": 47,
   "id": "6c266649-dc56-410a-9e39-cae08c616425",
   "metadata": {},
   "outputs": [
    {
     "data": {
      "text/plain": [
       "array([39, 39, 93, 86, 48, 46, 48, 30, 11, 57])"
      ]
     },
     "execution_count": 47,
     "metadata": {},
     "output_type": "execute_result"
    }
   ],
   "source": [
    "# create random number generator\n",
    "\n",
    "rng = np.random.default_rng(616)\n",
    "\n",
    "# generate 10 numbers\n",
    "inventory = rng.integers(0, 100, 10)\n",
    "\n",
    "# print array\n",
    "inventory"
   ]
  },
  {
   "cell_type": "code",
   "execution_count": 48,
   "id": "5f2b5aba-f063-4b28-9f44-ea6acc7b61f0",
   "metadata": {},
   "outputs": [
    {
     "data": {
      "text/plain": [
       "array([ 15,  15,  69,  62,  24,  22,  24,   6, -13,  33])"
      ]
     },
     "execution_count": 48,
     "metadata": {},
     "output_type": "execute_result"
    }
   ],
   "source": [
    "# subtract 24 from inventory\n",
    "inventory - 24"
   ]
  },
  {
   "cell_type": "code",
   "execution_count": 49,
   "id": "7d6b89f5-3795-4501-a346-b7d2904952f0",
   "metadata": {},
   "outputs": [
    {
     "data": {
      "text/plain": [
       "array([19.5, 19.5, 46.5, 43. , 24. , 23. , 24. , 15. ,  5.5, 28.5])"
      ]
     },
     "execution_count": 49,
     "metadata": {},
     "output_type": "execute_result"
    }
   ],
   "source": [
    "# cut inventory in half\n",
    "inventory / 2"
   ]
  },
  {
   "cell_type": "code",
   "execution_count": 50,
   "id": "3f07f28f-1d54-4298-8056-14dd0c3088ca",
   "metadata": {},
   "outputs": [
    {
     "data": {
      "text/plain": [
       "dtype('float64')"
      ]
     },
     "execution_count": 50,
     "metadata": {},
     "output_type": "execute_result"
    }
   ],
   "source": [
    "# cut inventory in half\n",
    "(inventory / 2).dtype"
   ]
  },
  {
   "cell_type": "code",
   "execution_count": 51,
   "id": "8d7c3a23-99b2-408c-a506-81cb9743ff82",
   "metadata": {},
   "outputs": [
    {
     "data": {
      "text/plain": [
       "array([0.89, 8.82, 7.32, 7.32, 5.62, 3.4 , 0.63, 3.57, 2.03, 4.31])"
      ]
     },
     "execution_count": 51,
     "metadata": {},
     "output_type": "execute_result"
    }
   ],
   "source": [
    "# random number of price\n",
    "price = (rng.random(10) * 10).round(2)\n",
    "\n",
    "price"
   ]
  },
  {
   "cell_type": "code",
   "execution_count": 52,
   "id": "283b6a0d-0197-4fdb-880d-9f212044a9ef",
   "metadata": {},
   "outputs": [
    {
     "data": {
      "text/plain": [
       "array([ 34.71, 343.98, 680.76, 629.52, 269.76, 156.4 ,  30.24, 107.1 ,\n",
       "        22.33, 245.67])"
      ]
     },
     "execution_count": 52,
     "metadata": {},
     "output_type": "execute_result"
    }
   ],
   "source": [
    "# calculate profit\n",
    "price * inventory"
   ]
  },
  {
   "cell_type": "code",
   "execution_count": 53,
   "id": "69aef715-25b7-43cc-a57c-186f6efe442d",
   "metadata": {},
   "outputs": [
    {
     "data": {
      "text/plain": [
       "2520.4700000000003"
      ]
     },
     "execution_count": 53,
     "metadata": {},
     "output_type": "execute_result"
    }
   ],
   "source": [
    "# use sum to get total inventory\n",
    "(price * inventory).sum()"
   ]
  },
  {
   "cell_type": "code",
   "execution_count": 54,
   "id": "f76196cc-9357-48b2-85a9-c8d16f80b479",
   "metadata": {},
   "outputs": [
    {
     "data": {
      "text/plain": [
       "[39, 39, 93, 86, 48, 46, 48, 30, 11, 57]"
      ]
     },
     "execution_count": 54,
     "metadata": {},
     "output_type": "execute_result"
    }
   ],
   "source": [
    "# convert inventory to list\n",
    "inventory_list = list(inventory)\n",
    "\n",
    "# base python list\n",
    "inventory_list"
   ]
  },
  {
   "cell_type": "code",
   "execution_count": 55,
   "id": "c2bf5460-d8cb-49d3-8e64-1495499fcac1",
   "metadata": {},
   "outputs": [
    {
     "data": {
      "text/plain": [
       "[41, 41, 95, 88, 50, 48, 50, 32, 13, 59]"
      ]
     },
     "execution_count": 55,
     "metadata": {},
     "output_type": "execute_result"
    }
   ],
   "source": [
    "# add 2 to each element in the list in base python\n",
    "\n",
    "# method 1: use for loop and append +2\n",
    "# create empty list\n",
    "new_inventory = []\n",
    "\n",
    "# create loop to append 2 to each element in list\n",
    "for x in inventory_list:\n",
    "    new_inventory.append(x + 2)\n",
    "    \n",
    "new_inventory"
   ]
  },
  {
   "cell_type": "code",
   "execution_count": 56,
   "id": "bab58acf-db8c-44ad-8bf2-70af8b43fb7c",
   "metadata": {},
   "outputs": [
    {
     "data": {
      "text/plain": [
       "[41, 41, 95, 88, 50, 48, 50, 32, 13, 59]"
      ]
     },
     "execution_count": 56,
     "metadata": {},
     "output_type": "execute_result"
    }
   ],
   "source": [
    "# method 2: use list comprehension to add +2\n",
    "[x + 2 for x in inventory_list]"
   ]
  },
  {
   "cell_type": "code",
   "execution_count": 57,
   "id": "6d952040-c06a-4058-bb07-9ff56b440b59",
   "metadata": {},
   "outputs": [
    {
     "data": {
      "text/plain": [
       "[34.71,\n",
       " 343.98,\n",
       " 680.76,\n",
       " 629.52,\n",
       " 269.76,\n",
       " 156.4,\n",
       " 30.240000000000002,\n",
       " 107.1,\n",
       " 22.33,\n",
       " 245.67]"
      ]
     },
     "execution_count": 57,
     "metadata": {},
     "output_type": "execute_result"
    }
   ],
   "source": [
    "# multiply price x inventory in a list\n",
    "\n",
    "[x * y for x, y in zip(inventory_list, price)]"
   ]
  },
  {
   "cell_type": "code",
   "execution_count": 58,
   "id": "35b259fe-79ef-41be-a62c-3c16df944ba8",
   "metadata": {},
   "outputs": [
    {
     "data": {
      "text/plain": [
       "array([41, 41, 95, 88, 50, 48, 50, 32, 13, 59])"
      ]
     },
     "execution_count": 58,
     "metadata": {},
     "output_type": "execute_result"
    }
   ],
   "source": [
    "# numpy operators are more concise and efficient in code\n",
    "inventory + 2"
   ]
  },
  {
   "cell_type": "markdown",
   "id": "6e9ae36a",
   "metadata": {},
   "source": [
    "# Assignment 4: Arithmetic Operations"
   ]
  },
  {
   "cell_type": "markdown",
   "id": "b7283da4",
   "metadata": {},
   "source": [
    "The creativity of our marketing team knows no bounds!\n",
    "\n",
    "They've asked us to come up with a simple algorithm to provide a random discount to our list of prices below. \n",
    "\n",
    "Before we do that, \n",
    "\n",
    "* Add a 5 dollar shipping fee to each price. Call this array `total`.\n",
    "\n",
    "Once we have that, we want to use the random_array created in assignment 2 and apply them to the 6 prices.\n",
    "\n",
    "* Grab the first 6 numbers from `random_array`, reshape it to one dimension. Call this `discount_pct`.\n",
    "* Subtract `discount_pct` FROM 1, store this in `pct_owed`.\n",
    "* Multiply `pct_owed` by `total` to get the final amount owed."
   ]
  },
  {
   "cell_type": "code",
   "execution_count": 59,
   "id": "f44773da",
   "metadata": {},
   "outputs": [],
   "source": [
    "prices = np.array([5.99, 6.99, 22.49, 99.99, 4.99, 49.99])"
   ]
  },
  {
   "cell_type": "code",
   "execution_count": 60,
   "id": "9171609a",
   "metadata": {},
   "outputs": [
    {
     "data": {
      "text/plain": [
       "array([ 10.99,  11.99,  27.49, 104.99,   9.99,  54.99])"
      ]
     },
     "execution_count": 60,
     "metadata": {},
     "output_type": "execute_result"
    }
   ],
   "source": [
    "# add 5 dollar shipping fee to each price\n",
    "total = prices + 5\n",
    "\n",
    "total"
   ]
  },
  {
   "cell_type": "code",
   "execution_count": 61,
   "id": "a06dbc29",
   "metadata": {},
   "outputs": [
    {
     "data": {
      "text/plain": [
       "array([0.24742606, 0.09299006, 0.61176337, 0.06066207, 0.66103343,\n",
       "       0.75515778])"
      ]
     },
     "execution_count": 61,
     "metadata": {},
     "output_type": "execute_result"
    }
   ],
   "source": [
    "# grab first 6 numbers from random array and reshape to 1 dimension\n",
    "# slice first 2 rows and all columns\n",
    "discount_pct = random_array[:2,:].reshape(6)\n",
    "\n",
    "discount_pct"
   ]
  },
  {
   "cell_type": "code",
   "execution_count": 62,
   "id": "a5187989-60f7-4778-9df8-6e63b57445b8",
   "metadata": {},
   "outputs": [
    {
     "data": {
      "text/plain": [
       "array([0.75257394, 0.90700994, 0.38823663, 0.93933793, 0.33896657,\n",
       "       0.24484222])"
      ]
     },
     "execution_count": 62,
     "metadata": {},
     "output_type": "execute_result"
    }
   ],
   "source": [
    "# calculate percentage owed\n",
    "pct_owed = 1 - discount_pct\n",
    "\n",
    "pct_owed"
   ]
  },
  {
   "cell_type": "code",
   "execution_count": 63,
   "id": "2dd3fd80-2dd0-4084-ab51-8b6560d0dd56",
   "metadata": {},
   "outputs": [
    {
     "data": {
      "text/plain": [
       "array([ 8.27, 10.88, 10.67, 98.62,  3.39, 13.46])"
      ]
     },
     "execution_count": 63,
     "metadata": {},
     "output_type": "execute_result"
    }
   ],
   "source": [
    "# final amount owed\n",
    "final_owed = pct_owed * total\n",
    "\n",
    "final_owed.round(2)"
   ]
  },
  {
   "cell_type": "code",
   "execution_count": 64,
   "id": "e89e47fd-26fe-4af7-82f2-a4262ed6f45c",
   "metadata": {},
   "outputs": [
    {
     "data": {
      "text/plain": [
       "array([ 8.27, 10.88, 10.67, 98.62,  3.39, 13.46])"
      ]
     },
     "execution_count": 64,
     "metadata": {},
     "output_type": "execute_result"
    }
   ],
   "source": [
    "# combine logic into a single operation\n",
    "\n",
    "((1 - random_array[:2,:].reshape(6)) * total).round(2)"
   ]
  },
  {
   "cell_type": "code",
   "execution_count": 65,
   "id": "ca5a91dc-524b-4043-8d0a-d4e99cd1528e",
   "metadata": {},
   "outputs": [
    {
     "name": "stdout",
     "output_type": "stream",
     "text": [
      "Discount %: [0.24742606 0.09299006 0.61176337 0.06066207 0.66103343 0.75515778]\n",
      "% Owed: [0.75257394 0.90700994 0.38823663 0.93933793 0.33896657 0.24484222]\n",
      "Total price: [ 10.99  11.99  27.49 104.99   9.99  54.99]\n",
      "Final Owed: [ 8.27 10.88 10.67 98.62  3.39 13.46]\n"
     ]
    }
   ],
   "source": [
    "# final results\n",
    "print(f\"Discount %: {discount_pct}\")\n",
    "print(f\"% Owed: {pct_owed}\")\n",
    "print(f\"Total price: {total}\")\n",
    "print(f\"Final Owed: {final_owed.round(2)}\")"
   ]
  },
  {
   "cell_type": "markdown",
   "id": "48f52a49-adc7-43ff-8588-fa1d675a4ec7",
   "metadata": {},
   "source": [
    "# Filtering Arrays"
   ]
  },
  {
   "cell_type": "markdown",
   "id": "ea8099bc-5d72-40dc-8dc4-36147673cf36",
   "metadata": {},
   "source": [
    "Filter arrays by indexing them with a logical test"
   ]
  },
  {
   "cell_type": "code",
   "execution_count": 66,
   "id": "48a412c9-fa08-468b-bd33-b6e339b67b5c",
   "metadata": {},
   "outputs": [
    {
     "data": {
      "text/plain": [
       "array([[   0,    5,  155,    0,  518],\n",
       "       [   0, 1827,  616,  317,  325]])"
      ]
     },
     "execution_count": 66,
     "metadata": {},
     "output_type": "execute_result"
    }
   ],
   "source": [
    "sales_array"
   ]
  },
  {
   "cell_type": "code",
   "execution_count": 67,
   "id": "7d358a5a-8361-4845-a6fd-3ae923a6efbe",
   "metadata": {},
   "outputs": [
    {
     "data": {
      "text/plain": [
       "array([[False,  True,  True, False,  True],\n",
       "       [False,  True,  True,  True,  True]])"
      ]
     },
     "execution_count": 67,
     "metadata": {},
     "output_type": "execute_result"
    }
   ],
   "source": [
    "# perform a logical test on the array to return a Boolean array witht eh results of the lofical test\n",
    "sales_array != 0"
   ]
  },
  {
   "cell_type": "code",
   "execution_count": 68,
   "id": "34db8cdc-8f4e-4137-9605-2a058c3e9932",
   "metadata": {},
   "outputs": [
    {
     "data": {
      "text/plain": [
       "array([   5,  155,  518, 1827,  616,  317,  325])"
      ]
     },
     "execution_count": 68,
     "metadata": {},
     "output_type": "execute_result"
    }
   ],
   "source": [
    "# index an array with a Boolean array returns an array with the elements where Boolean value is True\n",
    "sales_array[sales_array != 0]"
   ]
  },
  {
   "cell_type": "markdown",
   "id": "da6c820b-6bb8-4b7a-b03f-dbefd6b47f0a",
   "metadata": {},
   "source": [
    "Filter with multiple logical tests\n",
    "- use | for OR conditions and & for AND conditions"
   ]
  },
  {
   "cell_type": "code",
   "execution_count": 69,
   "id": "970d7384-678b-4278-8f3b-f24cd7a2a4c6",
   "metadata": {},
   "outputs": [
    {
     "data": {
      "text/plain": [
       "array([  0,   5,   0,   0, 616])"
      ]
     },
     "execution_count": 69,
     "metadata": {},
     "output_type": "execute_result"
    }
   ],
   "source": [
    "# return an array with elements equal to 616 or less than 100\n",
    "sales_array[(sales_array == 616) | (sales_array < 100)]"
   ]
  },
  {
   "cell_type": "code",
   "execution_count": 70,
   "id": "c41997f9-696a-4f5e-881a-6a5596a295ad",
   "metadata": {},
   "outputs": [
    {
     "data": {
      "text/plain": [
       "array([155, 317, 325])"
      ]
     },
     "execution_count": 70,
     "metadata": {},
     "output_type": "execute_result"
    }
   ],
   "source": [
    "# return an array with elements greater than 100 AND less than 500, not inclusive\n",
    "sales_array[(sales_array >100) & (sales_array <500)]"
   ]
  },
  {
   "cell_type": "code",
   "execution_count": 71,
   "id": "2570a263-2b86-4bae-9d34-3cc169985506",
   "metadata": {},
   "outputs": [
    {
     "data": {
      "text/plain": [
       "array([155, 317, 325])"
      ]
     },
     "execution_count": 71,
     "metadata": {},
     "output_type": "execute_result"
    }
   ],
   "source": [
    "# assign complex logical statement to a variable named Boolean 'mask'\n",
    "mask = (sales_array > 100) & (sales_array < 500)\n",
    "\n",
    "# returns when boolean test returns true\n",
    "sales_array[mask]"
   ]
  },
  {
   "cell_type": "markdown",
   "id": "b3d4220e-7986-4b2b-95bc-50284fd40896",
   "metadata": {},
   "source": [
    "Filter arrays based on values in other arrays\n",
    "- use boolean array returned from the other array to index the array you want to filter\n",
    "- **remember**: both arrays dimension and size needs to be the same"
   ]
  },
  {
   "cell_type": "code",
   "execution_count": 72,
   "id": "d6b25e08-aadd-4890-badf-d648cd748193",
   "metadata": {},
   "outputs": [
    {
     "data": {
      "text/plain": [
       "array([  0,   5, 155,   0, 518])"
      ]
     },
     "execution_count": 72,
     "metadata": {},
     "output_type": "execute_result"
    }
   ],
   "source": [
    "sales_array2 = sales_array[0]\n",
    "\n",
    "sales_array2"
   ]
  },
  {
   "cell_type": "code",
   "execution_count": 73,
   "id": "ad2e24a6-834e-4bbf-a21d-b89ed0f03695",
   "metadata": {},
   "outputs": [
    {
     "data": {
      "text/plain": [
       "array(['fruits', 'vegetables', 'cereal', 'dairy', 'eggs'], dtype='<U10')"
      ]
     },
     "execution_count": 73,
     "metadata": {},
     "output_type": "execute_result"
    }
   ],
   "source": [
    "product_array2 = product_array[:5]\n",
    "\n",
    "product_array2"
   ]
  },
  {
   "cell_type": "code",
   "execution_count": 74,
   "id": "80547305-7935-411e-bb98-38fcce023ca8",
   "metadata": {},
   "outputs": [
    {
     "data": {
      "text/plain": [
       "array(['vegetables', 'cereal', 'eggs'], dtype='<U10')"
      ]
     },
     "execution_count": 74,
     "metadata": {},
     "output_type": "execute_result"
    }
   ],
   "source": [
    "# filter an array with products greater than 0 sales\n",
    "product_array2[sales_array2 > 0]"
   ]
  },
  {
   "cell_type": "markdown",
   "id": "486a8021-a869-4197-9028-176510a895da",
   "metadata": {},
   "source": [
    "# Modify array values by assigning new ones"
   ]
  },
  {
   "cell_type": "code",
   "execution_count": 75,
   "id": "ef0c9530-665f-424b-91d9-0cf42a507361",
   "metadata": {},
   "outputs": [
    {
     "data": {
      "text/plain": [
       "array([  0,   5, 155,   0, 518])"
      ]
     },
     "execution_count": 75,
     "metadata": {},
     "output_type": "execute_result"
    }
   ],
   "source": [
    "sales_array2"
   ]
  },
  {
   "cell_type": "code",
   "execution_count": 76,
   "id": "56c177af-e426-4f20-ad8a-36ea701cead7",
   "metadata": {},
   "outputs": [
    {
     "data": {
      "text/plain": [
       "array([  0,  25, 155,   0, 518])"
      ]
     },
     "execution_count": 76,
     "metadata": {},
     "output_type": "execute_result"
    }
   ],
   "source": [
    "sales_array2[1] = 25\n",
    "\n",
    "sales_array2"
   ]
  },
  {
   "cell_type": "code",
   "execution_count": 79,
   "id": "008d73ab-70b7-434f-8fd5-076a59f1831b",
   "metadata": {},
   "outputs": [
    {
     "data": {
      "text/plain": [
       "array([ 0,  1,  2,  3,  4,  5,  6,  7,  8,  9, 10, 11, 12, 13, 14, 15, 16,\n",
       "       17, 18, 19])"
      ]
     },
     "execution_count": 79,
     "metadata": {},
     "output_type": "execute_result"
    }
   ],
   "source": [
    "my_array = np.arange(20)\n",
    "\n",
    "my_array"
   ]
  },
  {
   "cell_type": "code",
   "execution_count": 81,
   "id": "f69bcda0-c5e5-4149-a1e2-071b03e8b96d",
   "metadata": {},
   "outputs": [
    {
     "data": {
      "text/plain": [
       "array([ True, False,  True, False,  True, False,  True, False,  True,\n",
       "       False,  True, False,  True, False,  True, False,  True, False,\n",
       "        True, False])"
      ]
     },
     "execution_count": 81,
     "metadata": {},
     "output_type": "execute_result"
    }
   ],
   "source": [
    "# logical test to return True\n",
    "# if remainder of dividing by 2 is equal to 0 = True\n",
    "my_array % 2 == 0"
   ]
  },
  {
   "cell_type": "code",
   "execution_count": 82,
   "id": "db457537-5d9f-4dba-aeb5-08ef3e82f5e9",
   "metadata": {},
   "outputs": [
    {
     "data": {
      "text/plain": [
       "array([ 0,  2,  4,  6,  8, 10, 12, 14, 16, 18])"
      ]
     },
     "execution_count": 82,
     "metadata": {},
     "output_type": "execute_result"
    }
   ],
   "source": [
    "# filter array based on logical test\n",
    "my_array[my_array % 2 == 0]"
   ]
  },
  {
   "cell_type": "code",
   "execution_count": 86,
   "id": "8568b398-0778-4430-b4e7-32e22ad07d36",
   "metadata": {},
   "outputs": [
    {
     "data": {
      "text/plain": [
       "array(['even', 'odd', 'even', 'odd', 'even', 'odd', 'even', 'odd', 'even',\n",
       "       'odd', 'even', 'odd', 'even', 'odd', 'even', 'odd', 'even', 'odd',\n",
       "       'even', 'odd'], dtype='<U4')"
      ]
     },
     "execution_count": 86,
     "metadata": {},
     "output_type": "execute_result"
    }
   ],
   "source": [
    "# create an even odd array\n",
    "even_odd = np.array(['even', 'odd'] * 10)\n",
    "\n",
    "even_odd"
   ]
  },
  {
   "cell_type": "code",
   "execution_count": 87,
   "id": "15847c85-b6f4-4323-baea-8554b76cd7b6",
   "metadata": {},
   "outputs": [
    {
     "data": {
      "text/plain": [
       "array([ True, False,  True, False,  True, False,  True, False,  True,\n",
       "       False,  True, False,  True, False,  True, False,  True, False,\n",
       "        True, False])"
      ]
     },
     "execution_count": 87,
     "metadata": {},
     "output_type": "execute_result"
    }
   ],
   "source": [
    "# define logical test\n",
    "even_odd != 'odd'"
   ]
  },
  {
   "cell_type": "code",
   "execution_count": 89,
   "id": "ff5206b3-b781-41e5-a9a7-80d0e0706ffb",
   "metadata": {},
   "outputs": [
    {
     "data": {
      "text/plain": [
       "array(['even', 'even', 'even', 'even', 'even', 'even', 'even', 'even',\n",
       "       'even', 'even'], dtype='<U4')"
      ]
     },
     "execution_count": 89,
     "metadata": {},
     "output_type": "execute_result"
    }
   ],
   "source": [
    "# return even elements only\n",
    "even_odd[even_odd != 'odd']"
   ]
  },
  {
   "cell_type": "code",
   "execution_count": 92,
   "id": "d5dcc65c-2026-4617-a998-d98dffd2fc8e",
   "metadata": {},
   "outputs": [
    {
     "data": {
      "text/plain": [
       "array([ 0,  1,  0,  3,  0,  5,  0,  7,  0,  9,  0, 11,  0, 13,  0, 15,  0,\n",
       "       17,  0, 19])"
      ]
     },
     "execution_count": 92,
     "metadata": {},
     "output_type": "execute_result"
    }
   ],
   "source": [
    "# set even numbers in array equal to zero; use logic to modify arrays\n",
    "my_array[even_odd != 'odd'] = 0\n",
    "\n",
    "my_array"
   ]
  },
  {
   "cell_type": "code",
   "execution_count": 94,
   "id": "3ba14647-88a8-4110-ba6a-f1e490a89e24",
   "metadata": {},
   "outputs": [
    {
     "data": {
      "text/plain": [
       "array([ 0,  1,  2,  3,  0,  5,  0,  7,  0,  9,  0, 11,  0, 13,  0, 15,  0,\n",
       "       17,  0, 19])"
      ]
     },
     "execution_count": 94,
     "metadata": {},
     "output_type": "execute_result"
    }
   ],
   "source": [
    "# set even numbers in array equal to zero; use logic to modify arrays\n",
    "my_array[2] = 2\n",
    "\n",
    "my_array"
   ]
  },
  {
   "cell_type": "code",
   "execution_count": 98,
   "id": "a2b40529-cb61-4d9c-ac94-b261f3ae0be3",
   "metadata": {},
   "outputs": [
    {
     "data": {
      "text/plain": [
       "array(['even', 'odd', 'even', 'odd', 'even', 'odd', 'even', 'odd', 'even',\n",
       "       'odd', 'even', 'odd', 'even', 'odd', 'even', 'odd', 'even', 'odd',\n",
       "       'even', 'odd'], dtype='<U4')"
      ]
     },
     "execution_count": 98,
     "metadata": {},
     "output_type": "execute_result"
    }
   ],
   "source": [
    "# two logial test or condition\n",
    "mask = (even_odd != 'odd') | (even_odd != 'even')\n",
    "even_odd[mask]"
   ]
  },
  {
   "cell_type": "markdown",
   "id": "31fbb45c-ab4f-4f86-aca2-809395f579a1",
   "metadata": {},
   "source": [
    "# Where Function"
   ]
  },
  {
   "cell_type": "markdown",
   "id": "3dd3ac36-ee3f-4f22-826a-e6aae8ac212f",
   "metadata": {},
   "source": [
    "where() NumPy function performs a logical test and returns a given value if the test is True, or another if the test if False\n",
    "\n",
    "np.where(logical test, value if True, value if False)"
   ]
  },
  {
   "cell_type": "code",
   "execution_count": 101,
   "id": "2b746c96-5fde-43ae-8ecb-06fa7c15c0ff",
   "metadata": {},
   "outputs": [
    {
     "data": {
      "text/plain": [
       "array([ 12, 102,  18,   0,   0])"
      ]
     },
     "execution_count": 101,
     "metadata": {},
     "output_type": "execute_result"
    }
   ],
   "source": [
    "# create inventory array\n",
    "inventory = [12, 102, 18, 0, 0]\n",
    "\n",
    "inventory_array = np.array(inventory)\n",
    "\n",
    "inventory_array"
   ]
  },
  {
   "cell_type": "code",
   "execution_count": 103,
   "id": "8e66e805-4691-4f7c-9bd2-8208c6414477",
   "metadata": {},
   "outputs": [
    {
     "data": {
      "text/plain": [
       "array(['fruits', 'vegetables', 'cereal', 'dairy', 'eggs'], dtype='<U10')"
      ]
     },
     "execution_count": 103,
     "metadata": {},
     "output_type": "execute_result"
    }
   ],
   "source": [
    "product_array2"
   ]
  },
  {
   "cell_type": "code",
   "execution_count": 105,
   "id": "5d95a17e-707a-4752-9e78-a3129a8aac2a",
   "metadata": {},
   "outputs": [
    {
     "data": {
      "text/plain": [
       "array(['In Stock', 'In Stock', 'In Stock', 'Out of Stock', 'Out of Stock'],\n",
       "      dtype='<U12')"
      ]
     },
     "execution_count": 105,
     "metadata": {},
     "output_type": "execute_result"
    }
   ],
   "source": [
    "# logical test if inventory is <= 0, then assign \"out of stock\", if else, assign \"in stock\"\n",
    "np.where(inventory_array <=0, \"Out of Stock\", \"In Stock\")"
   ]
  },
  {
   "cell_type": "code",
   "execution_count": 107,
   "id": "37d4e808-e91d-495e-bb8e-18f25f0fe338",
   "metadata": {},
   "outputs": [
    {
     "data": {
      "text/plain": [
       "array([ 0,  1,  2,  3,  0,  5,  0,  7,  0,  9,  0, 11,  0, 13,  0, 15,  0,\n",
       "       17,  0, 19])"
      ]
     },
     "execution_count": 107,
     "metadata": {},
     "output_type": "execute_result"
    }
   ],
   "source": [
    "my_array"
   ]
  },
  {
   "cell_type": "code",
   "execution_count": 106,
   "id": "b9b59d20-0280-4591-bfe2-4074f6d1bb99",
   "metadata": {},
   "outputs": [
    {
     "data": {
      "text/plain": [
       "array(['even', 'odd', 'even', 'odd', 'even', 'odd', 'even', 'odd', 'even',\n",
       "       'odd', 'even', 'odd', 'even', 'odd', 'even', 'odd', 'even', 'odd',\n",
       "       'even', 'odd'], dtype='<U4')"
      ]
     },
     "execution_count": 106,
     "metadata": {},
     "output_type": "execute_result"
    }
   ],
   "source": [
    "np.where(my_array % 2 ==0, 'even', 'odd')"
   ]
  },
  {
   "cell_type": "code",
   "execution_count": 109,
   "id": "94220437-17f2-46ef-8b1f-2b60987e2bbe",
   "metadata": {},
   "outputs": [
    {
     "data": {
      "text/plain": [
       "array(['even', 'odd', 'even', 'odd', 'even', 'odd', 'even', 'odd', 'even',\n",
       "       '9', 'even', 'odd', 'even', 'odd', 'even', 'odd', 'even', 'odd',\n",
       "       'even', 'odd'], dtype='<U21')"
      ]
     },
     "execution_count": 109,
     "metadata": {},
     "output_type": "execute_result"
    }
   ],
   "source": [
    "# assign 9 if remainder is 9\n",
    "np.where(my_array % 2 == 0, 'even', np.where(my_array == 9, my_array, 'odd'))"
   ]
  },
  {
   "cell_type": "markdown",
   "id": "30400903",
   "metadata": {},
   "source": [
    "# Assignment 5: Filtering Arrays\n",
    "\n",
    "Filter the product array to only include those with prices greater than 25.\n",
    "\n",
    "Modify your logic to include cola, despite it not having a price greater than 25. \n",
    "Store the elements returned in an array called `fancy_feast_special`.\n",
    "\n",
    "Next, create a shipping cost array where the cost is 0 if price is greater than 20, and 5 if not. "
   ]
  },
  {
   "cell_type": "code",
   "execution_count": 110,
   "id": "c144c432",
   "metadata": {},
   "outputs": [
    {
     "data": {
      "text/plain": [
       "array(['salad', 'bread', 'mustard', 'rare tomato', 'cola',\n",
       "       'gourmet ice cream'], dtype='<U17')"
      ]
     },
     "execution_count": 110,
     "metadata": {},
     "output_type": "execute_result"
    }
   ],
   "source": [
    "products = np.array(\n",
    "    [\"salad\", \"bread\", \"mustard\", \"rare tomato\", \"cola\", \"gourmet ice cream\"]\n",
    ")\n",
    "\n",
    "products"
   ]
  },
  {
   "cell_type": "code",
   "execution_count": 114,
   "id": "fbb73f0f-c27f-4ef8-889b-b5b05deb5595",
   "metadata": {},
   "outputs": [
    {
     "data": {
      "text/plain": [
       "array([ 5.99,  6.99, 22.49, 99.99,  4.99, 49.99])"
      ]
     },
     "execution_count": 114,
     "metadata": {},
     "output_type": "execute_result"
    }
   ],
   "source": [
    "prices"
   ]
  },
  {
   "cell_type": "code",
   "execution_count": 115,
   "id": "ba1b077b",
   "metadata": {},
   "outputs": [
    {
     "data": {
      "text/plain": [
       "array(['rare tomato', 'gourmet ice cream'], dtype='<U17')"
      ]
     },
     "execution_count": 115,
     "metadata": {},
     "output_type": "execute_result"
    }
   ],
   "source": [
    "products[prices > 25]"
   ]
  },
  {
   "cell_type": "code",
   "execution_count": 119,
   "id": "4002705c",
   "metadata": {},
   "outputs": [
    {
     "data": {
      "text/plain": [
       "array(['rare tomato', 'cola', 'gourmet ice cream'], dtype='<U17')"
      ]
     },
     "execution_count": 119,
     "metadata": {},
     "output_type": "execute_result"
    }
   ],
   "source": [
    "mask = (prices > 25) | (products == 'cola')\n",
    "\n",
    "fancy_feast_special = products[mask]\n",
    "\n",
    "fancy_feast_special"
   ]
  },
  {
   "cell_type": "code",
   "execution_count": 122,
   "id": "4a8368d4",
   "metadata": {},
   "outputs": [
    {
     "data": {
      "text/plain": [
       "array([5, 5, 0, 0, 5, 0])"
      ]
     },
     "execution_count": 122,
     "metadata": {},
     "output_type": "execute_result"
    }
   ],
   "source": [
    "shipping_cost = np.where(prices > 20, 0, 5)\n",
    "\n",
    "shipping_cost"
   ]
  },
  {
   "cell_type": "markdown",
   "id": "88a8dca0-beb7-48bb-b901-75e155f71171",
   "metadata": {},
   "source": [
    "# Array Aggregation Methods"
   ]
  },
  {
   "cell_type": "markdown",
   "id": "35c35eec-31ca-4945-8b89-d0b66547ffc4",
   "metadata": {},
   "source": [
    "Array aggregation methods let you calculate metrics like sum, mean and max\n",
    "\n",
    "- array.sum() = returns the sum of all values in an array\n",
    "- array.max() = returns the max of all values in an array\n",
    "- array.min() = returns the smallest value in an array\n",
    "- array.mean() = returns the average of the values in an array"
   ]
  },
  {
   "cell_type": "code",
   "execution_count": 123,
   "id": "f89b8549-9a00-4f5b-9c72-f9333f084077",
   "metadata": {},
   "outputs": [
    {
     "data": {
      "text/plain": [
       "array([3.97, 8.66, 4.6 , 3.06, 5.74, 0.89, 8.82, 7.32, 7.32, 5.62])"
      ]
     },
     "execution_count": 123,
     "metadata": {},
     "output_type": "execute_result"
    }
   ],
   "source": [
    "rng = np.random.default_rng(616)\n",
    "\n",
    "price = (rng.random(10) * 10).round(2)\n",
    "\n",
    "price"
   ]
  },
  {
   "cell_type": "code",
   "execution_count": 126,
   "id": "cc7a586d-1ff4-4429-9b0d-5ba9bd37f0a1",
   "metadata": {},
   "outputs": [
    {
     "data": {
      "text/plain": [
       "array([52, 89,  4, 66, 16, 72,  9, 76, 64,  2])"
      ]
     },
     "execution_count": 126,
     "metadata": {},
     "output_type": "execute_result"
    }
   ],
   "source": [
    "inventory = rng.integers(0, 100, 10)\n",
    "\n",
    "inventory"
   ]
  },
  {
   "cell_type": "code",
   "execution_count": 127,
   "id": "5aa2a3f7-f03b-4095-bf57-a8fc4818c629",
   "metadata": {},
   "outputs": [
    {
     "data": {
      "text/plain": [
       "45.0"
      ]
     },
     "execution_count": 127,
     "metadata": {},
     "output_type": "execute_result"
    }
   ],
   "source": [
    "inventory.mean()"
   ]
  },
  {
   "cell_type": "code",
   "execution_count": 128,
   "id": "9e708131-0408-4548-a375-a72354d5939d",
   "metadata": {},
   "outputs": [
    {
     "data": {
      "text/plain": [
       "31.849646779831012"
      ]
     },
     "execution_count": 128,
     "metadata": {},
     "output_type": "execute_result"
    }
   ],
   "source": [
    "inventory.std()"
   ]
  },
  {
   "cell_type": "code",
   "execution_count": 131,
   "id": "1e4196c3-3ee0-45e4-ad95-965c949f5b7f",
   "metadata": {},
   "outputs": [
    {
     "data": {
      "text/plain": [
       "array([206.44, 770.74,  18.4 , 201.96,  91.84,  64.08,  79.38, 556.32,\n",
       "       468.48,  11.24])"
      ]
     },
     "execution_count": 131,
     "metadata": {},
     "output_type": "execute_result"
    }
   ],
   "source": [
    "# calculate revenue\n",
    "(price * inventory)"
   ]
  },
  {
   "cell_type": "code",
   "execution_count": 132,
   "id": "65125243-092e-4139-8fbe-f0fb2414b6ae",
   "metadata": {},
   "outputs": [
    {
     "data": {
      "text/plain": [
       "2468.88"
      ]
     },
     "execution_count": 132,
     "metadata": {},
     "output_type": "execute_result"
    }
   ],
   "source": [
    "# sum of total revenue\n",
    "(price * inventory).sum()"
   ]
  },
  {
   "cell_type": "code",
   "execution_count": 133,
   "id": "ea7e6536-6bb0-4ba7-a3e9-46fb1402e7ac",
   "metadata": {},
   "outputs": [
    {
     "data": {
      "text/plain": [
       "9"
      ]
     },
     "execution_count": 133,
     "metadata": {},
     "output_type": "execute_result"
    }
   ],
   "source": [
    "# index of least valuable product\n",
    "(price * inventory).argmin()"
   ]
  },
  {
   "cell_type": "code",
   "execution_count": 134,
   "id": "e268d083-5abe-41ec-8491-18b00082bc0c",
   "metadata": {},
   "outputs": [
    {
     "data": {
      "text/plain": [
       "1"
      ]
     },
     "execution_count": 134,
     "metadata": {},
     "output_type": "execute_result"
    }
   ],
   "source": [
    "# index of most valuable product\n",
    "(price * inventory).argmax()"
   ]
  },
  {
   "cell_type": "code",
   "execution_count": 135,
   "id": "8b60daeb-33af-43db-87b0-c620129451ed",
   "metadata": {},
   "outputs": [
    {
     "data": {
      "text/plain": [
       "array([[3.97, 8.66],\n",
       "       [4.6 , 3.06],\n",
       "       [5.74, 0.89],\n",
       "       [8.82, 7.32],\n",
       "       [7.32, 5.62]])"
      ]
     },
     "execution_count": 135,
     "metadata": {},
     "output_type": "execute_result"
    }
   ],
   "source": [
    "# aggregate two dimension arrays\n",
    "\n",
    "price_2d = price.reshape(5, 2)\n",
    "\n",
    "price_2d"
   ]
  },
  {
   "cell_type": "code",
   "execution_count": 136,
   "id": "17f4aee6-1ca1-4618-8064-d48d89008384",
   "metadata": {},
   "outputs": [
    {
     "data": {
      "text/plain": [
       "array([30.45, 25.55])"
      ]
     },
     "execution_count": 136,
     "metadata": {},
     "output_type": "execute_result"
    }
   ],
   "source": [
    "# sum of all rows in first and second column\n",
    "price_2d.sum(axis=0)"
   ]
  },
  {
   "cell_type": "code",
   "execution_count": 137,
   "id": "a366de41-6d62-451b-80ba-7d24adc1a3d6",
   "metadata": {},
   "outputs": [
    {
     "data": {
      "text/plain": [
       "array([12.63,  7.66,  6.63, 16.14, 12.94])"
      ]
     },
     "execution_count": 137,
     "metadata": {},
     "output_type": "execute_result"
    }
   ],
   "source": [
    "# sum across all columns in each row\n",
    "price_2d.sum(axis=1)"
   ]
  },
  {
   "cell_type": "markdown",
   "id": "9aabf3a8-77da-4e6a-bee9-a72101881a99",
   "metadata": {},
   "source": [
    "# Array Functions"
   ]
  },
  {
   "cell_type": "markdown",
   "id": "b8d52394-13b2-4332-98ea-28ddf457812d",
   "metadata": {},
   "source": [
    "Array functions let you perform other aggregations like median and percentiles"
   ]
  },
  {
   "cell_type": "code",
   "execution_count": 138,
   "id": "08e8e34c-a591-46b8-bc7e-a86daf791aa8",
   "metadata": {},
   "outputs": [
    {
     "data": {
      "text/plain": [
       "236.0"
      ]
     },
     "execution_count": 138,
     "metadata": {},
     "output_type": "execute_result"
    }
   ],
   "source": [
    "# returns the median value\n",
    "np.median(sales_array)"
   ]
  },
  {
   "cell_type": "code",
   "execution_count": 139,
   "id": "d9e50697-e128-4f49-8bbc-e3a7f6fcb6fc",
   "metadata": {},
   "outputs": [
    {
     "data": {
      "text/plain": [
       "737.0999999999996"
      ]
     },
     "execution_count": 139,
     "metadata": {},
     "output_type": "execute_result"
    }
   ],
   "source": [
    "# returns a value in the nth percentile in an array\n",
    "np.percentile(sales_array, 90)"
   ]
  },
  {
   "cell_type": "code",
   "execution_count": 140,
   "id": "0ed2e434-c7c0-49a8-bb5e-e8b244bf5bbf",
   "metadata": {},
   "outputs": [
    {
     "data": {
      "text/plain": [
       "array([   0,   25,  155,  317,  325,  518,  616, 1827])"
      ]
     },
     "execution_count": 140,
     "metadata": {},
     "output_type": "execute_result"
    }
   ],
   "source": [
    "# returns unique values\n",
    "np.unique(sales_array)"
   ]
  },
  {
   "cell_type": "code",
   "execution_count": 141,
   "id": "07c35484-082e-44be-87bd-79080b2ea279",
   "metadata": {},
   "outputs": [
    {
     "data": {
      "text/plain": [
       "array([[ 0.        ,  5.        , 12.4498996 ,  0.        , 22.75961335],\n",
       "       [ 0.        , 42.74342055, 24.81934729, 17.80449381, 18.02775638]])"
      ]
     },
     "execution_count": 141,
     "metadata": {},
     "output_type": "execute_result"
    }
   ],
   "source": [
    "# returns the square root of each value in an array\n",
    "np.sqrt(sales_array)"
   ]
  },
  {
   "cell_type": "markdown",
   "id": "90c01cff-bb57-4715-afe7-4006f39246e1",
   "metadata": {},
   "source": [
    "## Sorting Arrays"
   ]
  },
  {
   "cell_type": "markdown",
   "id": "0a015791-7204-4a44-b5b1-1560c991749c",
   "metadata": {},
   "source": [
    "sort() method will sort arrays in place\n",
    "- use the axis arguent to specify the dimension to sort by"
   ]
  },
  {
   "cell_type": "code",
   "execution_count": 144,
   "id": "67803ad9-a2ea-495d-86f2-e2f0fb16211c",
   "metadata": {},
   "outputs": [
    {
     "data": {
      "text/plain": [
       "array([[   0,    0,   25,  155,  518],\n",
       "       [   0,  317,  325,  616, 1827]])"
      ]
     },
     "execution_count": 144,
     "metadata": {},
     "output_type": "execute_result"
    }
   ],
   "source": [
    "# sort by axis = 1 by default, which sorts a two-dimensional array row by row\n",
    "sales_array.sort()\n",
    "\n",
    "sales_array\n"
   ]
  },
  {
   "cell_type": "code",
   "execution_count": 151,
   "id": "560ba083-7476-4095-b1f7-580e4955a80e",
   "metadata": {},
   "outputs": [
    {
     "data": {
      "text/plain": [
       "array([205.4 , 158.4 , 138.4 , 186.24,   6.24, 202.92, 106.44,   3.68,\n",
       "        26.15, 403.2 ])"
      ]
     },
     "execution_count": 151,
     "metadata": {},
     "output_type": "execute_result"
    }
   ],
   "source": [
    "product_value = np.array([205.4, 158.4, 138.4, 186.24, 6.24, \n",
    "                           202.92, 106.44, 3.68, 26.15, 403.2])\n",
    "\n",
    "product_value"
   ]
  },
  {
   "cell_type": "code",
   "execution_count": 152,
   "id": "02b1f0c6-2f41-4ad3-931a-71b92e2c0efd",
   "metadata": {},
   "outputs": [
    {
     "data": {
      "text/plain": [
       "array([  3.68,   6.24,  26.15, 106.44, 138.4 , 158.4 , 186.24, 202.92,\n",
       "       205.4 , 403.2 ])"
      ]
     },
     "execution_count": 152,
     "metadata": {},
     "output_type": "execute_result"
    }
   ],
   "source": [
    "# the sort FUNCTION will return a copy of the sorted array\n",
    "np.sort(product_value)"
   ]
  },
  {
   "cell_type": "code",
   "execution_count": 155,
   "id": "aec7ec48-d833-415b-b395-a49efb7c1318",
   "metadata": {},
   "outputs": [
    {
     "data": {
      "text/plain": [
       "array([  3.68,   6.24,  26.15, 106.44, 138.4 , 158.4 , 186.24, 202.92,\n",
       "       205.4 , 403.2 ])"
      ]
     },
     "execution_count": 155,
     "metadata": {},
     "output_type": "execute_result"
    }
   ],
   "source": [
    "# the sort METHOD will sort arrays in place\n",
    "product_value.sort()\n",
    "\n",
    "product_value"
   ]
  },
  {
   "cell_type": "code",
   "execution_count": 156,
   "id": "9f12ce21-a9f1-4051-af83-c369d21f62b4",
   "metadata": {},
   "outputs": [
    {
     "data": {
      "text/plain": [
       "3.68"
      ]
     },
     "execution_count": 156,
     "metadata": {},
     "output_type": "execute_result"
    }
   ],
   "source": [
    "# min\n",
    "product_value[0]"
   ]
  },
  {
   "cell_type": "code",
   "execution_count": 157,
   "id": "7def9a6b-c491-4e6c-a5f0-7635a465d40c",
   "metadata": {},
   "outputs": [
    {
     "data": {
      "text/plain": [
       "403.2"
      ]
     },
     "execution_count": 157,
     "metadata": {},
     "output_type": "execute_result"
    }
   ],
   "source": [
    "# max\n",
    "product_value[-1]"
   ]
  },
  {
   "cell_type": "code",
   "execution_count": 160,
   "id": "1468c5ea-deee-41d0-8696-a34d20a945dd",
   "metadata": {},
   "outputs": [
    {
     "data": {
      "text/plain": [
       "array([403.2 , 205.4 , 202.92, 186.24, 158.4 , 138.4 , 106.44,  26.15,\n",
       "         6.24,   3.68])"
      ]
     },
     "execution_count": 160,
     "metadata": {},
     "output_type": "execute_result"
    }
   ],
   "source": [
    "# descending order using negative step slice\n",
    "product_value[::-1]"
   ]
  },
  {
   "cell_type": "markdown",
   "id": "44ce04ed",
   "metadata": {
    "tags": []
   },
   "source": [
    "# Assignment 6: Aggregating and Sorting Arrays\n",
    "\n",
    "First, grab the top 3 highest priced items in our list. \n",
    "\n",
    "Then, calculated the mean, min, max, and median of the top three prices.\n",
    "\n",
    "Finally, calculate the number of unique price tiers in our `price_tiers` array."
   ]
  },
  {
   "cell_type": "code",
   "execution_count": 161,
   "id": "f97f4598",
   "metadata": {},
   "outputs": [
    {
     "data": {
      "text/plain": [
       "array([ 5.99,  6.99, 22.49, 99.99,  4.99, 49.99])"
      ]
     },
     "execution_count": 161,
     "metadata": {},
     "output_type": "execute_result"
    }
   ],
   "source": [
    "prices = np.array([5.99, 6.99, 22.49, 99.99, 4.99, 49.99])\n",
    "\n",
    "prices"
   ]
  },
  {
   "cell_type": "code",
   "execution_count": 182,
   "id": "c462eeef",
   "metadata": {},
   "outputs": [
    {
     "data": {
      "text/plain": [
       "array([99.99, 49.99, 22.49])"
      ]
     },
     "execution_count": 182,
     "metadata": {},
     "output_type": "execute_result"
    }
   ],
   "source": [
    "# grab the top 3 highest priced items in the list\n",
    "prices.sort()\n",
    "\n",
    "top3_prices = prices[:-4:-1]\n",
    "\n",
    "top3_prices"
   ]
  },
  {
   "cell_type": "code",
   "execution_count": 197,
   "id": "4a0b5694",
   "metadata": {},
   "outputs": [
    {
     "name": "stdout",
     "output_type": "stream",
     "text": [
      "Mean: 22.49\n",
      "Max: 99.99\n",
      "Min: 22.49\n",
      "Median: 49.99\n"
     ]
    }
   ],
   "source": [
    "print(f\"Mean: {top3_prices.min()}\")\n",
    "print(f\"Max: {top3_prices.max()}\")\n",
    "print(f\"Min: {top3_prices.min()}\")\n",
    "print(f\"Median: {np.median(top3_prices)}\")"
   ]
  },
  {
   "cell_type": "code",
   "execution_count": 189,
   "id": "b9087568",
   "metadata": {},
   "outputs": [
    {
     "data": {
      "text/plain": [
       "array(['budget', 'budget', 'mid-tier', 'luxury', 'mid-tier', 'luxury'],\n",
       "      dtype='<U8')"
      ]
     },
     "execution_count": 189,
     "metadata": {},
     "output_type": "execute_result"
    }
   ],
   "source": [
    "price_tiers = np.array([\"budget\", \"budget\", \"mid-tier\", \"luxury\", \"mid-tier\", \"luxury\"])\n",
    "\n",
    "price_tiers"
   ]
  },
  {
   "cell_type": "code",
   "execution_count": 191,
   "id": "6b6e2292",
   "metadata": {},
   "outputs": [
    {
     "data": {
      "text/plain": [
       "array(['budget', 'luxury', 'mid-tier'], dtype='<U8')"
      ]
     },
     "execution_count": 191,
     "metadata": {},
     "output_type": "execute_result"
    }
   ],
   "source": [
    "np.unique(price_tiers)"
   ]
  },
  {
   "cell_type": "markdown",
   "id": "833372f6-6994-4287-ac3b-132ad2d730ce",
   "metadata": {},
   "source": [
    "# Vectorization"
   ]
  },
  {
   "cell_type": "markdown",
   "id": "0473b6b0-997d-41cc-9eed-70e630c2043f",
   "metadata": {},
   "source": [
    "Vectorization is the process of pushing array operations into optimized C code, which is easier and more efficient than writing for loops.\n",
    "\n",
    "Use vectorized operations whenever possible when manipulating data, and avoid writing loops. Use functions in NumPy and Pandas."
   ]
  },
  {
   "cell_type": "markdown",
   "id": "f64e2a0c-aa47-4fa4-a35c-69275fb0adee",
   "metadata": {},
   "source": [
    "# Broadcasting\n",
    "\n"
   ]
  },
  {
   "cell_type": "markdown",
   "id": "d237f050-b79e-4d1f-bb2b-d1ca276421ed",
   "metadata": {},
   "source": [
    "Broadcasting lets you perform vectorized operations with arrays of different sizes, where NumPy will expand the smaller array to 'fit' the larger one.\n",
    "\n",
    "- single values (scalars) can be broadcast into arrays of any dimension\n",
    "- dimensions with a length greater than one must be the same size"
   ]
  },
  {
   "cell_type": "markdown",
   "id": "31b66238",
   "metadata": {},
   "source": [
    "# Assignment 7: Bringing it All Together\n",
    "\n",
    "Ok, final NumPy task - let's read in some data with the help of Pandas.\n",
    "\n",
    "Our data scientist provided the code to read in a csv as a Pandas dataframe, and has converted the two columns of interest to arrays.\n",
    "\n",
    "* Filter `sales_array` down to only sales where the product family was produce. \n",
    "\n",
    "* Then, randomly sample roughly half (random number < .5) of the produce sales and report the mean and median sales. Use a random seed of 2022.\n",
    "\n",
    "* Finally, create a new array that has the values 'above_both', 'above_median', and 'below_both' based on whether the sales were above the median and mean of the sample, just above the median of the sample, or below both the median and mean of the sample. "
   ]
  },
  {
   "cell_type": "code",
   "execution_count": 198,
   "id": "5b567c99",
   "metadata": {},
   "outputs": [],
   "source": [
    "import pandas as pd\n",
    "import numpy as np\n",
    "\n",
    "retail_df = pd.read_csv(\n",
    "    \"../retail/retail_2016_2017.csv\", skiprows=range(1, 11000), nrows=1000\n",
    ")\n",
    "\n",
    "family_array = np.array(retail_df[\"family\"])\n",
    "sales_array = np.array(retail_df[\"sales\"])"
   ]
  },
  {
   "cell_type": "code",
   "execution_count": 206,
   "id": "a0424a65",
   "metadata": {},
   "outputs": [
    {
     "data": {
      "text/plain": [
       "array(['AUTOMOTIVE', 'BABY CARE', 'BEAUTY', 'BEVERAGES', 'BOOKS',\n",
       "       'BREAD/BAKERY', 'CELEBRATION', 'CLEANING', 'DAIRY', 'DELI', 'EGGS',\n",
       "       'FROZEN FOODS', 'GROCERY I', 'GROCERY II', 'HARDWARE',\n",
       "       'HOME AND KITCHEN I', 'HOME AND KITCHEN II', 'HOME APPLIANCES',\n",
       "       'HOME CARE', 'LADIESWEAR', 'LAWN AND GARDEN', 'LINGERIE',\n",
       "       'LIQUOR,WINE,BEER', 'MAGAZINES', 'MEATS', 'PERSONAL CARE',\n",
       "       'PET SUPPLIES', 'PLAYERS AND ELECTRONICS', 'POULTRY',\n",
       "       'PREPARED FOODS', 'PRODUCE', 'SCHOOL AND OFFICE SUPPLIES',\n",
       "       'SEAFOOD'], dtype=object)"
      ]
     },
     "execution_count": 206,
     "metadata": {},
     "output_type": "execute_result"
    }
   ],
   "source": [
    "np.unique(family_array)"
   ]
  },
  {
   "cell_type": "code",
   "execution_count": 201,
   "id": "96eaf423",
   "metadata": {},
   "outputs": [
    {
     "data": {
      "text/plain": [
       "(1000,)"
      ]
     },
     "execution_count": 201,
     "metadata": {},
     "output_type": "execute_result"
    }
   ],
   "source": [
    "sales_array.shape"
   ]
  },
  {
   "cell_type": "code",
   "execution_count": 219,
   "id": "432041d4",
   "metadata": {},
   "outputs": [
    {
     "name": "stdout",
     "output_type": "stream",
     "text": [
      "(30,)\n"
     ]
    },
    {
     "data": {
      "text/plain": [
       "array([1662.394,  447.064, 2423.944,  962.866, 1236.404,  298.441,\n",
       "       1077.44 , 3404.531,  962.96 ,  279.505, 1852.786, 1089.319,\n",
       "        726.516, 7860.031,  446.038, 1155.385,  120.202,  862.092,\n",
       "        473.952,  254.263, 1272.755, 2775.771, 2030.762, 1657.432,\n",
       "       2339.906,  722.333, 1567.843, 2458.456,  673.885, 8834.15 ])"
      ]
     },
     "execution_count": 219,
     "metadata": {},
     "output_type": "execute_result"
    }
   ],
   "source": [
    "# Filter sales where family product is produce\n",
    "produce_sales = sales_array[family_array =='PRODUCE']\n",
    "\n",
    "print(produce_sales.shape)\n",
    "\n",
    "produce_sales"
   ]
  },
  {
   "cell_type": "code",
   "execution_count": 222,
   "id": "e0186438",
   "metadata": {},
   "outputs": [
    {
     "data": {
      "text/plain": [
       "array([1662.394,  447.064,  962.866, 1077.44 , 3404.531,  962.96 ,\n",
       "       1089.319, 7860.031,  446.038, 1272.755, 2775.771, 2339.906,\n",
       "        722.333, 1567.843, 2458.456,  673.885, 8834.15 ])"
      ]
     },
     "execution_count": 222,
     "metadata": {},
     "output_type": "execute_result"
    }
   ],
   "source": [
    "rng = np.random.default_rng(2022)\n",
    "\n",
    "random_array = rng.random(30)\n",
    "\n",
    "produce_sample = produce_sales[random_array < 0.5]\n",
    "\n",
    "produce_sample"
   ]
  },
  {
   "cell_type": "code",
   "execution_count": 227,
   "id": "215fb1b6-4132-4f64-b487-86ff4a94963e",
   "metadata": {},
   "outputs": [
    {
     "data": {
      "text/plain": [
       "2268.102470588235"
      ]
     },
     "execution_count": 227,
     "metadata": {},
     "output_type": "execute_result"
    }
   ],
   "source": [
    "mean = produce_sample.mean()\n",
    "\n",
    "mean"
   ]
  },
  {
   "cell_type": "code",
   "execution_count": 230,
   "id": "74cd5fff-1992-4126-9c17-507721ffd6fc",
   "metadata": {},
   "outputs": [
    {
     "data": {
      "text/plain": [
       "1272.755"
      ]
     },
     "execution_count": 230,
     "metadata": {},
     "output_type": "execute_result"
    }
   ],
   "source": [
    "median = np.median(produce_sample)\n",
    "\n",
    "median"
   ]
  },
  {
   "cell_type": "markdown",
   "id": "f1722054-2b74-43f5-b523-fd73861d31f4",
   "metadata": {},
   "source": [
    "Finally, create a new array that has the values 'above_both', 'above_median', and 'below_both' based on whether the sales were above the median and mean of the sample, just above the median of the sample, or below both the median and mean of the sample."
   ]
  },
  {
   "cell_type": "code",
   "execution_count": 233,
   "id": "33c9a16a",
   "metadata": {},
   "outputs": [
    {
     "data": {
      "text/plain": [
       "array(['above_median', 'below_both', 'below_both', 'below_both',\n",
       "       'above_both', 'below_both', 'below_both', 'above_both',\n",
       "       'below_both', 'above_median', 'above_both', 'above_both',\n",
       "       'below_both', 'above_median', 'above_both', 'below_both',\n",
       "       'above_both'], dtype='<U12')"
      ]
     },
     "execution_count": 233,
     "metadata": {},
     "output_type": "execute_result"
    }
   ],
   "source": [
    "compare_array = np.where(produce_sample < median, 'below_both',\n",
    "         np.where(produce_sample > mean, 'above_both', 'above_median'),)\n",
    "\n",
    "compare_array"
   ]
  },
  {
   "cell_type": "code",
   "execution_count": 234,
   "id": "2aebf230",
   "metadata": {},
   "outputs": [
    {
     "data": {
      "text/plain": [
       "array(['above_median', 'below_both', 'below_both', 'below_both',\n",
       "       'above_both', 'below_both', 'below_both', 'above_both',\n",
       "       'below_both', 'above_median', 'above_both', 'above_both',\n",
       "       'below_both', 'above_median', 'above_both', 'below_both',\n",
       "       'above_both'], dtype='<U12')"
      ]
     },
     "execution_count": 234,
     "metadata": {},
     "output_type": "execute_result"
    }
   ],
   "source": [
    "compare_array = np.where(((produce_sample < median) & (produce_sample < mean)), 'below_both',\n",
    "         np.where(produce_sample > mean, 'above_both', 'above_median'),)\n",
    "\n",
    "compare_array"
   ]
  },
  {
   "cell_type": "code",
   "execution_count": 235,
   "id": "599c00de-f478-4376-a870-443939dd105c",
   "metadata": {},
   "outputs": [
    {
     "data": {
      "text/plain": [
       "array([1662.394,  447.064,  962.866, 1077.44 , 3404.531,  962.96 ,\n",
       "       1089.319, 7860.031,  446.038, 1272.755, 2775.771, 2339.906,\n",
       "        722.333, 1567.843, 2458.456,  673.885, 8834.15 ])"
      ]
     },
     "execution_count": 235,
     "metadata": {},
     "output_type": "execute_result"
    }
   ],
   "source": [
    "produce_sample"
   ]
  },
  {
   "cell_type": "code",
   "execution_count": 236,
   "id": "92bd6ab2-75e9-43a1-9b2e-9db3e735f072",
   "metadata": {},
   "outputs": [
    {
     "name": "stdout",
     "output_type": "stream",
     "text": [
      "2268.102470588235\n",
      "1272.755\n"
     ]
    }
   ],
   "source": [
    "print(mean)\n",
    "print(median)"
   ]
  },
  {
   "cell_type": "markdown",
   "id": "adb60aef-e69e-4c25-a977-28debf8a64ce",
   "metadata": {},
   "source": [
    "# Key Takewaways"
   ]
  },
  {
   "cell_type": "markdown",
   "id": "b937cf7d-271b-4c3d-a092-1704fc07e69d",
   "metadata": {},
   "source": [
    "- NumPy forms the foundation for Pandas\n",
    "- NumPy arrays are more efficent than base Python lists and tuples\n",
    "- Array operations let you aggregate, filter, and sort data\n",
    "    - broadcasting and vectorization make these operations convenient and efficient without the use of loops\n",
    "    - the syntax for NumPy array operations is very similar to Pandas"
   ]
  },
  {
   "cell_type": "markdown",
   "id": "780ff1c3-9140-49c0-8c73-2884916415fc",
   "metadata": {},
   "source": [
    "Completed on Jan 5th, 2023"
   ]
  },
  {
   "cell_type": "code",
   "execution_count": null,
   "id": "a9c01039-d6aa-44ae-ad18-42d7633c3c8e",
   "metadata": {},
   "outputs": [],
   "source": []
  }
 ],
 "metadata": {
  "kernelspec": {
   "display_name": "Python 3 (ipykernel)",
   "language": "python",
   "name": "python3"
  },
  "language_info": {
   "codemirror_mode": {
    "name": "ipython",
    "version": 3
   },
   "file_extension": ".py",
   "mimetype": "text/x-python",
   "name": "python",
   "nbconvert_exporter": "python",
   "pygments_lexer": "ipython3",
   "version": "3.9.7"
  }
 },
 "nbformat": 4,
 "nbformat_minor": 5
}
