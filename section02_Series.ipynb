{
 "cells": [
  {
   "cell_type": "code",
   "execution_count": 1,
   "id": "b2d1c5b7",
   "metadata": {},
   "outputs": [],
   "source": [
    "# import libraries needed\n",
    "import numpy as np\n",
    "import pandas as pd"
   ]
  },
  {
   "cell_type": "markdown",
   "id": "805fe8d8-0113-4051-ae27-7fb186e20a63",
   "metadata": {},
   "source": [
    "# Pandas Series"
   ]
  },
  {
   "cell_type": "markdown",
   "id": "8c41ca82-c909-4379-8f0f-6203ddd58db9",
   "metadata": {},
   "source": [
    "Series are Pandas data structures built on top of NumPy arrays\n",
    "- series also contains an index and an optiona lname, in addition to the array\n",
    "- they can be created from other data types, but are usually imported from external sources\n",
    "- two or more series grouped together form a Pandas DataFrame"
   ]
  },
  {
   "cell_type": "markdown",
   "id": "75ef2859-82fd-474f-9383-c7e39095abf4",
   "metadata": {},
   "source": [
    "Pandas Series have these key properties:\n",
    "  - values - data array in the Series\n",
    "  - index - the index array in the Series\n",
    "  - name - optional name for series\n",
    "  - dtype - data type of the elements in the values array"
   ]
  },
  {
   "cell_type": "code",
   "execution_count": 2,
   "id": "f3876625-25f6-4575-a957-b5b15ea0cea0",
   "metadata": {},
   "outputs": [
    {
     "data": {
      "text/plain": [
       "0       0\n",
       "1       5\n",
       "2     155\n",
       "3       0\n",
       "4     518\n",
       "5       0\n",
       "6    1827\n",
       "7     616\n",
       "8     317\n",
       "9     325\n",
       "Name: Sales, dtype: int64"
      ]
     },
     "execution_count": 2,
     "metadata": {},
     "output_type": "execute_result"
    }
   ],
   "source": [
    "sales = [0, 5, 155, 0, 518, 0, 1827, 616, 317, 325]\n",
    "\n",
    "# convert list to series\n",
    "sales_series = pd.Series(sales, name='Sales')\n",
    "\n",
    "sales_series"
   ]
  },
  {
   "cell_type": "code",
   "execution_count": 3,
   "id": "51fc9383-d22e-4ae7-9fa3-f7dc45bc5405",
   "metadata": {},
   "outputs": [],
   "source": [
    "array = np.arange(5)\n",
    "\n",
    "series = pd.Series(array)"
   ]
  },
  {
   "cell_type": "code",
   "execution_count": 4,
   "id": "f8bda0f2-aa9d-4a21-8b90-70de6a21fed3",
   "metadata": {},
   "outputs": [
    {
     "data": {
      "text/plain": [
       "0    0\n",
       "1    1\n",
       "2    2\n",
       "3    3\n",
       "4    4\n",
       "5    5\n",
       "Name: Test Array, dtype: int64"
      ]
     },
     "execution_count": 4,
     "metadata": {},
     "output_type": "execute_result"
    }
   ],
   "source": [
    "pd.Series(np.arange(6), name='Test Array')"
   ]
  },
  {
   "cell_type": "code",
   "execution_count": 5,
   "id": "8f81187e-2bcc-45e3-8a9e-2e5416a3266a",
   "metadata": {},
   "outputs": [
    {
     "data": {
      "text/plain": [
       "array([0, 1, 2, 3, 4])"
      ]
     },
     "execution_count": 5,
     "metadata": {},
     "output_type": "execute_result"
    }
   ],
   "source": [
    "series.values"
   ]
  },
  {
   "cell_type": "code",
   "execution_count": 6,
   "id": "6df08dff-309a-4105-9241-aeebce766972",
   "metadata": {},
   "outputs": [
    {
     "data": {
      "text/plain": [
       "2.0"
      ]
     },
     "execution_count": 6,
     "metadata": {},
     "output_type": "execute_result"
    }
   ],
   "source": [
    "series.mean()"
   ]
  },
  {
   "cell_type": "code",
   "execution_count": 7,
   "id": "f8989a6e-6c7a-4252-8946-1b85e7075661",
   "metadata": {},
   "outputs": [
    {
     "data": {
      "text/plain": [
       "(5,)"
      ]
     },
     "execution_count": 7,
     "metadata": {},
     "output_type": "execute_result"
    }
   ],
   "source": [
    "series.shape"
   ]
  },
  {
   "cell_type": "code",
   "execution_count": 8,
   "id": "16245b9d-0fb3-4691-aa6f-0b8cc6c47ec9",
   "metadata": {},
   "outputs": [
    {
     "data": {
      "text/plain": [
       "2.0"
      ]
     },
     "execution_count": 8,
     "metadata": {},
     "output_type": "execute_result"
    }
   ],
   "source": [
    "series.median()"
   ]
  },
  {
   "cell_type": "code",
   "execution_count": 9,
   "id": "c0b61cf7-f3c9-4a3e-8b02-0c8f03a524aa",
   "metadata": {},
   "outputs": [
    {
     "data": {
      "text/plain": [
       "10    0\n",
       "20    1\n",
       "30    2\n",
       "40    3\n",
       "50    4\n",
       "Name: special series, dtype: int64"
      ]
     },
     "execution_count": 9,
     "metadata": {},
     "output_type": "execute_result"
    }
   ],
   "source": [
    "# assign new index\n",
    "series.index = [10, 20, 30, 40, 50]\n",
    "\n",
    "series.name = 'special series'\n",
    "\n",
    "series"
   ]
  },
  {
   "cell_type": "code",
   "execution_count": 10,
   "id": "5f892b94-7036-44d6-a354-12b59fc379cc",
   "metadata": {},
   "outputs": [
    {
     "data": {
      "text/plain": [
       "dtype('int64')"
      ]
     },
     "execution_count": 10,
     "metadata": {},
     "output_type": "execute_result"
    }
   ],
   "source": [
    "series.dtype"
   ]
  },
  {
   "cell_type": "markdown",
   "id": "9df3cbb3-5410-4e9b-a4d5-5ef2cc07454b",
   "metadata": {},
   "source": [
    "# Pandas Data Types"
   ]
  },
  {
   "cell_type": "markdown",
   "id": "3fe13c00-53ca-46d0-8f6b-e6325b32e737",
   "metadata": {},
   "source": [
    "Pandas data types mostly expand on their base Python and NumPy equivalents"
   ]
  },
  {
   "cell_type": "markdown",
   "id": "d1ee58bc-0cac-495d-b134-c30c588e5361",
   "metadata": {},
   "source": [
    "1. Numeric\n",
    "  - NumPy\n",
    "    - bool\n",
    "    - int64\n",
    "    - float64\n",
    "  - Pandas\n",
    "    - boolean\n",
    "    - int64\n",
    "    - float64\n",
    "\n",
    "2. Object/Text\n",
    "  - NumPy\n",
    "    - object\n",
    "  - Pandas\n",
    "    - string\n",
    "    - category\n",
    "    \n",
    "3. Time Series\n",
    "  - NumPy\n",
    "    - datetime64\n",
    "    - timedelta (duration between two dates or times)\n",
    "    - period (a span of time)"
   ]
  },
  {
   "cell_type": "code",
   "execution_count": 11,
   "id": "73255b34-1894-4ef9-bdbe-54711997626f",
   "metadata": {},
   "outputs": [
    {
     "data": {
      "text/plain": [
       "0    0\n",
       "1    1\n",
       "2    2\n",
       "3    3\n",
       "4    4\n",
       "dtype: int64"
      ]
     },
     "execution_count": 11,
     "metadata": {},
     "output_type": "execute_result"
    }
   ],
   "source": [
    "pd.Series(range(5))"
   ]
  },
  {
   "cell_type": "code",
   "execution_count": 12,
   "id": "f2b1ffcc-b1d5-49f3-85e6-10e94ca1fd5c",
   "metadata": {},
   "outputs": [
    {
     "data": {
      "text/plain": [
       "0    0.0\n",
       "1    1.0\n",
       "2    2.0\n",
       "3    3.0\n",
       "4    4.0\n",
       "dtype: float64"
      ]
     },
     "execution_count": 12,
     "metadata": {},
     "output_type": "execute_result"
    }
   ],
   "source": [
    "pd.Series(range(5)).astype('float')"
   ]
  },
  {
   "cell_type": "code",
   "execution_count": 13,
   "id": "834f5492-3413-49cc-a1ff-782dc6282a57",
   "metadata": {},
   "outputs": [
    {
     "data": {
      "text/plain": [
       "4"
      ]
     },
     "execution_count": 13,
     "metadata": {},
     "output_type": "execute_result"
    }
   ],
   "source": [
    "pd.Series(range(5)).astype('bool').sum()"
   ]
  },
  {
   "cell_type": "code",
   "execution_count": 14,
   "id": "23812720-8e05-4e1e-a06c-cddcc79b0da2",
   "metadata": {},
   "outputs": [
    {
     "data": {
      "text/plain": [
       "0    0\n",
       "1    1\n",
       "2    2\n",
       "3    3\n",
       "4    4\n",
       "dtype: string"
      ]
     },
     "execution_count": 14,
     "metadata": {},
     "output_type": "execute_result"
    }
   ],
   "source": [
    "pd.Series(range(5)).astype('string')"
   ]
  },
  {
   "cell_type": "code",
   "execution_count": 15,
   "id": "bc0d59e6-bfb4-4afe-b117-14da8aa383a8",
   "metadata": {},
   "outputs": [
    {
     "data": {
      "text/plain": [
       "0    a\n",
       "1    b\n",
       "2    c\n",
       "dtype: object"
      ]
     },
     "execution_count": 15,
     "metadata": {},
     "output_type": "execute_result"
    }
   ],
   "source": [
    "pd.Series(['a', 'b', 'c']).astype('object')"
   ]
  },
  {
   "cell_type": "markdown",
   "id": "2d2cad37-fd0f-47d3-999f-5d91285b840a",
   "metadata": {
    "tags": []
   },
   "source": [
    "# Series Indexing"
   ]
  },
  {
   "cell_type": "markdown",
   "id": "48fa7448-6f91-412d-a88b-3aba48065670",
   "metadata": {},
   "source": [
    "- Index lets you easily access \"rows\" in a Pandas Series or DataFrame\n",
    "- you can index and slice Series like other sequence data types\n",
    "- There are cases where it's applicable to use a customer index for accessing rows"
   ]
  },
  {
   "cell_type": "code",
   "execution_count": 27,
   "id": "b0baf358-1777-4211-8311-b7f2dca80fe5",
   "metadata": {},
   "outputs": [
    {
     "data": {
      "text/plain": [
       "0       0\n",
       "1       5\n",
       "2     155\n",
       "3       0\n",
       "4     518\n",
       "5       0\n",
       "6    1827\n",
       "7     616\n",
       "8     317\n",
       "9     325\n",
       "Name: Sales, dtype: int64"
      ]
     },
     "execution_count": 27,
     "metadata": {},
     "output_type": "execute_result"
    }
   ],
   "source": [
    "sales\n",
    "\n",
    "sales_series = pd.Series(sales, name='Sales')\n",
    "\n",
    "sales_series"
   ]
  },
  {
   "cell_type": "code",
   "execution_count": 28,
   "id": "83050e66-324d-4426-a6ad-4bdbb75ec688",
   "metadata": {},
   "outputs": [
    {
     "data": {
      "text/plain": [
       "155"
      ]
     },
     "execution_count": 28,
     "metadata": {},
     "output_type": "execute_result"
    }
   ],
   "source": [
    "sales_series[2]"
   ]
  },
  {
   "cell_type": "code",
   "execution_count": 29,
   "id": "803d7bfa-8215-40fe-9819-ab1351bb217a",
   "metadata": {},
   "outputs": [
    {
     "data": {
      "text/plain": [
       "2    155\n",
       "3      0\n",
       "Name: Sales, dtype: int64"
      ]
     },
     "execution_count": 29,
     "metadata": {},
     "output_type": "execute_result"
    }
   ],
   "source": [
    "sales_series[2:4]"
   ]
  },
  {
   "cell_type": "markdown",
   "id": "22168653-5a3d-46e3-893f-72df965561d5",
   "metadata": {},
   "source": [
    "# Custom Indices"
   ]
  },
  {
   "cell_type": "code",
   "execution_count": 33,
   "id": "8ce0599b-1ae3-457e-bab9-58d7391f1dea",
   "metadata": {},
   "outputs": [],
   "source": [
    "sales_1 = sales[0:5]"
   ]
  },
  {
   "cell_type": "code",
   "execution_count": 36,
   "id": "635d7748-a4ec-460a-bb7b-52d5ce2c033a",
   "metadata": {},
   "outputs": [
    {
     "data": {
      "text/plain": [
       "coffee       0\n",
       "bananas      5\n",
       "tea        155\n",
       "coconut      0\n",
       "sugar      518\n",
       "Name: Sales, dtype: int64"
      ]
     },
     "execution_count": 36,
     "metadata": {},
     "output_type": "execute_result"
    }
   ],
   "source": [
    "sales_1\n",
    "\n",
    "items = ['coffee', 'bananas', 'tea', 'coconut', 'sugar']\n",
    "\n",
    "# Custom inddices can be assigned when creating the series or by assignment\n",
    "sales_series = pd.Series(sales_1, index=items, name='Sales')\n",
    "\n",
    "sales_series"
   ]
  },
  {
   "cell_type": "code",
   "execution_count": 37,
   "id": "227adbd3-7b52-436a-9199-c8047a85f68b",
   "metadata": {},
   "outputs": [
    {
     "data": {
      "text/plain": [
       "155"
      ]
     },
     "execution_count": 37,
     "metadata": {},
     "output_type": "execute_result"
    }
   ],
   "source": [
    "sales_series['tea']"
   ]
  },
  {
   "cell_type": "code",
   "execution_count": 38,
   "id": "2f890979-7f34-4461-b606-7452baa1d65e",
   "metadata": {},
   "outputs": [
    {
     "data": {
      "text/plain": [
       "bananas      5\n",
       "tea        155\n",
       "coconut      0\n",
       "Name: Sales, dtype: int64"
      ]
     },
     "execution_count": 38,
     "metadata": {},
     "output_type": "execute_result"
    }
   ],
   "source": [
    "# Slicing custom indices makes the stop point inclusive\n",
    "sales_series['bananas':'coconut']"
   ]
  },
  {
   "cell_type": "code",
   "execution_count": 39,
   "id": "44a85e35-5524-41f0-9b34-701a837f420f",
   "metadata": {},
   "outputs": [
    {
     "data": {
      "text/plain": [
       "0    0\n",
       "1    1\n",
       "2    2\n",
       "3    3\n",
       "4    4\n",
       "dtype: int64"
      ]
     },
     "execution_count": 39,
     "metadata": {},
     "output_type": "execute_result"
    }
   ],
   "source": [
    "my_series = pd.Series(range(5))\n",
    "\n",
    "my_series"
   ]
  },
  {
   "cell_type": "code",
   "execution_count": 40,
   "id": "5ac6305e-dc49-4b55-94ca-d52e55d9e667",
   "metadata": {},
   "outputs": [
    {
     "data": {
      "text/plain": [
       "3"
      ]
     },
     "execution_count": 40,
     "metadata": {},
     "output_type": "execute_result"
    }
   ],
   "source": [
    "my_series[3]"
   ]
  },
  {
   "cell_type": "code",
   "execution_count": 42,
   "id": "f6bccd98-ab49-4ca0-83ff-13f8961091aa",
   "metadata": {},
   "outputs": [
    {
     "data": {
      "text/plain": [
       "1    1\n",
       "3    3\n",
       "dtype: int64"
      ]
     },
     "execution_count": 42,
     "metadata": {},
     "output_type": "execute_result"
    }
   ],
   "source": [
    "my_series[1::2]"
   ]
  },
  {
   "cell_type": "code",
   "execution_count": 44,
   "id": "15d4b758-ea7a-4f1a-a728-dc23e975f129",
   "metadata": {},
   "outputs": [
    {
     "data": {
      "text/plain": [
       "Day 0    0\n",
       "Day 1    1\n",
       "Day 2    2\n",
       "Day 3    3\n",
       "Day 4    4\n",
       "dtype: int64"
      ]
     },
     "execution_count": 44,
     "metadata": {},
     "output_type": "execute_result"
    }
   ],
   "source": [
    "my_series = pd.Series(range(5), index=['Day 0', 'Day 1', 'Day 2', 'Day 3', 'Day 4'])\n",
    "\n",
    "my_series"
   ]
  },
  {
   "cell_type": "code",
   "execution_count": 45,
   "id": "e86bf308-ea97-417b-b6fb-1a44149280c4",
   "metadata": {},
   "outputs": [
    {
     "data": {
      "text/plain": [
       "1"
      ]
     },
     "execution_count": 45,
     "metadata": {},
     "output_type": "execute_result"
    }
   ],
   "source": [
    "my_series['Day 1']"
   ]
  },
  {
   "cell_type": "code",
   "execution_count": 46,
   "id": "672d598c-e63f-4c39-bea9-48704e650610",
   "metadata": {},
   "outputs": [
    {
     "data": {
      "text/plain": [
       "Day 1    1\n",
       "Day 2    2\n",
       "Day 3    3\n",
       "Day 4    4\n",
       "dtype: int64"
      ]
     },
     "execution_count": 46,
     "metadata": {},
     "output_type": "execute_result"
    }
   ],
   "source": [
    "my_series['Day 1':'Day 4']"
   ]
  },
  {
   "cell_type": "markdown",
   "id": "9db76aa7-dc07-4922-877f-d61d35ffd77e",
   "metadata": {},
   "source": [
    "# The iloc Method"
   ]
  },
  {
   "cell_type": "markdown",
   "id": "9609f05a-cf9e-45b3-bb36-355a7ec976b7",
   "metadata": {},
   "source": [
    "- .iloc[] method is the preferred way to access values by their positional index\n",
    "    - This method works even when Series have a custom, non-integer index\n",
    "    - It is more efficient than slicing and is recommended by Pandas' creators"
   ]
  },
  {
   "cell_type": "markdown",
   "id": "a3e58813-9759-4c20-a976-f81dca7ea1f8",
   "metadata": {},
   "source": [
    "- df.iloc[row position, column position]\n",
    "\n",
    "- row position for the value you want to access, example:\n",
    "    - 0 single row\n",
    "    - [5,9] multiple rows\n",
    "    - [0:11] range of rows\n",
    "    \n",
    "- column position(s) for the value(s) you want to access"
   ]
  },
  {
   "cell_type": "code",
   "execution_count": 47,
   "id": "9fc25cee-560e-4412-8fab-91756582534f",
   "metadata": {},
   "outputs": [
    {
     "data": {
      "text/plain": [
       "coffee       0\n",
       "bananas      5\n",
       "tea        155\n",
       "coconut      0\n",
       "sugar      518\n",
       "Name: Sales, dtype: int64"
      ]
     },
     "execution_count": 47,
     "metadata": {},
     "output_type": "execute_result"
    }
   ],
   "source": [
    "sales_series"
   ]
  },
  {
   "cell_type": "code",
   "execution_count": 48,
   "id": "935d98ac-3f05-4b47-8310-8e6929b542d9",
   "metadata": {},
   "outputs": [
    {
     "data": {
      "text/plain": [
       "155"
      ]
     },
     "execution_count": 48,
     "metadata": {},
     "output_type": "execute_result"
    }
   ],
   "source": [
    "sales_series.iloc[2]"
   ]
  },
  {
   "cell_type": "code",
   "execution_count": 49,
   "id": "d4155e5c-30a7-4eb8-8419-e38c90fd4a9f",
   "metadata": {},
   "outputs": [
    {
     "data": {
      "text/plain": [
       "tea        155\n",
       "coconut      0\n",
       "Name: Sales, dtype: int64"
      ]
     },
     "execution_count": 49,
     "metadata": {},
     "output_type": "execute_result"
    }
   ],
   "source": [
    "sales_series.iloc[2:4]"
   ]
  },
  {
   "cell_type": "code",
   "execution_count": 58,
   "id": "fc4a0905-50f4-4363-af97-7a939364b450",
   "metadata": {},
   "outputs": [
    {
     "data": {
      "text/plain": [
       "Day 0    0\n",
       "Day 1    1\n",
       "Day 2    2\n",
       "Day 3    3\n",
       "dtype: int64"
      ]
     },
     "execution_count": 58,
     "metadata": {},
     "output_type": "execute_result"
    }
   ],
   "source": [
    "my_series.iloc[0:4]"
   ]
  },
  {
   "cell_type": "markdown",
   "id": "2e219640-5d8a-4561-a86b-c1312b9c0a08",
   "metadata": {},
   "source": [
    "# The .loc Method"
   ]
  },
  {
   "cell_type": "markdown",
   "id": "cd298078-35b3-4ec5-b8b0-409159bba217",
   "metadata": {},
   "source": [
    ".loc[] method is the preferred way to access values by their customer labels\n",
    "\n",
    "df.loc[row label, column label]\n",
    "\n",
    "row label = \n",
    "   * 'pizza' -> single row\n",
    "   * ['mike', 'ike']\n",
    "   * ['jan':'dec']"
   ]
  },
  {
   "cell_type": "code",
   "execution_count": 60,
   "id": "3b4852d1-55e3-4af8-a791-a1c76fa6d6c3",
   "metadata": {},
   "outputs": [
    {
     "data": {
      "text/plain": [
       "coffee       0\n",
       "bananas      5\n",
       "tea        155\n",
       "coconut      0\n",
       "sugar      518\n",
       "Name: Sales, dtype: int64"
      ]
     },
     "execution_count": 60,
     "metadata": {},
     "output_type": "execute_result"
    }
   ],
   "source": [
    "sales_series"
   ]
  },
  {
   "cell_type": "code",
   "execution_count": 61,
   "id": "b6706567-50ee-4749-afb0-5d7ad83fe470",
   "metadata": {},
   "outputs": [
    {
     "data": {
      "text/plain": [
       "155"
      ]
     },
     "execution_count": 61,
     "metadata": {},
     "output_type": "execute_result"
    }
   ],
   "source": [
    "sales_series.loc['tea']"
   ]
  },
  {
   "cell_type": "code",
   "execution_count": 62,
   "id": "6e166228-1980-4ae2-8c04-6a1ecd911c55",
   "metadata": {},
   "outputs": [
    {
     "data": {
      "text/plain": [
       "bananas      5\n",
       "tea        155\n",
       "coconut      0\n",
       "Name: Sales, dtype: int64"
      ]
     },
     "execution_count": 62,
     "metadata": {},
     "output_type": "execute_result"
    }
   ],
   "source": [
    "# inclusive range\n",
    "sales_series.loc['bananas':'coconut']"
   ]
  },
  {
   "cell_type": "code",
   "execution_count": 63,
   "id": "35171ba4-ec00-47c8-a55f-14aaad488d81",
   "metadata": {},
   "outputs": [
    {
     "data": {
      "text/plain": [
       "Day 0    0\n",
       "Day 1    1\n",
       "Day 2    2\n",
       "Day 3    3\n",
       "Day 4    4\n",
       "dtype: int64"
      ]
     },
     "execution_count": 63,
     "metadata": {},
     "output_type": "execute_result"
    }
   ],
   "source": [
    "my_series"
   ]
  },
  {
   "cell_type": "code",
   "execution_count": 64,
   "id": "600b986b-2323-4863-8dd7-34ea1e9bb824",
   "metadata": {},
   "outputs": [
    {
     "data": {
      "text/plain": [
       "Day 2    2\n",
       "Day 3    3\n",
       "Day 4    4\n",
       "dtype: int64"
      ]
     },
     "execution_count": 64,
     "metadata": {},
     "output_type": "execute_result"
    }
   ],
   "source": [
    "my_series.loc['Day 2':'Day4']"
   ]
  },
  {
   "cell_type": "code",
   "execution_count": 65,
   "id": "231052f2-e0fd-4db5-a642-045d8fab2b4e",
   "metadata": {},
   "outputs": [
    {
     "data": {
      "text/plain": [
       "0      0\n",
       "2      1\n",
       "3      2\n",
       "100    3\n",
       "5      4\n",
       "dtype: int64"
      ]
     },
     "execution_count": 65,
     "metadata": {},
     "output_type": "execute_result"
    }
   ],
   "source": [
    "my_series.index = [0, 2, 3, 100, 5]\n",
    "my_series"
   ]
  },
  {
   "cell_type": "code",
   "execution_count": 68,
   "id": "3715ac83-02be-4339-9166-fb77c57ea546",
   "metadata": {},
   "outputs": [
    {
     "data": {
      "text/plain": [
       "0    0\n",
       "2    1\n",
       "3    2\n",
       "dtype: int64"
      ]
     },
     "execution_count": 68,
     "metadata": {},
     "output_type": "execute_result"
    }
   ],
   "source": [
    "my_series.loc[0:3]"
   ]
  },
  {
   "cell_type": "code",
   "execution_count": 69,
   "id": "7f745c86-cb20-40c7-8b19-fae449bccda1",
   "metadata": {},
   "outputs": [
    {
     "data": {
      "text/plain": [
       "0    0\n",
       "1    1\n",
       "2    2\n",
       "3    3\n",
       "dtype: int64"
      ]
     },
     "execution_count": 69,
     "metadata": {},
     "output_type": "execute_result"
    }
   ],
   "source": [
    "my_series.reset_index(drop=True).loc[:3]"
   ]
  },
  {
   "cell_type": "code",
   "execution_count": 70,
   "id": "0dbcfbba-549f-4f04-a153-f7a537305855",
   "metadata": {},
   "outputs": [
    {
     "data": {
      "text/plain": [
       "0      0\n",
       "2      1\n",
       "100    3\n",
       "5      4\n",
       "dtype: int64"
      ]
     },
     "execution_count": 70,
     "metadata": {},
     "output_type": "execute_result"
    }
   ],
   "source": [
    "my_series[my_series != 2]"
   ]
  },
  {
   "cell_type": "markdown",
   "id": "5258c2b2-f1df-4ebc-980d-5b5697529d61",
   "metadata": {},
   "source": [
    "# Duplicate Index Values"
   ]
  },
  {
   "cell_type": "markdown",
   "id": "4f2a0910-99de-43b5-98dc-fdc269de9bef",
   "metadata": {},
   "source": [
    "It is possible to have duplicate index values in a Pandas Series or DataFrame\n",
    "- accessing these indicies by their label using .loc[] returns all corresponding rows\n"
   ]
  },
  {
   "cell_type": "markdown",
   "id": "f5bb0416-db22-49c0-a66e-b6e7979cad82",
   "metadata": {
    "tags": []
   },
   "source": [
    "# Resetting the index\n",
    "\n",
    "- reset the index in a Pandas Series back to the default range of integers using reset_index() method\n",
    "\n",
    "- reset_index(drop=True)"
   ]
  },
  {
   "cell_type": "code",
   "execution_count": 71,
   "id": "b429c072-09fe-47aa-900b-435634fd0997",
   "metadata": {},
   "outputs": [
    {
     "data": {
      "text/plain": [
       "0    0\n",
       "1    1\n",
       "2    2\n",
       "3    3\n",
       "4    4\n",
       "dtype: int64"
      ]
     },
     "execution_count": 71,
     "metadata": {},
     "output_type": "execute_result"
    }
   ],
   "source": [
    "my_series.reset_index(drop=True)"
   ]
  },
  {
   "cell_type": "markdown",
   "id": "31a24d50",
   "metadata": {},
   "source": [
    "# Assignment 1: Series Basics\n",
    "\n",
    "The code has been previded to create an array, `oil_array` from a dataframe column. \n",
    "\n",
    "* Convert `oil_array` into a Pandas Series, called `oil_series`. Give it a name!\n",
    "* Return the name, dtype, size, and index of `oil_series`.\n",
    "\n",
    "Take the mean of the values array. \n",
    "\n",
    "Then, convert the series to integer datatype and recalculate the mean. \n"
   ]
  },
  {
   "cell_type": "code",
   "execution_count": 73,
   "id": "df36e3d6",
   "metadata": {},
   "outputs": [
    {
     "data": {
      "text/plain": [
       "array([52.22, 51.44, 51.98, 52.01, 52.82, 54.01, 53.8 , 53.75, 52.36,\n",
       "       53.26, 53.77, 53.98, 51.95, 50.82, 52.19, 53.01, 52.36, 52.45,\n",
       "       51.12, 51.39, 52.33, 52.77, 52.38, 52.14, 53.24, 53.18, 52.63,\n",
       "       52.75, 53.9 , 53.55, 53.81, 53.01, 52.19, 52.37, 52.99, 53.84,\n",
       "       52.96, 53.21, 53.11, 53.41, 53.41, 54.02, 53.61, 54.48, 53.99,\n",
       "       54.04, 54.  , 53.82, 52.63, 53.33, 53.19, 52.68, 49.83, 48.75,\n",
       "       48.05, 47.95, 47.24, 48.34, 48.3 , 48.34, 47.79, 47.02, 47.29,\n",
       "       47.  , 47.3 , 47.02, 48.36, 49.47, 50.3 , 50.54, 50.25, 50.99,\n",
       "       51.14, 51.69, 52.25, 53.06, 53.38, 53.12, 53.19, 52.62, 52.46,\n",
       "       50.49, 50.26, 49.64, 48.9 , 49.22, 49.22, 48.96, 49.31, 48.83,\n",
       "       47.65, 47.79, 45.55, 46.23, 46.46, 45.84, 47.28, 47.81, 47.83,\n",
       "       48.86])"
      ]
     },
     "execution_count": 73,
     "metadata": {},
     "output_type": "execute_result"
    }
   ],
   "source": [
    "# create a DataFrame from the oil file, drop missing values\n",
    "oil = pd.read_csv(\"../retail/oil.csv\").dropna()\n",
    "\n",
    "# Grab 100 rows of oil prices\n",
    "oil_array = np.array(oil[\"dcoilwtico\"].iloc[1000:1100])\n",
    "\n",
    "oil_array"
   ]
  },
  {
   "cell_type": "code",
   "execution_count": 74,
   "id": "fc70abd0",
   "metadata": {},
   "outputs": [
    {
     "data": {
      "text/plain": [
       "0     52.22\n",
       "1     51.44\n",
       "2     51.98\n",
       "3     52.01\n",
       "4     52.82\n",
       "      ...  \n",
       "95    45.84\n",
       "96    47.28\n",
       "97    47.81\n",
       "98    47.83\n",
       "99    48.86\n",
       "Name: oil prices, Length: 100, dtype: float64"
      ]
     },
     "execution_count": 74,
     "metadata": {},
     "output_type": "execute_result"
    }
   ],
   "source": [
    "oil_series = pd.Series(oil_array, name = 'oil prices')\n",
    "\n",
    "oil_series"
   ]
  },
  {
   "cell_type": "code",
   "execution_count": 75,
   "id": "54190e1a",
   "metadata": {},
   "outputs": [
    {
     "name": "stdout",
     "output_type": "stream",
     "text": [
      "<class 'pandas.core.series.Series'>\n",
      "RangeIndex: 100 entries, 0 to 99\n",
      "Series name: oil prices\n",
      "Non-Null Count  Dtype  \n",
      "--------------  -----  \n",
      "100 non-null    float64\n",
      "dtypes: float64(1)\n",
      "memory usage: 928.0 bytes\n"
     ]
    }
   ],
   "source": [
    "oil_series.info()"
   ]
  },
  {
   "cell_type": "code",
   "execution_count": 76,
   "id": "7bf43cdc",
   "metadata": {},
   "outputs": [
    {
     "data": {
      "text/plain": [
       "'oil prices'"
      ]
     },
     "execution_count": 76,
     "metadata": {},
     "output_type": "execute_result"
    }
   ],
   "source": [
    "oil_series.name"
   ]
  },
  {
   "cell_type": "code",
   "execution_count": 77,
   "id": "96a0fb2a",
   "metadata": {},
   "outputs": [
    {
     "data": {
      "text/plain": [
       "100"
      ]
     },
     "execution_count": 77,
     "metadata": {},
     "output_type": "execute_result"
    }
   ],
   "source": [
    "oil_series.size"
   ]
  },
  {
   "cell_type": "code",
   "execution_count": 78,
   "id": "89fd8416-8647-452c-875b-0ec54b55d37a",
   "metadata": {},
   "outputs": [
    {
     "data": {
      "text/plain": [
       "RangeIndex(start=0, stop=100, step=1)"
      ]
     },
     "execution_count": 78,
     "metadata": {},
     "output_type": "execute_result"
    }
   ],
   "source": [
    "oil_series.index"
   ]
  },
  {
   "cell_type": "code",
   "execution_count": 79,
   "id": "1b6d11ee",
   "metadata": {},
   "outputs": [
    {
     "data": {
      "text/plain": [
       "dtype('float64')"
      ]
     },
     "execution_count": 79,
     "metadata": {},
     "output_type": "execute_result"
    }
   ],
   "source": [
    "oil_series.dtype"
   ]
  },
  {
   "cell_type": "code",
   "execution_count": 80,
   "id": "1b3e08ee-cd90-4b72-95f0-792e5061421f",
   "metadata": {},
   "outputs": [
    {
     "data": {
      "text/plain": [
       "array([52.22, 51.44, 51.98, 52.01, 52.82, 54.01, 53.8 , 53.75, 52.36,\n",
       "       53.26, 53.77, 53.98, 51.95, 50.82, 52.19, 53.01, 52.36, 52.45,\n",
       "       51.12, 51.39, 52.33, 52.77, 52.38, 52.14, 53.24, 53.18, 52.63,\n",
       "       52.75, 53.9 , 53.55, 53.81, 53.01, 52.19, 52.37, 52.99, 53.84,\n",
       "       52.96, 53.21, 53.11, 53.41, 53.41, 54.02, 53.61, 54.48, 53.99,\n",
       "       54.04, 54.  , 53.82, 52.63, 53.33, 53.19, 52.68, 49.83, 48.75,\n",
       "       48.05, 47.95, 47.24, 48.34, 48.3 , 48.34, 47.79, 47.02, 47.29,\n",
       "       47.  , 47.3 , 47.02, 48.36, 49.47, 50.3 , 50.54, 50.25, 50.99,\n",
       "       51.14, 51.69, 52.25, 53.06, 53.38, 53.12, 53.19, 52.62, 52.46,\n",
       "       50.49, 50.26, 49.64, 48.9 , 49.22, 49.22, 48.96, 49.31, 48.83,\n",
       "       47.65, 47.79, 45.55, 46.23, 46.46, 45.84, 47.28, 47.81, 47.83,\n",
       "       48.86])"
      ]
     },
     "execution_count": 80,
     "metadata": {},
     "output_type": "execute_result"
    }
   ],
   "source": [
    "oil_series.values"
   ]
  },
  {
   "cell_type": "code",
   "execution_count": 81,
   "id": "d5bc48f2",
   "metadata": {},
   "outputs": [
    {
     "data": {
      "text/plain": [
       "51.13"
      ]
     },
     "execution_count": 81,
     "metadata": {},
     "output_type": "execute_result"
    }
   ],
   "source": [
    "round(oil_series.mean(), 2)"
   ]
  },
  {
   "cell_type": "code",
   "execution_count": 82,
   "id": "558295df-b141-466e-9f28-e213b8deb4ce",
   "metadata": {},
   "outputs": [
    {
     "data": {
      "text/plain": [
       "50.66"
      ]
     },
     "execution_count": 82,
     "metadata": {},
     "output_type": "execute_result"
    }
   ],
   "source": [
    "oil_series.astype('int').mean()"
   ]
  },
  {
   "cell_type": "markdown",
   "id": "663f2bda",
   "metadata": {
    "tags": []
   },
   "source": [
    "# Assignment 2:  Accessing Series Data\n",
    "\n",
    "* Set the date series, which has been created below, to be the index of the oil price series created in assignment 1.\n",
    "\n",
    "\n",
    "* Then, take the mean of the first 10 and last 10 prices of the series.\n",
    "\n",
    "\n",
    "* Finally, grab all oil prices from January 1st, 2017 - January 7th, 2017 (inclusive) and set the index to the default integer index."
   ]
  },
  {
   "cell_type": "code",
   "execution_count": 83,
   "id": "cad8001a",
   "metadata": {},
   "outputs": [],
   "source": [
    "# extract date column from oil DataFrame and grab first 100 rows\n",
    "\n",
    "dates = pd.Series(oil[\"date\"]).iloc[1000:1100]"
   ]
  },
  {
   "cell_type": "code",
   "execution_count": 86,
   "id": "49b55b99",
   "metadata": {},
   "outputs": [],
   "source": [
    "oil_series.index = dates"
   ]
  },
  {
   "cell_type": "code",
   "execution_count": 87,
   "id": "ea824944-ae60-4e39-89da-8ffafd8c7d63",
   "metadata": {},
   "outputs": [
    {
     "data": {
      "text/plain": [
       "date\n",
       "2016-12-20    52.22\n",
       "2016-12-21    51.44\n",
       "2016-12-22    51.98\n",
       "2016-12-23    52.01\n",
       "2016-12-27    52.82\n",
       "              ...  \n",
       "2017-05-09    45.84\n",
       "2017-05-10    47.28\n",
       "2017-05-11    47.81\n",
       "2017-05-12    47.83\n",
       "2017-05-15    48.86\n",
       "Name: oil prices, Length: 100, dtype: float64"
      ]
     },
     "execution_count": 87,
     "metadata": {},
     "output_type": "execute_result"
    }
   ],
   "source": [
    "oil_series"
   ]
  },
  {
   "cell_type": "code",
   "execution_count": 99,
   "id": "801aae04",
   "metadata": {},
   "outputs": [
    {
     "data": {
      "text/plain": [
       "52.765"
      ]
     },
     "execution_count": 99,
     "metadata": {},
     "output_type": "execute_result"
    }
   ],
   "source": [
    "first_10 = oil_series.iloc[:10].mean()\n",
    "\n",
    "first_10"
   ]
  },
  {
   "cell_type": "code",
   "execution_count": 103,
   "id": "44aa48a6",
   "metadata": {},
   "outputs": [
    {
     "data": {
      "text/plain": [
       "47.129999999999995"
      ]
     },
     "execution_count": 103,
     "metadata": {},
     "output_type": "execute_result"
    }
   ],
   "source": [
    "oil_series.iloc[-10:].mean()"
   ]
  },
  {
   "cell_type": "code",
   "execution_count": 111,
   "id": "3f62e1ce",
   "metadata": {},
   "outputs": [
    {
     "data": {
      "text/plain": [
       "0    52.36\n",
       "1    53.26\n",
       "2    53.77\n",
       "3    53.98\n",
       "Name: oil prices, dtype: float64"
      ]
     },
     "execution_count": 111,
     "metadata": {},
     "output_type": "execute_result"
    }
   ],
   "source": [
    "oil_series.loc['2017-01-01':'2017-01-07'].reset_index(drop=True)"
   ]
  },
  {
   "cell_type": "markdown",
   "id": "203a759a-18a0-40f8-bef5-3dbd0d8f9fc4",
   "metadata": {},
   "source": [
    "# Filtering Series"
   ]
  },
  {
   "cell_type": "markdown",
   "id": "21cb7c49-850d-4858-9320-45d838c0afca",
   "metadata": {},
   "source": [
    "Filter a Series by passing a logical test into the .loc[] accessor (like arrays)\n",
    "\n",
    "- Can use operators & methods to create Boolean filters for logical tests. python operators vs pandas method\n",
    "    - equal == / .eq()\n",
    "    - not equal != / .ne()\n",
    "    - less than or equal <= / .le()\n",
    "    - less than < / .lt()\n",
    "    - greater than or equal >= / .ge()\n",
    "    - greater than > / .gt()\n",
    "    - membership test: in / .isin()\n",
    "    - inverse membership test: not in / ~isin()\n",
    "    \n",
    "    \n",
    " membership test 'in' and 'not in' wont work for many operations, so the pandas method must be used."
   ]
  },
  {
   "cell_type": "markdown",
   "id": "ad1008cf-ce3b-41c1-b6a2-ffa77aa50b2e",
   "metadata": {},
   "source": []
  },
  {
   "cell_type": "code",
   "execution_count": 113,
   "id": "cec7e208-258e-43f7-823e-63fa2fa87c03",
   "metadata": {},
   "outputs": [
    {
     "data": {
      "text/plain": [
       "coffee       0\n",
       "bananas      5\n",
       "tea        155\n",
       "coconut      0\n",
       "sugar      518\n",
       "Name: Sales, dtype: int64"
      ]
     },
     "execution_count": 113,
     "metadata": {},
     "output_type": "execute_result"
    }
   ],
   "source": [
    "sales_series"
   ]
  },
  {
   "cell_type": "code",
   "execution_count": 114,
   "id": "0ba8b624-6f43-44fb-97f3-0cc6fb3dbae9",
   "metadata": {},
   "outputs": [
    {
     "data": {
      "text/plain": [
       "bananas      5\n",
       "tea        155\n",
       "sugar      518\n",
       "Name: Sales, dtype: int64"
      ]
     },
     "execution_count": 114,
     "metadata": {},
     "output_type": "execute_result"
    }
   ],
   "source": [
    "sales_series.loc[sales_series > 0]"
   ]
  },
  {
   "cell_type": "code",
   "execution_count": 116,
   "id": "e8f4239a-5299-4bb0-865f-6dd38c638500",
   "metadata": {},
   "outputs": [
    {
     "data": {
      "text/plain": [
       "Series([], Name: Sales, dtype: int64)"
      ]
     },
     "execution_count": 116,
     "metadata": {},
     "output_type": "execute_result"
    }
   ],
   "source": [
    "mask = (sales_series > 0) & (sales_series.index == 'coffee')\n",
    "\n",
    "sales_series.loc[mask]"
   ]
  },
  {
   "cell_type": "code",
   "execution_count": 118,
   "id": "9682e07e-c282-4bbe-a4f9-86659ba54383",
   "metadata": {},
   "outputs": [
    {
     "data": {
      "text/plain": [
       "array([ True, False,  True, False, False])"
      ]
     },
     "execution_count": 118,
     "metadata": {},
     "output_type": "execute_result"
    }
   ],
   "source": [
    "# is in list\n",
    "sales_series.index.isin(['coffee', 'tea'])"
   ]
  },
  {
   "cell_type": "code",
   "execution_count": 119,
   "id": "7ac9cc29-acc2-4e05-b4df-4f664abe6e04",
   "metadata": {},
   "outputs": [
    {
     "data": {
      "text/plain": [
       "array([False,  True, False,  True,  True])"
      ]
     },
     "execution_count": 119,
     "metadata": {},
     "output_type": "execute_result"
    }
   ],
   "source": [
    "# not in list\n",
    "~sales_series.index.isin(['coffee', 'tea'])"
   ]
  },
  {
   "cell_type": "code",
   "execution_count": 121,
   "id": "f70fad19-1d46-4785-93d0-f7adee2cb236",
   "metadata": {},
   "outputs": [
    {
     "data": {
      "text/plain": [
       "0      False\n",
       "2       True\n",
       "3      False\n",
       "100    False\n",
       "5      False\n",
       "dtype: bool"
      ]
     },
     "execution_count": 121,
     "metadata": {},
     "output_type": "execute_result"
    }
   ],
   "source": [
    "my_series == 1"
   ]
  },
  {
   "cell_type": "code",
   "execution_count": 122,
   "id": "5344dbb7-7b7c-42e7-8abf-dbc91070338a",
   "metadata": {},
   "outputs": [
    {
     "data": {
      "text/plain": [
       "0      0\n",
       "2      1\n",
       "100    3\n",
       "5      4\n",
       "dtype: int64"
      ]
     },
     "execution_count": 122,
     "metadata": {},
     "output_type": "execute_result"
    }
   ],
   "source": [
    "my_series.loc[my_series != 2]"
   ]
  },
  {
   "cell_type": "code",
   "execution_count": 123,
   "id": "47a72fd9-b5d3-4060-9763-f29ce332f37b",
   "metadata": {},
   "outputs": [
    {
     "data": {
      "text/plain": [
       "2    1\n",
       "3    2\n",
       "dtype: int64"
      ]
     },
     "execution_count": 123,
     "metadata": {},
     "output_type": "execute_result"
    }
   ],
   "source": [
    "my_series.loc[my_series.isin([1, 2])]"
   ]
  },
  {
   "cell_type": "code",
   "execution_count": 124,
   "id": "b89781c2-ca05-471e-8806-9d6bf27db6ab",
   "metadata": {},
   "outputs": [
    {
     "data": {
      "text/plain": [
       "0    0\n",
       "2    1\n",
       "3    2\n",
       "dtype: int64"
      ]
     },
     "execution_count": 124,
     "metadata": {},
     "output_type": "execute_result"
    }
   ],
   "source": [
    "# inverse condition must use paranthesis\n",
    "my_series.loc[~(my_series > 2)]"
   ]
  },
  {
   "cell_type": "code",
   "execution_count": 127,
   "id": "40ebc3cc-8830-47b2-a631-556bdbc5f27d",
   "metadata": {},
   "outputs": [
    {
     "data": {
      "text/plain": [
       "0      0\n",
       "2      1\n",
       "3      2\n",
       "100    3\n",
       "5      4\n",
       "dtype: int64"
      ]
     },
     "execution_count": 127,
     "metadata": {},
     "output_type": "execute_result"
    }
   ],
   "source": [
    "my_series"
   ]
  },
  {
   "cell_type": "code",
   "execution_count": 126,
   "id": "c29e50a5-e510-4ac9-b63c-e294297f7e2e",
   "metadata": {},
   "outputs": [
    {
     "data": {
      "text/plain": [
       "2      1\n",
       "3      2\n",
       "100    3\n",
       "5      4\n",
       "dtype: int64"
      ]
     },
     "execution_count": 126,
     "metadata": {},
     "output_type": "execute_result"
    }
   ],
   "source": [
    "mask = (my_series.isin([1, 2])) | (my_series > 2)\n",
    "\n",
    "my_series.loc[mask]"
   ]
  },
  {
   "cell_type": "markdown",
   "id": "d432ac42-561b-4754-9cd7-740568ab513e",
   "metadata": {},
   "source": [
    "# Sorting Series"
   ]
  },
  {
   "cell_type": "markdown",
   "id": "4daa895a-f152-494a-a3c2-8917acc8018e",
   "metadata": {},
   "source": [
    "You can sort Series by their values or their index.\n",
    "\n",
    "1. the sort_values() method sorts a Series by its values in ascending order"
   ]
  },
  {
   "cell_type": "code",
   "execution_count": 129,
   "id": "0ddb8af0-1ae4-4194-8042-bc563544955d",
   "metadata": {},
   "outputs": [
    {
     "data": {
      "text/plain": [
       "sugar      518\n",
       "tea        155\n",
       "bananas      5\n",
       "coffee       0\n",
       "coconut      0\n",
       "Name: Sales, dtype: int64"
      ]
     },
     "execution_count": 129,
     "metadata": {},
     "output_type": "execute_result"
    }
   ],
   "source": [
    "# descending\n",
    "sales_series.sort_values(ascending=False)"
   ]
  },
  {
   "cell_type": "markdown",
   "id": "fbd2a217-be64-44c0-97f7-23afd969a313",
   "metadata": {},
   "source": [
    "2. the sort_index() method sorts a Series by its index in ascending order"
   ]
  },
  {
   "cell_type": "code",
   "execution_count": 132,
   "id": "012d9d34-63ad-466c-87cc-ab458410aba5",
   "metadata": {},
   "outputs": [
    {
     "data": {
      "text/plain": [
       "tea        155\n",
       "sugar      518\n",
       "coffee       0\n",
       "coconut      0\n",
       "bananas      5\n",
       "Name: Sales, dtype: int64"
      ]
     },
     "execution_count": 132,
     "metadata": {},
     "output_type": "execute_result"
    }
   ],
   "source": [
    "sales_series.sort_index(ascending=False)"
   ]
  },
  {
   "cell_type": "code",
   "execution_count": 133,
   "id": "b6715036-e735-4002-b199-2a79ffe256fb",
   "metadata": {},
   "outputs": [
    {
     "data": {
      "text/plain": [
       "0      0\n",
       "2      1\n",
       "3      2\n",
       "100    3\n",
       "5      4\n",
       "dtype: int64"
      ]
     },
     "execution_count": 133,
     "metadata": {},
     "output_type": "execute_result"
    }
   ],
   "source": [
    "my_series"
   ]
  },
  {
   "cell_type": "code",
   "execution_count": 134,
   "id": "2a65a953-87ca-465a-ac93-f48e70148270",
   "metadata": {},
   "outputs": [
    {
     "data": {
      "text/plain": [
       "0      0\n",
       "2      1\n",
       "3      2\n",
       "100    3\n",
       "5      4\n",
       "dtype: int64"
      ]
     },
     "execution_count": 134,
     "metadata": {},
     "output_type": "execute_result"
    }
   ],
   "source": [
    "# sort by values\n",
    "my_series.sort_values()"
   ]
  },
  {
   "cell_type": "code",
   "execution_count": 135,
   "id": "1ca2dfab-b6be-408d-b5a6-b4869f542feb",
   "metadata": {},
   "outputs": [
    {
     "data": {
      "text/plain": [
       "5      4\n",
       "100    3\n",
       "3      2\n",
       "2      1\n",
       "0      0\n",
       "dtype: int64"
      ]
     },
     "execution_count": 135,
     "metadata": {},
     "output_type": "execute_result"
    }
   ],
   "source": [
    "my_series.sort_values(ascending=False)"
   ]
  },
  {
   "cell_type": "code",
   "execution_count": 139,
   "id": "61afdafd-3441-42ca-ab3e-ad1514faa400",
   "metadata": {},
   "outputs": [
    {
     "data": {
      "text/plain": [
       "5      4\n",
       "100    3\n",
       "3      2\n",
       "2      1\n",
       "0      0\n",
       "dtype: int64"
      ]
     },
     "execution_count": 139,
     "metadata": {},
     "output_type": "execute_result"
    }
   ],
   "source": [
    "# permanently sort series using inplace or\n",
    "my_series.sort_values(ascending=False, inplace=True)\n",
    "\n",
    "my_series"
   ]
  },
  {
   "cell_type": "code",
   "execution_count": 142,
   "id": "5926d818-5fdc-48fc-afbc-7ea7e12f6aae",
   "metadata": {},
   "outputs": [
    {
     "data": {
      "text/plain": [
       "5      4\n",
       "100    3\n",
       "3      2\n",
       "2      1\n",
       "0      0\n",
       "dtype: int64"
      ]
     },
     "execution_count": 142,
     "metadata": {},
     "output_type": "execute_result"
    }
   ],
   "source": [
    "# permanently sort series using sort\n",
    "my_series2 = my_series.sort_values(ascending=False)\n",
    "\n",
    "my_series2"
   ]
  },
  {
   "cell_type": "markdown",
   "id": "deec0721",
   "metadata": {},
   "source": [
    "# Assignment 3: Sorting and Filtering Series\n",
    "\n",
    "* First, get the 10 lowest prices from the data. \n",
    "* Sort the 10 lowest prices by date, starting with the most recent and ending with the oldest price.\n",
    "\n",
    "* Finally, use the list of provided dates. Select only rows with these dates that had a price of less than 50 dollars per barrel."
   ]
  },
  {
   "cell_type": "code",
   "execution_count": 143,
   "id": "46126b3e",
   "metadata": {},
   "outputs": [],
   "source": [
    "# list of dates to be used to solve bullet 3\n",
    "\n",
    "dates = [\n",
    "    \"2016-12-22\",\n",
    "    \"2017-05-03\",\n",
    "    \"2017-01-06\",\n",
    "    \"2017-03-05\",\n",
    "    \"2017-02-12\",\n",
    "    \"2017-03-21\",\n",
    "    \"2017-04-14\",\n",
    "    \"2017-04-15\",\n",
    "]"
   ]
  },
  {
   "cell_type": "code",
   "execution_count": 144,
   "id": "2eecaa97",
   "metadata": {},
   "outputs": [
    {
     "data": {
      "text/plain": [
       "date\n",
       "2016-12-20    52.22\n",
       "2016-12-21    51.44\n",
       "2016-12-22    51.98\n",
       "2016-12-23    52.01\n",
       "2016-12-27    52.82\n",
       "              ...  \n",
       "2017-05-09    45.84\n",
       "2017-05-10    47.28\n",
       "2017-05-11    47.81\n",
       "2017-05-12    47.83\n",
       "2017-05-15    48.86\n",
       "Name: oil prices, Length: 100, dtype: float64"
      ]
     },
     "execution_count": 144,
     "metadata": {},
     "output_type": "execute_result"
    }
   ],
   "source": [
    "oil_series"
   ]
  },
  {
   "cell_type": "code",
   "execution_count": 156,
   "id": "cb0082f0-42ac-4105-9fe3-2ca37ed66732",
   "metadata": {},
   "outputs": [
    {
     "data": {
      "text/plain": [
       "date\n",
       "2017-05-04    45.55\n",
       "2017-05-09    45.84\n",
       "2017-05-05    46.23\n",
       "2017-05-08    46.46\n",
       "2017-03-23    47.00\n",
       "              ...  \n",
       "2017-02-28    54.00\n",
       "2016-12-28    54.01\n",
       "2017-02-21    54.02\n",
       "2017-02-27    54.04\n",
       "2017-02-23    54.48\n",
       "Name: oil prices, Length: 100, dtype: float64"
      ]
     },
     "execution_count": 156,
     "metadata": {},
     "output_type": "execute_result"
    }
   ],
   "source": [
    "oil_series.sort_values(ascending=True, inplace=True)\n",
    "\n",
    "oil_series"
   ]
  },
  {
   "cell_type": "code",
   "execution_count": 157,
   "id": "41e43f98-7c8d-4c1f-a8db-f4fe5d9b1ee6",
   "metadata": {},
   "outputs": [
    {
     "data": {
      "text/plain": [
       "date\n",
       "2017-05-04    45.55\n",
       "2017-05-09    45.84\n",
       "2017-05-05    46.23\n",
       "2017-05-08    46.46\n",
       "2017-03-23    47.00\n",
       "2017-03-27    47.02\n",
       "2017-03-21    47.02\n",
       "2017-03-14    47.24\n",
       "2017-05-10    47.28\n",
       "Name: oil prices, dtype: float64"
      ]
     },
     "execution_count": 157,
     "metadata": {},
     "output_type": "execute_result"
    }
   ],
   "source": [
    "lowest_price = oil_series[:9]\n",
    "\n",
    "lowest_price"
   ]
  },
  {
   "cell_type": "code",
   "execution_count": 160,
   "id": "4864ae20",
   "metadata": {},
   "outputs": [
    {
     "data": {
      "text/plain": [
       "date\n",
       "2017-05-10    47.28\n",
       "2017-05-09    45.84\n",
       "2017-05-08    46.46\n",
       "2017-05-05    46.23\n",
       "2017-05-04    45.55\n",
       "2017-03-27    47.02\n",
       "2017-03-23    47.00\n",
       "2017-03-21    47.02\n",
       "2017-03-14    47.24\n",
       "Name: oil prices, dtype: float64"
      ]
     },
     "execution_count": 160,
     "metadata": {},
     "output_type": "execute_result"
    }
   ],
   "source": [
    "lowest_price.sort_index(ascending=False, inplace=True)\n",
    "\n",
    "lowest_price"
   ]
  },
  {
   "cell_type": "code",
   "execution_count": 174,
   "id": "d3394395-c9ce-4cce-bf41-29d8023ef910",
   "metadata": {},
   "outputs": [
    {
     "data": {
      "text/plain": [
       "date\n",
       "2017-05-10    47.28\n",
       "2017-05-09    45.84\n",
       "2017-05-08    46.46\n",
       "2017-05-05    46.23\n",
       "2017-05-04    45.55\n",
       "2017-03-27    47.02\n",
       "2017-03-23    47.00\n",
       "2017-03-22    47.29\n",
       "2017-03-21    47.02\n",
       "2017-03-14    47.24\n",
       "Name: oil prices, dtype: float64"
      ]
     },
     "execution_count": 174,
     "metadata": {},
     "output_type": "execute_result"
    }
   ],
   "source": [
    "# solution\n",
    "oil_series.sort_values().iloc[:10].sort_index(ascending=False)"
   ]
  },
  {
   "cell_type": "code",
   "execution_count": 175,
   "id": "039c18cb-27a4-48d8-8c89-a04e2f4718f4",
   "metadata": {},
   "outputs": [
    {
     "data": {
      "text/plain": [
       "date\n",
       "2017-03-21    47.02\n",
       "2017-05-03    47.79\n",
       "Name: oil prices, dtype: float64"
      ]
     },
     "execution_count": 175,
     "metadata": {},
     "output_type": "execute_result"
    }
   ],
   "source": [
    "# Dates in list AND price is less than or equal to 50\n",
    "mask = (oil_series.index.isin(dates)) & (oil_series <= 50)\n",
    "oil_series.loc[mask]"
   ]
  },
  {
   "cell_type": "markdown",
   "id": "863d60de-06e2-4f08-bb4d-a5a5e0df060c",
   "metadata": {},
   "source": [
    "# Arithmetic Operators & Methods"
   ]
  },
  {
   "cell_type": "markdown",
   "id": "8226065e-0a24-4a60-9ce8-9a04fd5405a8",
   "metadata": {},
   "source": [
    "Python operators or pandas methods\n",
    "- addition: + / .add()\n",
    "- subtraction: - / .sub(), .subtract()\n",
    "- multiplication: * / .mul(), .multiply()\n",
    "- division: / or .div(), .truediv(), .divide()\n",
    "- floor division: // or .floordiv()\n",
    "- modulo: % / .mod()\n",
    "- exponentiation: ** / .pow()"
   ]
  },
  {
   "cell_type": "code",
   "execution_count": 196,
   "id": "d8721cba-bbd2-4ac1-9311-e96a2aeb498f",
   "metadata": {},
   "outputs": [
    {
     "data": {
      "text/plain": [
       "day 0    1.0\n",
       "day 1    NaN\n",
       "day 2    2.0\n",
       "day 3    3.0\n",
       "day 4    4.0\n",
       "dtype: float64"
      ]
     },
     "execution_count": 196,
     "metadata": {},
     "output_type": "execute_result"
    }
   ],
   "source": [
    "my_series = pd.Series([1, np.NaN, 2, 3, 4], index=['day 0', 'day 1', 'day 2', 'day 3', 'day 4'])\n",
    "\n",
    "my_series                     "
   ]
  },
  {
   "cell_type": "code",
   "execution_count": 197,
   "id": "a308612f-aaea-4d08-821c-1e217a1e7baf",
   "metadata": {},
   "outputs": [
    {
     "data": {
      "text/plain": [
       "day 0    2.0\n",
       "day 1    NaN\n",
       "day 2    3.0\n",
       "day 3    4.0\n",
       "day 4    5.0\n",
       "dtype: float64"
      ]
     },
     "execution_count": 197,
     "metadata": {},
     "output_type": "execute_result"
    }
   ],
   "source": [
    "my_series + 1"
   ]
  },
  {
   "cell_type": "code",
   "execution_count": 201,
   "id": "fce5ced1-a070-4992-bdcf-145bbd9e227e",
   "metadata": {},
   "outputs": [
    {
     "data": {
      "text/plain": [
       "day 0    2\n",
       "day 1    1\n",
       "day 2    3\n",
       "day 3    4\n",
       "day 4    5\n",
       "dtype: int64"
      ]
     },
     "execution_count": 201,
     "metadata": {},
     "output_type": "execute_result"
    }
   ],
   "source": [
    "my_series2 = my_series.add(1, fill_value=0).astype('int')\n",
    "\n",
    "my_series2"
   ]
  },
  {
   "cell_type": "code",
   "execution_count": 203,
   "id": "d019fbe3-a338-47b9-aefe-a8590cfb7ebc",
   "metadata": {},
   "outputs": [
    {
     "data": {
      "text/plain": [
       "day 0    1.0\n",
       "day 1    0.5\n",
       "day 2    1.5\n",
       "day 3    2.0\n",
       "day 4    2.5\n",
       "dtype: float64"
      ]
     },
     "execution_count": 203,
     "metadata": {},
     "output_type": "execute_result"
    }
   ],
   "source": [
    "my_series2 / 2"
   ]
  },
  {
   "cell_type": "code",
   "execution_count": 204,
   "id": "e2357967-4b63-4858-8184-9c15e3cf5560",
   "metadata": {},
   "outputs": [
    {
     "data": {
      "text/plain": [
       "day 0    3.0\n",
       "day 1    NaN\n",
       "day 2    5.0\n",
       "day 3    7.0\n",
       "day 4    9.0\n",
       "dtype: float64"
      ]
     },
     "execution_count": 204,
     "metadata": {},
     "output_type": "execute_result"
    }
   ],
   "source": [
    "my_series + my_series2"
   ]
  },
  {
   "cell_type": "code",
   "execution_count": null,
   "id": "58866be6-5fbd-4012-891b-5920a60b21d7",
   "metadata": {},
   "outputs": [],
   "source": [
    "# handle missing value\n",
    "my_series.add(1, fill_value"
   ]
  },
  {
   "cell_type": "code",
   "execution_count": 206,
   "id": "070cfbda-47c6-4984-a214-1d2809adc42a",
   "metadata": {},
   "outputs": [
    {
     "data": {
      "text/plain": [
       "day 0    1.25\n",
       "day 1     NaN\n",
       "day 2    2.00\n",
       "day 3    2.75\n",
       "day 4    3.50\n",
       "dtype: float64"
      ]
     },
     "execution_count": 206,
     "metadata": {},
     "output_type": "execute_result"
    }
   ],
   "source": [
    "(my_series + my_series2 * 2) / 4"
   ]
  },
  {
   "cell_type": "markdown",
   "id": "06f89c26-96aa-47fb-ac41-c56a3613a137",
   "metadata": {},
   "source": [
    "# String Methods\n",
    "The Pandas str accessor lets you access many strong methods\n",
    "- these methods all return a Series (split retuns multiple series)"
   ]
  },
  {
   "cell_type": "markdown",
   "id": "5ac0d256-623d-462e-889c-be845558d62b",
   "metadata": {},
   "source": [
    "String Method\n",
    "\n",
    "- .strip(): removes all leading and/or trailing characters (spaces by default)\n",
    "- .upper().lower(): converts all characters to upper or lower case\n",
    "- .slice(start:stop:step): applies a slice to the strings in a Series\n",
    "- .count('string'): counts all instances of a given string\n",
    "- .contains('string'): returns True if a given string is found; False if not\n",
    "- .replace('a', 'b'): replaces instances of string 'a' with string 'b'\n",
    "- .split('delimiter', expand=True): splits strings based on a given delimiter string, and returns a DataFrame with a Series for each split\n",
    "- .len(): returns the length of each string in a Series\n",
    "- .startswith('string'), .endswith('string): returns True if a string starts or ends with a given string; False if not."
   ]
  },
  {
   "cell_type": "code",
   "execution_count": 176,
   "id": "f70f709e-0d39-446e-91b9-bf1cfea92315",
   "metadata": {},
   "outputs": [
    {
     "data": {
      "text/plain": [
       "0    day 0\n",
       "1    day 1\n",
       "2    day 2\n",
       "3    day 3\n",
       "4    day 4\n",
       "dtype: object"
      ]
     },
     "execution_count": 176,
     "metadata": {},
     "output_type": "execute_result"
    }
   ],
   "source": [
    "string_series = pd.Series(['day 0', 'day 1', 'day 2', 'day 3', 'day 4'])\n",
    "\n",
    "string_series"
   ]
  },
  {
   "cell_type": "code",
   "execution_count": 177,
   "id": "8e21939a-c1e9-43eb-8177-1cc8b9287b70",
   "metadata": {},
   "outputs": [
    {
     "data": {
      "text/plain": [
       "0    DAY 0\n",
       "1    DAY 1\n",
       "2    DAY 2\n",
       "3    DAY 3\n",
       "4    DAY 4\n",
       "dtype: object"
      ]
     },
     "execution_count": 177,
     "metadata": {},
     "output_type": "execute_result"
    }
   ],
   "source": [
    "string_series.str.upper()"
   ]
  },
  {
   "cell_type": "code",
   "execution_count": 179,
   "id": "d146c45a-56ad-4ff6-a62c-9a8087109611",
   "metadata": {},
   "outputs": [
    {
     "data": {
      "text/plain": [
       "0    False\n",
       "1     True\n",
       "2    False\n",
       "3    False\n",
       "4    False\n",
       "dtype: bool"
      ]
     },
     "execution_count": 179,
     "metadata": {},
     "output_type": "execute_result"
    }
   ],
   "source": [
    "string_series.str.upper().str.contains('DAY 1')"
   ]
  },
  {
   "cell_type": "code",
   "execution_count": 180,
   "id": "159d56db-f215-402f-8d68-4bfd6565e885",
   "metadata": {},
   "outputs": [
    {
     "data": {
      "text/plain": [
       "0    0\n",
       "1    1\n",
       "2    2\n",
       "3    3\n",
       "4    4\n",
       "dtype: int64"
      ]
     },
     "execution_count": 180,
     "metadata": {},
     "output_type": "execute_result"
    }
   ],
   "source": [
    "# remove day suffix\n",
    "string_series.str.strip('day ').astype('int')"
   ]
  },
  {
   "cell_type": "code",
   "execution_count": 184,
   "id": "8c15d421-41b8-46f2-953f-6d4e5f65c235",
   "metadata": {},
   "outputs": [
    {
     "data": {
      "text/plain": [
       "0    ay\n",
       "1    ay\n",
       "2    ay\n",
       "3    ay\n",
       "4    ay\n",
       "dtype: object"
      ]
     },
     "execution_count": 184,
     "metadata": {},
     "output_type": "execute_result"
    }
   ],
   "source": [
    "# access position of character\n",
    "string_series.str[1:3]"
   ]
  },
  {
   "cell_type": "code",
   "execution_count": 186,
   "id": "b5411cdb-01cc-4b84-919f-a39d6194023a",
   "metadata": {},
   "outputs": [
    {
     "data": {
      "text/html": [
       "<div>\n",
       "<style scoped>\n",
       "    .dataframe tbody tr th:only-of-type {\n",
       "        vertical-align: middle;\n",
       "    }\n",
       "\n",
       "    .dataframe tbody tr th {\n",
       "        vertical-align: top;\n",
       "    }\n",
       "\n",
       "    .dataframe thead th {\n",
       "        text-align: right;\n",
       "    }\n",
       "</style>\n",
       "<table border=\"1\" class=\"dataframe\">\n",
       "  <thead>\n",
       "    <tr style=\"text-align: right;\">\n",
       "      <th></th>\n",
       "      <th>0</th>\n",
       "      <th>1</th>\n",
       "    </tr>\n",
       "  </thead>\n",
       "  <tbody>\n",
       "    <tr>\n",
       "      <th>0</th>\n",
       "      <td>day</td>\n",
       "      <td>0</td>\n",
       "    </tr>\n",
       "    <tr>\n",
       "      <th>1</th>\n",
       "      <td>day</td>\n",
       "      <td>1</td>\n",
       "    </tr>\n",
       "    <tr>\n",
       "      <th>2</th>\n",
       "      <td>day</td>\n",
       "      <td>2</td>\n",
       "    </tr>\n",
       "    <tr>\n",
       "      <th>3</th>\n",
       "      <td>day</td>\n",
       "      <td>3</td>\n",
       "    </tr>\n",
       "    <tr>\n",
       "      <th>4</th>\n",
       "      <td>day</td>\n",
       "      <td>4</td>\n",
       "    </tr>\n",
       "  </tbody>\n",
       "</table>\n",
       "</div>"
      ],
      "text/plain": [
       "     0  1\n",
       "0  day  0\n",
       "1  day  1\n",
       "2  day  2\n",
       "3  day  3\n",
       "4  day  4"
      ]
     },
     "execution_count": 186,
     "metadata": {},
     "output_type": "execute_result"
    }
   ],
   "source": [
    "# split by delimiter and expand to own columns\n",
    "string_series.str.split(' ', expand=True)"
   ]
  },
  {
   "cell_type": "markdown",
   "id": "ce362e59",
   "metadata": {},
   "source": [
    "\n",
    "# Assignment 4: Series Operations\n",
    "\n",
    "* Increase the prices in the oil series by 10%, and add an additional 2 dollars per barrel on top of that.\n",
    "\n",
    "* Then, create a series that represents the difference between each price and max price.\n",
    "\n",
    "* Finally, extract the month from the string dates in the index and store them as an integer in their own series."
   ]
  },
  {
   "cell_type": "code",
   "execution_count": 221,
   "id": "ae131f95-5297-4ef7-a03d-ccf941659f98",
   "metadata": {},
   "outputs": [
    {
     "data": {
      "text/plain": [
       "date\n",
       "2017-05-04    45.55\n",
       "2017-05-09    45.84\n",
       "2017-05-05    46.23\n",
       "2017-05-08    46.46\n",
       "2017-03-23    47.00\n",
       "              ...  \n",
       "2017-02-28    54.00\n",
       "2016-12-28    54.01\n",
       "2017-02-21    54.02\n",
       "2017-02-27    54.04\n",
       "2017-02-23    54.48\n",
       "Name: oil prices, Length: 100, dtype: float64"
      ]
     },
     "execution_count": 221,
     "metadata": {},
     "output_type": "execute_result"
    }
   ],
   "source": [
    "oil_series"
   ]
  },
  {
   "cell_type": "code",
   "execution_count": 210,
   "id": "38305859",
   "metadata": {},
   "outputs": [
    {
     "data": {
      "text/plain": [
       "date\n",
       "2017-05-04    52.105\n",
       "2017-05-09    52.424\n",
       "2017-05-05    52.853\n",
       "2017-05-08    53.106\n",
       "2017-03-23    53.700\n",
       "               ...  \n",
       "2017-02-28    61.400\n",
       "2016-12-28    61.411\n",
       "2017-02-21    61.422\n",
       "2017-02-27    61.444\n",
       "2017-02-23    61.928\n",
       "Name: oil prices, Length: 100, dtype: float64"
      ]
     },
     "execution_count": 210,
     "metadata": {},
     "output_type": "execute_result"
    }
   ],
   "source": [
    "oil_increase = (oil_series * 1.1) + 2\n",
    "\n",
    "oil_increase"
   ]
  },
  {
   "cell_type": "code",
   "execution_count": 215,
   "id": "0f92574f",
   "metadata": {},
   "outputs": [
    {
     "data": {
      "text/plain": [
       "54.48"
      ]
     },
     "execution_count": 215,
     "metadata": {},
     "output_type": "execute_result"
    }
   ],
   "source": [
    "max_price = oil_series.max()\n",
    "\n",
    "max_price"
   ]
  },
  {
   "cell_type": "code",
   "execution_count": 223,
   "id": "98b673c0",
   "metadata": {},
   "outputs": [
    {
     "data": {
      "text/plain": [
       "date\n",
       "2017-05-04   -0.163913\n",
       "2017-05-09   -0.158590\n",
       "2017-05-05   -0.151432\n",
       "2017-05-08   -0.147210\n",
       "2017-03-23   -0.137298\n",
       "                ...   \n",
       "2017-02-28   -0.008811\n",
       "2016-12-28   -0.008627\n",
       "2017-02-21   -0.008443\n",
       "2017-02-27   -0.008076\n",
       "2017-02-23    0.000000\n",
       "Name: oil prices, Length: 100, dtype: float64"
      ]
     },
     "execution_count": 223,
     "metadata": {},
     "output_type": "execute_result"
    }
   ],
   "source": [
    "diff_series = (oil_series - max_price) / max_price\n",
    "\n",
    "diff_series"
   ]
  },
  {
   "cell_type": "code",
   "execution_count": 240,
   "id": "383df848-0569-4ce2-ad6a-1c1ac3a96fa4",
   "metadata": {},
   "outputs": [
    {
     "data": {
      "text/plain": [
       "0      5\n",
       "1      5\n",
       "2      5\n",
       "3      5\n",
       "4      3\n",
       "      ..\n",
       "95     2\n",
       "96    12\n",
       "97     2\n",
       "98     2\n",
       "99     2\n",
       "Name: date, Length: 100, dtype: int64"
      ]
     },
     "execution_count": 240,
     "metadata": {},
     "output_type": "execute_result"
    }
   ],
   "source": [
    "month = s.astype('int')\n",
    "\n",
    "month_series = pd.Series(month)\n",
    "\n",
    "month_series"
   ]
  },
  {
   "cell_type": "code",
   "execution_count": 224,
   "id": "0cbd5306",
   "metadata": {
    "collapsed": true,
    "jupyter": {
     "outputs_hidden": true
    },
    "tags": []
   },
   "outputs": [
    {
     "data": {
      "text/plain": [
       "MultiIndex([('2017', '05', '04'),\n",
       "            ('2017', '05', '09'),\n",
       "            ('2017', '05', '05'),\n",
       "            ('2017', '05', '08'),\n",
       "            ('2017', '03', '23'),\n",
       "            ('2017', '03', '27'),\n",
       "            ('2017', '03', '21'),\n",
       "            ('2017', '03', '14'),\n",
       "            ('2017', '05', '10'),\n",
       "            ('2017', '03', '22'),\n",
       "            ('2017', '03', '24'),\n",
       "            ('2017', '05', '02'),\n",
       "            ('2017', '03', '20'),\n",
       "            ('2017', '05', '03'),\n",
       "            ('2017', '05', '11'),\n",
       "            ('2017', '05', '12'),\n",
       "            ('2017', '03', '13'),\n",
       "            ('2017', '03', '10'),\n",
       "            ('2017', '03', '16'),\n",
       "            ('2017', '03', '17'),\n",
       "            ('2017', '03', '15'),\n",
       "            ('2017', '03', '28'),\n",
       "            ('2017', '03', '09'),\n",
       "            ('2017', '05', '01'),\n",
       "            ('2017', '05', '15'),\n",
       "            ('2017', '04', '24'),\n",
       "            ('2017', '04', '27'),\n",
       "            ('2017', '04', '26'),\n",
       "            ('2017', '04', '25'),\n",
       "            ('2017', '04', '28'),\n",
       "            ('2017', '03', '29'),\n",
       "            ('2017', '04', '21'),\n",
       "            ('2017', '03', '08'),\n",
       "            ('2017', '04', '03'),\n",
       "            ('2017', '04', '20'),\n",
       "            ('2017', '03', '30'),\n",
       "            ('2017', '04', '19'),\n",
       "            ('2017', '03', '31'),\n",
       "            ('2017', '01', '10'),\n",
       "            ('2017', '04', '04'),\n",
       "            ('2017', '01', '18'),\n",
       "            ('2017', '04', '05'),\n",
       "            ('2017', '01', '19'),\n",
       "            ('2016', '12', '21'),\n",
       "            ('2017', '04', '06'),\n",
       "            ('2017', '01', '09'),\n",
       "            ('2016', '12', '22'),\n",
       "            ('2016', '12', '23'),\n",
       "            ('2017', '01', '25'),\n",
       "            ('2017', '01', '11'),\n",
       "            ('2017', '02', '07'),\n",
       "            ('2016', '12', '20'),\n",
       "            ('2017', '04', '07'),\n",
       "            ('2017', '01', '20'),\n",
       "            ('2017', '01', '03'),\n",
       "            ('2017', '01', '13'),\n",
       "            ('2017', '02', '08'),\n",
       "            ('2017', '01', '24'),\n",
       "            ('2017', '01', '17'),\n",
       "            ('2017', '04', '18'),\n",
       "            ('2017', '04', '17'),\n",
       "            ('2017', '03', '02'),\n",
       "            ('2017', '01', '30'),\n",
       "            ('2017', '03', '07'),\n",
       "            ('2017', '01', '31'),\n",
       "            ('2017', '01', '23'),\n",
       "            ('2016', '12', '27'),\n",
       "            ('2017', '02', '13'),\n",
       "            ('2017', '02', '09'),\n",
       "            ('2017', '01', '12'),\n",
       "            ('2017', '02', '06'),\n",
       "            ('2017', '04', '10'),\n",
       "            ('2017', '02', '15'),\n",
       "            ('2017', '04', '12'),\n",
       "            ('2017', '01', '27'),\n",
       "            ('2017', '04', '13'),\n",
       "            ('2017', '03', '06'),\n",
       "            ('2017', '02', '14'),\n",
       "            ('2017', '01', '26'),\n",
       "            ('2017', '01', '04'),\n",
       "            ('2017', '03', '03'),\n",
       "            ('2017', '04', '11'),\n",
       "            ('2017', '02', '16'),\n",
       "            ('2017', '02', '17'),\n",
       "            ('2017', '02', '02'),\n",
       "            ('2017', '02', '22'),\n",
       "            ('2016', '12', '30'),\n",
       "            ('2017', '01', '05'),\n",
       "            ('2016', '12', '29'),\n",
       "            ('2017', '02', '03'),\n",
       "            ('2017', '03', '01'),\n",
       "            ('2017', '02', '10'),\n",
       "            ('2017', '02', '01'),\n",
       "            ('2017', '01', '06'),\n",
       "            ('2017', '02', '24'),\n",
       "            ('2017', '02', '28'),\n",
       "            ('2016', '12', '28'),\n",
       "            ('2017', '02', '21'),\n",
       "            ('2017', '02', '27'),\n",
       "            ('2017', '02', '23')],\n",
       "           )"
      ]
     },
     "execution_count": 224,
     "metadata": {},
     "output_type": "execute_result"
    }
   ],
   "source": [
    "oil_series.index.str.split('-', expand=True)"
   ]
  },
  {
   "cell_type": "markdown",
   "id": "e3651e6d-ab97-4de2-afc0-aee5103dafdc",
   "metadata": {},
   "source": [
    "# Numeric Series Aggregations"
   ]
  },
  {
   "cell_type": "markdown",
   "id": "a4b04014-b70e-4f35-b363-b68751b9869b",
   "metadata": {},
   "source": [
    "Methods to aggregate numerical Series\n",
    "- .count(): returns the number of items\n",
    "- .first(), .last(): returns first or last item\n",
    "- .mean(), .median(): calculates the mean or median\n",
    "- .min(), max(): smallest or largest value\n",
    "- .argmax(), argmin(): returns the index for the smallest or largest values\n",
    "- .std(), .var(): calculates the standard deviation or variance\n",
    "- .mad(): calculates the mean of absolute deviation\n",
    "- .prod(): calculates the product of all the items\n",
    "- .sum(): calculates sum of all items\n",
    "- .quantile(): returns a specified percentile, or list of percentiles"
   ]
  },
  {
   "cell_type": "code",
   "execution_count": 243,
   "id": "b4854a59-da19-46aa-b5dd-b685ec95f511",
   "metadata": {},
   "outputs": [
    {
     "data": {
      "text/plain": [
       "coffee       0\n",
       "bananas      5\n",
       "tea        155\n",
       "coconut      0\n",
       "sugar      518\n",
       "Name: Sales, dtype: int64"
      ]
     },
     "execution_count": 243,
     "metadata": {},
     "output_type": "execute_result"
    }
   ],
   "source": [
    "sales_series"
   ]
  },
  {
   "cell_type": "code",
   "execution_count": 242,
   "id": "d5832d55-3167-4182-b8e7-93646958d28d",
   "metadata": {},
   "outputs": [
    {
     "data": {
      "text/plain": [
       "678"
      ]
     },
     "execution_count": 242,
     "metadata": {},
     "output_type": "execute_result"
    }
   ],
   "source": [
    "sales_series.sum()"
   ]
  },
  {
   "cell_type": "code",
   "execution_count": 245,
   "id": "d2a6444c-c8af-4819-ae68-8b1c4e11a928",
   "metadata": {},
   "outputs": [
    {
     "data": {
      "text/plain": [
       "0     770\n",
       "1    2111\n",
       "2    2358\n",
       "3    3487\n",
       "4    1922\n",
       "Name: transactions, dtype: int64"
      ]
     },
     "execution_count": 245,
     "metadata": {},
     "output_type": "execute_result"
    }
   ],
   "source": [
    "transactions = pd.read_csv('../retail/transactions.csv')\n",
    "\n",
    "transactions_series = pd.Series(transactions['transactions'])\n",
    "\n",
    "transactions_series.iloc[:5]"
   ]
  },
  {
   "cell_type": "code",
   "execution_count": 246,
   "id": "a8f9a75d-54fa-4c5c-b675-1d11a3ae9cfc",
   "metadata": {},
   "outputs": [
    {
     "data": {
      "text/plain": [
       "1694.6021583940208"
      ]
     },
     "execution_count": 246,
     "metadata": {},
     "output_type": "execute_result"
    }
   ],
   "source": [
    "transactions_series.mean()"
   ]
  },
  {
   "cell_type": "code",
   "execution_count": 247,
   "id": "58b1bcea-38fd-4826-a0d6-e27eb5959c3c",
   "metadata": {},
   "outputs": [
    {
     "data": {
      "text/plain": [
       "0.5    1393.0\n",
       "Name: transactions, dtype: float64"
      ]
     },
     "execution_count": 247,
     "metadata": {},
     "output_type": "execute_result"
    }
   ],
   "source": [
    "transactions_series.quantile([.5])"
   ]
  },
  {
   "cell_type": "code",
   "execution_count": 249,
   "id": "c407e7ea-97c7-4c08-a0d7-b72e6e3c02ea",
   "metadata": {},
   "outputs": [
    {
     "data": {
      "text/plain": [
       "0.5    2111.0\n",
       "Name: transactions, dtype: float64"
      ]
     },
     "execution_count": 249,
     "metadata": {},
     "output_type": "execute_result"
    }
   ],
   "source": [
    "transactions_series.iloc[:5].quantile([0.5])"
   ]
  },
  {
   "cell_type": "code",
   "execution_count": 252,
   "id": "03252ba5-64d0-464a-bfec-83e47d4fd18a",
   "metadata": {},
   "outputs": [
    {
     "data": {
      "text/plain": [
       "0.4    2111\n",
       "Name: transactions, dtype: int64"
      ]
     },
     "execution_count": 252,
     "metadata": {},
     "output_type": "execute_result"
    }
   ],
   "source": [
    "# small series need to specify interpolation\n",
    "transactions_series.iloc[:5].quantile([0.4], interpolation='nearest')"
   ]
  },
  {
   "cell_type": "markdown",
   "id": "d7b0ff97-f9ba-44fe-ac44-5013c51be2f0",
   "metadata": {},
   "source": [
    "# Categorical Series Aggregation"
   ]
  },
  {
   "cell_type": "markdown",
   "id": "592c5525-008f-4a1b-8807-c0bc19fb6fb5",
   "metadata": {},
   "source": [
    "Methods to aggregate and analyze categorical Series\n",
    "\n",
    "- .unique(): returns an array of unique items in a Series\n",
    "- .nunique(): returns the number of unqiue items in a Series\n",
    "- .value_counts(): returns a Series of unqiue items and thier frequency"
   ]
  },
  {
   "cell_type": "code",
   "execution_count": 255,
   "id": "46ce17c3-a01c-40d8-a2cc-64c969ace8b0",
   "metadata": {},
   "outputs": [
    {
     "data": {
      "text/plain": [
       "0    day 0\n",
       "1    day 0\n",
       "2    day 2\n",
       "3    day 2\n",
       "4    day 4\n",
       "dtype: object"
      ]
     },
     "execution_count": 255,
     "metadata": {},
     "output_type": "execute_result"
    }
   ],
   "source": [
    "string_series = pd.Series(['day 0', 'day 0', 'day 2', 'day 2', 'day 4'])\n",
    "\n",
    "string_series"
   ]
  },
  {
   "cell_type": "code",
   "execution_count": 256,
   "id": "7c8d7d66-5381-4d72-b971-34b4ac998018",
   "metadata": {},
   "outputs": [
    {
     "data": {
      "text/plain": [
       "3"
      ]
     },
     "execution_count": 256,
     "metadata": {},
     "output_type": "execute_result"
    }
   ],
   "source": [
    "string_series.nunique()"
   ]
  },
  {
   "cell_type": "code",
   "execution_count": 257,
   "id": "92fb219c-3ca6-454f-bab9-44e0a0ee1233",
   "metadata": {},
   "outputs": [
    {
     "data": {
      "text/plain": [
       "array(['day 0', 'day 2', 'day 4'], dtype=object)"
      ]
     },
     "execution_count": 257,
     "metadata": {},
     "output_type": "execute_result"
    }
   ],
   "source": [
    "string_series.unique()"
   ]
  },
  {
   "cell_type": "code",
   "execution_count": 258,
   "id": "7b28c1fb-f579-4e24-a864-92397f4bb71a",
   "metadata": {},
   "outputs": [
    {
     "data": {
      "text/plain": [
       "day 0    0.4\n",
       "day 2    0.4\n",
       "day 4    0.2\n",
       "dtype: float64"
      ]
     },
     "execution_count": 258,
     "metadata": {},
     "output_type": "execute_result"
    }
   ],
   "source": [
    "# normalize values to a percentage\n",
    "string_series.value_counts(normalize=True)"
   ]
  },
  {
   "cell_type": "code",
   "execution_count": 259,
   "id": "36f735d9-842d-4bc2-aa76-e3f4e70efb89",
   "metadata": {},
   "outputs": [
    {
     "data": {
      "text/plain": [
       "day 0    2\n",
       "day 2    2\n",
       "day 4    1\n",
       "dtype: int64"
      ]
     },
     "execution_count": 259,
     "metadata": {},
     "output_type": "execute_result"
    }
   ],
   "source": [
    "string_series.value_counts()"
   ]
  },
  {
   "cell_type": "markdown",
   "id": "4735ed48",
   "metadata": {},
   "source": [
    "# Assignment 5: Series Aggregations\n",
    "\n",
    "* Calculate the sum and mean of prices in the month of March. \n",
    "\n",
    "* Next, calculate how many prices were recorded in January and February.\n",
    "\n",
    "* Then, calculate the 10th and 90th percentiles across all data.\n",
    "\n",
    "* Finally, how often did integer dollar value (e.g. 51, 52) occur in the data? Normalize this to a percentage.   "
   ]
  },
  {
   "cell_type": "code",
   "execution_count": 267,
   "id": "b7846132",
   "metadata": {},
   "outputs": [
    {
     "data": {
      "text/plain": [
       "1134.54"
      ]
     },
     "execution_count": 267,
     "metadata": {},
     "output_type": "execute_result"
    }
   ],
   "source": [
    "# sum\n",
    "oil_series[oil_series.index.str[5:7] == '03'].sum().round(2)"
   ]
  },
  {
   "cell_type": "code",
   "execution_count": 276,
   "id": "f2713a13-a568-4de1-81ae-607a883a189f",
   "metadata": {},
   "outputs": [
    {
     "data": {
      "text/plain": [
       "49.32782608695652"
      ]
     },
     "execution_count": 276,
     "metadata": {},
     "output_type": "execute_result"
    }
   ],
   "source": [
    "# mean\n",
    "oil_series[oil_series.index.str[5:7] == '03'].mean()"
   ]
  },
  {
   "cell_type": "code",
   "execution_count": 281,
   "id": "2d0ea594",
   "metadata": {},
   "outputs": [
    {
     "data": {
      "text/plain": [
       "39"
      ]
     },
     "execution_count": 281,
     "metadata": {},
     "output_type": "execute_result"
    }
   ],
   "source": [
    "# number of prices in jan and feb\n",
    "mask = (oil_series.index.str[5:7] == '01')  | (oil_series.index.str[5:7] == '02')\n",
    "oil_series[mask].count()"
   ]
  },
  {
   "cell_type": "code",
   "execution_count": 279,
   "id": "d220d35d",
   "metadata": {},
   "outputs": [
    {
     "data": {
      "text/plain": [
       "39"
      ]
     },
     "execution_count": 279,
     "metadata": {},
     "output_type": "execute_result"
    }
   ],
   "source": [
    "# number of prices in jan and feb - method 2\n",
    "oil_series[oil_series.index.str[5:7].isin(['01','02'])].count()"
   ]
  },
  {
   "cell_type": "code",
   "execution_count": 285,
   "id": "a5082d8f",
   "metadata": {},
   "outputs": [
    {
     "data": {
      "text/plain": [
       "0.1    47.299\n",
       "0.9    53.811\n",
       "Name: oil prices, dtype: float64"
      ]
     },
     "execution_count": 285,
     "metadata": {},
     "output_type": "execute_result"
    }
   ],
   "source": [
    "# 10th/90th percentiles\n",
    "oil_series.quantile([0.1, 0.9])"
   ]
  },
  {
   "cell_type": "code",
   "execution_count": 288,
   "id": "775be8a0-f35b-4193-88dc-6c82b997a63e",
   "metadata": {},
   "outputs": [
    {
     "data": {
      "text/plain": [
       "53    0.26\n",
       "52    0.22\n",
       "47    0.13\n",
       "48    0.10\n",
       "50    0.07\n",
       "51    0.07\n",
       "49    0.06\n",
       "54    0.05\n",
       "45    0.02\n",
       "46    0.02\n",
       "Name: oil prices, dtype: float64"
      ]
     },
     "execution_count": 288,
     "metadata": {},
     "output_type": "execute_result"
    }
   ],
   "source": [
    "# percentage distribution\n",
    "oil_series.astype('int').value_counts(normalize=True)"
   ]
  },
  {
   "cell_type": "code",
   "execution_count": 289,
   "id": "aff3f85b-33dd-4a4b-bdf9-89ad3d4b0ed5",
   "metadata": {},
   "outputs": [
    {
     "data": {
      "text/plain": [
       "53    26\n",
       "52    22\n",
       "47    13\n",
       "48    10\n",
       "50     7\n",
       "51     7\n",
       "49     6\n",
       "54     5\n",
       "45     2\n",
       "46     2\n",
       "Name: oil prices, dtype: int64"
      ]
     },
     "execution_count": 289,
     "metadata": {},
     "output_type": "execute_result"
    }
   ],
   "source": [
    "oil_series.astype('int').value_counts()"
   ]
  },
  {
   "cell_type": "markdown",
   "id": "0af86a11-708c-433e-8527-9252c51676ed",
   "metadata": {},
   "source": [
    "# Missing Data"
   ]
  },
  {
   "cell_type": "markdown",
   "id": "1b6c5d37-1975-4e35-bcdf-4dbcf7dc0595",
   "metadata": {},
   "source": [
    "Missing data in Pandas is often represented by NumPy \"NaN\" values\n",
    "- this is more efficent that python's \"none\" data type\n",
    "- pandas treats NaN values as a float, which allows them to be used in vectorized operations\n",
    "\n",
    "    - np.nan - creates a NaN value\n",
    "    - arithmetic operations performed on NaN values will return NaN\n",
    "    - most operation methods include a 'fill_value' argument that lets you pass a value instead of NaN\n",
    "\n",
    "Pandas released its own missing data type, NA, in dec 2020\n",
    " - this allos missing values to be stored as intergers, instead of needing to convert to float\n",
    " - this is still a new feature, but most bugs end up converting the data to NumPy's NaN\n",
    "     - pd.NA creates a NA value * if dtype='int16' wasn't specified, the values would be stored as objects\n",
    "     \n",
    "     ** neither np.NaN nor pd.NA are perfect, but pd.NA functionality should continue to improve and having a nullable integer isusually worth it."
   ]
  },
  {
   "cell_type": "markdown",
   "id": "575e703f-1d54-4cd4-b7d2-4c16ce988f93",
   "metadata": {},
   "source": [
    "# Identifying Missing Data"
   ]
  },
  {
   "cell_type": "markdown",
   "id": "ae5b274a-b7ac-4a0a-80d6-1f9aeba53d9f",
   "metadata": {},
   "source": [
    "The .is.na() and .value_counts() methods let you identify missing data in a Series.\n",
    "- the is.na() method returns True if a value is missing, and False otherwise\n",
    "    - can use this as a Boolean mask\n",
    "    - isna().sum() returns the count of NaN values\n",
    "\n",
    "- the .value_counts() method returns unique values and their frequency\n",
    "    - most methods ignore NaN values, so you need to specify dropna=False to return the count of NaN values"
   ]
  },
  {
   "cell_type": "markdown",
   "id": "78b27352-f90d-4383-9ec0-7467db910303",
   "metadata": {},
   "source": [
    "# Handling Missing Data"
   ]
  },
  {
   "cell_type": "markdown",
   "id": "fc84ca1e-8157-400d-add6-c57e7b1a98f5",
   "metadata": {},
   "source": [
    "The .dropna() and .fillna() methods let you handle missing data in a Series\n",
    "- the .dropna() method removes NaN values from your Series or DataFrame\n",
    "- the index has gaps, so you can use .reset_index() to restore the range of integers\n",
    "\n",
    "The .fillna(value) method replaces NaN values with a specified value\n",
    "\n",
    "Important to be thoughtful and deliberate in how you handle missing data.\n",
    "- keep? \n",
    "- remove? if small percentage\n",
    "- replace them with zeros? (if no sales)\n",
    "- impute them with the mean? \n",
    "\n",
    "- operations can dramatically impact the results of a analysis, so make sure you understand these impacts and talk to a data SME to understand why data is missing."
   ]
  },
  {
   "cell_type": "code",
   "execution_count": 290,
   "id": "92376fd2-f610-4ca3-8de4-ba8237d499c6",
   "metadata": {},
   "outputs": [
    {
     "data": {
      "text/plain": [
       "0   NaN\n",
       "1   NaN\n",
       "2   NaN\n",
       "3   NaN\n",
       "4   NaN\n",
       "dtype: float64"
      ]
     },
     "execution_count": 290,
     "metadata": {},
     "output_type": "execute_result"
    }
   ],
   "source": [
    "my_series = pd.Series([np.NaN] * 5)\n",
    "\n",
    "my_series"
   ]
  },
  {
   "cell_type": "code",
   "execution_count": 292,
   "id": "4f097c26-c8b7-453a-89d7-7f11d365235a",
   "metadata": {},
   "outputs": [
    {
     "data": {
      "text/plain": [
       "1.0"
      ]
     },
     "execution_count": 292,
     "metadata": {},
     "output_type": "execute_result"
    }
   ],
   "source": [
    "my_series.isna().mean()"
   ]
  },
  {
   "cell_type": "code",
   "execution_count": 294,
   "id": "0db8a5c8-6b82-475a-8dc3-30daf2924519",
   "metadata": {},
   "outputs": [],
   "source": [
    "# cannot convert NaN to integers\n",
    "# my_series.astype('int')"
   ]
  },
  {
   "cell_type": "code",
   "execution_count": 295,
   "id": "702ee4d4-ba30-4990-b13f-091193c00d37",
   "metadata": {},
   "outputs": [
    {
     "data": {
      "text/plain": [
       "0    <NA>\n",
       "1    <NA>\n",
       "2    <NA>\n",
       "3    <NA>\n",
       "4    <NA>\n",
       "dtype: object"
      ]
     },
     "execution_count": 295,
     "metadata": {},
     "output_type": "execute_result"
    }
   ],
   "source": [
    "# can convert np.NA to integers\n",
    "my_series = pd.Series([pd.NA] * 5)\n",
    "\n",
    "my_series"
   ]
  },
  {
   "cell_type": "code",
   "execution_count": 299,
   "id": "598e9ad3-907c-4bc7-b326-1c79811d49f5",
   "metadata": {},
   "outputs": [
    {
     "data": {
      "text/plain": [
       "0    <NA>\n",
       "1    <NA>\n",
       "2    <NA>\n",
       "3    <NA>\n",
       "4    <NA>\n",
       "dtype: Int64"
      ]
     },
     "execution_count": 299,
     "metadata": {},
     "output_type": "execute_result"
    }
   ],
   "source": [
    "my_series.astype('Int64')"
   ]
  },
  {
   "cell_type": "code",
   "execution_count": 300,
   "id": "54e3c03f-4e07-49eb-8119-028f1b3fdb03",
   "metadata": {},
   "outputs": [
    {
     "data": {
      "text/plain": [
       "0    0\n",
       "1    1\n",
       "2    2\n",
       "3    3\n",
       "4    4\n",
       "dtype: int64"
      ]
     },
     "execution_count": 300,
     "metadata": {},
     "output_type": "execute_result"
    }
   ],
   "source": [
    "my_series = pd.Series(range(5))\n",
    "my_series"
   ]
  },
  {
   "cell_type": "code",
   "execution_count": 304,
   "id": "ead11377-037a-4f9b-a6fe-a875a346abad",
   "metadata": {},
   "outputs": [],
   "source": [
    "my_series.loc[1:2] = pd.NA"
   ]
  },
  {
   "cell_type": "code",
   "execution_count": 306,
   "id": "cb617e82-2791-43b4-a677-083cf1ef1616",
   "metadata": {},
   "outputs": [
    {
     "data": {
      "text/plain": [
       "0    False\n",
       "1     True\n",
       "2     True\n",
       "3    False\n",
       "4    False\n",
       "dtype: bool"
      ]
     },
     "execution_count": 306,
     "metadata": {},
     "output_type": "execute_result"
    }
   ],
   "source": [
    "my_series.isna()"
   ]
  },
  {
   "cell_type": "code",
   "execution_count": 317,
   "id": "5a1073d5-6ae7-4b17-a3c4-a1f98b9be809",
   "metadata": {},
   "outputs": [
    {
     "data": {
      "text/plain": [
       "<NA>    2\n",
       "0       1\n",
       "3       1\n",
       "4       1\n",
       "dtype: int64"
      ]
     },
     "execution_count": 317,
     "metadata": {},
     "output_type": "execute_result"
    }
   ],
   "source": [
    "# count number of NAs, need to use dropna=False to include NAs, excludes by default\n",
    "my_series.value_counts(dropna=False)"
   ]
  },
  {
   "cell_type": "code",
   "execution_count": 310,
   "id": "bfad24ce-875f-473a-b942-ecb51fde4062",
   "metadata": {},
   "outputs": [
    {
     "data": {
      "text/plain": [
       "0    0\n",
       "1    0\n",
       "2    0\n",
       "3    3\n",
       "4    4\n",
       "dtype: int64"
      ]
     },
     "execution_count": 310,
     "metadata": {},
     "output_type": "execute_result"
    }
   ],
   "source": [
    "# fill missing values\n",
    "my_series.fillna(0)"
   ]
  },
  {
   "cell_type": "code",
   "execution_count": 311,
   "id": "cb8a98fa-94ce-4a4b-a0af-2ed357ff3cbe",
   "metadata": {},
   "outputs": [
    {
     "data": {
      "text/plain": [
       "0    0.000000\n",
       "1    2.333333\n",
       "2    2.333333\n",
       "3    3.000000\n",
       "4    4.000000\n",
       "dtype: float64"
      ]
     },
     "execution_count": 311,
     "metadata": {},
     "output_type": "execute_result"
    }
   ],
   "source": [
    "my_series.fillna(my_series.mean())"
   ]
  },
  {
   "cell_type": "code",
   "execution_count": 312,
   "id": "65f69a8f-b731-4c95-991e-c2a00bce2e5b",
   "metadata": {},
   "outputs": [
    {
     "data": {
      "text/plain": [
       "0    0\n",
       "3    3\n",
       "4    4\n",
       "dtype: object"
      ]
     },
     "execution_count": 312,
     "metadata": {},
     "output_type": "execute_result"
    }
   ],
   "source": [
    "my_series.dropna()"
   ]
  },
  {
   "cell_type": "code",
   "execution_count": 313,
   "id": "b438a39f-4906-4f80-bb69-b1ff8b5701f0",
   "metadata": {},
   "outputs": [
    {
     "data": {
      "text/plain": [
       "0    0\n",
       "1    3\n",
       "2    4\n",
       "dtype: object"
      ]
     },
     "execution_count": 313,
     "metadata": {},
     "output_type": "execute_result"
    }
   ],
   "source": [
    "# reset index after dropping NA, drop=True to return series instead of dataframe by default\n",
    "my_series.dropna().reset_index(drop=True)"
   ]
  },
  {
   "cell_type": "markdown",
   "id": "9c0d0c48-d88e-4424-b452-898900e33b43",
   "metadata": {},
   "source": [
    "* Important: understand data and determine best practice to handle missing values"
   ]
  },
  {
   "cell_type": "markdown",
   "id": "b81e8ab9",
   "metadata": {},
   "source": [
    "# Assignment 6: Missing Data\n",
    "\n",
    "There were some erroneous prices in our data, so they were filled in with missing values.\n",
    "\n",
    "Can you confirm the number of missing values in the price column? \n",
    "\n",
    "Once you’ve done that, fill the prices in with the median of the oil price series.\n"
   ]
  },
  {
   "cell_type": "code",
   "execution_count": 319,
   "id": "6d5fdec5",
   "metadata": {
    "scrolled": true
   },
   "outputs": [],
   "source": [
    "# Fill in two values with missing data\n",
    "\n",
    "oil_series = oil_series.where(~oil_series.isin([51.44, 47.83]), pd.NA)"
   ]
  },
  {
   "cell_type": "code",
   "execution_count": 322,
   "id": "4c9fc3a5",
   "metadata": {},
   "outputs": [
    {
     "data": {
      "text/plain": [
       "2"
      ]
     },
     "execution_count": 322,
     "metadata": {},
     "output_type": "execute_result"
    }
   ],
   "source": [
    "# Number of missing values\n",
    "oil_series.isna().sum()"
   ]
  },
  {
   "cell_type": "code",
   "execution_count": 327,
   "id": "1552f428-3761-4498-9278-d43592fc06a5",
   "metadata": {},
   "outputs": [
    {
     "data": {
      "text/plain": [
       "date\n",
       "2017-05-12   NaN\n",
       "2016-12-21   NaN\n",
       "Name: oil prices, dtype: float64"
      ]
     },
     "execution_count": 327,
     "metadata": {},
     "output_type": "execute_result"
    }
   ],
   "source": [
    "# Location of missing values\n",
    "oil_series.loc[oil_series.isna()]"
   ]
  },
  {
   "cell_type": "code",
   "execution_count": 323,
   "id": "019e0399-5f0c-4e9e-83e9-568d58e286f0",
   "metadata": {},
   "outputs": [
    {
     "data": {
      "text/plain": [
       "52.205"
      ]
     },
     "execution_count": 323,
     "metadata": {},
     "output_type": "execute_result"
    }
   ],
   "source": [
    "# Find median\n",
    "oil_series.median()"
   ]
  },
  {
   "cell_type": "code",
   "execution_count": 331,
   "id": "1ec16104",
   "metadata": {
    "scrolled": true
   },
   "outputs": [
    {
     "data": {
      "text/plain": [
       "date\n",
       "2016-12-20    52.220\n",
       "2016-12-21    52.205\n",
       "2016-12-22    51.980\n",
       "2016-12-23    52.010\n",
       "2016-12-27    52.820\n",
       "               ...  \n",
       "2017-05-09    45.840\n",
       "2017-05-10    47.280\n",
       "2017-05-11    47.810\n",
       "2017-05-12    52.205\n",
       "2017-05-15    48.860\n",
       "Name: oil prices, Length: 100, dtype: float64"
      ]
     },
     "execution_count": 331,
     "metadata": {},
     "output_type": "execute_result"
    }
   ],
   "source": [
    "oil_series.fillna(oil_series.median()).sort_index()"
   ]
  },
  {
   "cell_type": "markdown",
   "id": "9d490ced-4a4b-4c92-8760-5e0fbd83d382",
   "metadata": {},
   "source": [
    "# The Apply Method"
   ]
  },
  {
   "cell_type": "markdown",
   "id": "96f97848-e658-416c-a6dc-af78deaa587c",
   "metadata": {},
   "source": [
    "The .apply() method lets you apply custom functions to Pandas Series\n",
    "- this function will not be vectorized, so it's not as efficient as native functions"
   ]
  },
  {
   "cell_type": "code",
   "execution_count": 334,
   "id": "6b938df4-5c15-44ff-844b-73a462cd1020",
   "metadata": {},
   "outputs": [],
   "source": [
    "# Function applies 10% discount to prices over 20\n",
    "def discount(price):\n",
    "    if price > 20:\n",
    "        return round(price * 0.9, 2)\n",
    "    return price"
   ]
  },
  {
   "cell_type": "code",
   "execution_count": 336,
   "id": "7eeb3098-49e4-4fe5-9043-f9d766204d70",
   "metadata": {},
   "outputs": [],
   "source": [
    "clean_wholesale = pd.Series([3.99, 5.99, 22.99, 7.99, 33.99])"
   ]
  },
  {
   "cell_type": "code",
   "execution_count": 337,
   "id": "f8be27f8-5849-41ff-9bc2-cfaee7573f12",
   "metadata": {},
   "outputs": [
    {
     "data": {
      "text/plain": [
       "0     3.99\n",
       "1     5.99\n",
       "2    20.69\n",
       "3     7.99\n",
       "4    30.59\n",
       "dtype: float64"
      ]
     },
     "execution_count": 337,
     "metadata": {},
     "output_type": "execute_result"
    }
   ],
   "source": [
    "clean_wholesale.apply(discount)"
   ]
  },
  {
   "cell_type": "code",
   "execution_count": 338,
   "id": "db5d19b0-b140-4ff8-b325-a24ea4952e94",
   "metadata": {},
   "outputs": [
    {
     "data": {
      "text/plain": [
       "0     3.99\n",
       "1     5.99\n",
       "2    20.69\n",
       "3     7.99\n",
       "4    30.59\n",
       "dtype: float64"
      ]
     },
     "execution_count": 338,
     "metadata": {},
     "output_type": "execute_result"
    }
   ],
   "source": [
    "# Apply lambda for one off tasks\n",
    "\n",
    "clean_wholesale.apply(lambda x: round(x * 0.9, 2) if x > 20 else x)"
   ]
  },
  {
   "cell_type": "markdown",
   "id": "20391e14-5f96-4f81-9d3d-fe1e45fe1de7",
   "metadata": {},
   "source": [
    "Heavy duty is better to use builtin Pandas methods and functions"
   ]
  },
  {
   "cell_type": "code",
   "execution_count": 339,
   "id": "207aa65b-4e1d-449d-8695-04af0efca504",
   "metadata": {},
   "outputs": [
    {
     "data": {
      "text/plain": [
       "0    day 0\n",
       "1    day 0\n",
       "2    day 2\n",
       "3    day 2\n",
       "4    day 4\n",
       "dtype: object"
      ]
     },
     "execution_count": 339,
     "metadata": {},
     "output_type": "execute_result"
    }
   ],
   "source": [
    "string_series = pd.Series(['day 0', 'day 0', 'day 2', 'day 2', 'day 4'])\n",
    "\n",
    "string_series"
   ]
  },
  {
   "cell_type": "code",
   "execution_count": 340,
   "id": "e504dc3b-4972-41ed-9561-7f86e26cc635",
   "metadata": {},
   "outputs": [
    {
     "data": {
      "text/plain": [
       "0    0\n",
       "1    0\n",
       "2    2\n",
       "3    2\n",
       "4    4\n",
       "dtype: object"
      ]
     },
     "execution_count": 340,
     "metadata": {},
     "output_type": "execute_result"
    }
   ],
   "source": [
    "# Return last element of string\n",
    "string_series.apply(lambda x: x[-1])"
   ]
  },
  {
   "cell_type": "code",
   "execution_count": 341,
   "id": "b4acb0bd-63af-4672-8c58-bdf159215000",
   "metadata": {},
   "outputs": [
    {
     "data": {
      "text/plain": [
       "0    0\n",
       "1    0\n",
       "2    2\n",
       "3    2\n",
       "4    4\n",
       "dtype: object"
      ]
     },
     "execution_count": 341,
     "metadata": {},
     "output_type": "execute_result"
    }
   ],
   "source": [
    "# Built in string fucntion\n",
    "string_series.str[-1]"
   ]
  },
  {
   "cell_type": "code",
   "execution_count": 342,
   "id": "8db80f70-c97d-49b4-bdae-dd89bfa1e66a",
   "metadata": {},
   "outputs": [],
   "source": [
    "def search(string, looking_for):\n",
    "    if looking_for in string:\n",
    "        return \"Found it\"\n",
    "    return \"Nope\""
   ]
  },
  {
   "cell_type": "code",
   "execution_count": 343,
   "id": "cce290aa-75e5-4671-b0a0-0f0622c7e803",
   "metadata": {},
   "outputs": [
    {
     "data": {
      "text/plain": [
       "0        Nope\n",
       "1        Nope\n",
       "2    Found it\n",
       "3    Found it\n",
       "4        Nope\n",
       "dtype: object"
      ]
     },
     "execution_count": 343,
     "metadata": {},
     "output_type": "execute_result"
    }
   ],
   "source": [
    "# Find '2' in each string\n",
    "string_series.apply(search, args='2')"
   ]
  },
  {
   "cell_type": "markdown",
   "id": "0f5bf517-9810-4ea8-be7a-74c89088c969",
   "metadata": {},
   "source": [
    "Only use apply method when there is no built in function in Pandas"
   ]
  },
  {
   "cell_type": "markdown",
   "id": "cfdca1fb-cb4b-4d3a-a228-22e7dd5b81ba",
   "metadata": {},
   "source": [
    "# The Where Method"
   ]
  },
  {
   "cell_type": "markdown",
   "id": "700b6320-740e-4eed-b3f9-b909cbd95efb",
   "metadata": {},
   "source": [
    "Pandas' .where() method returns series values based on a logical condition\n",
    "\n",
    "- df.where(logical test, value if False, inplace=False)\n",
    "    - df = series or DF\n",
    "    - logical test = a logical expression that evaluates to True of False\n",
    "    - value if False = value to return when expression is False\n",
    "    - inplace=False = whether to perform the operation in place (default is Fase)\n",
    "    \n",
    "- Different from NumPy's where function, where you can specify True value"
   ]
  },
  {
   "cell_type": "code",
   "execution_count": 344,
   "id": "2fe23557-ea74-49a1-a091-1c61f141d811",
   "metadata": {},
   "outputs": [
    {
     "data": {
      "text/plain": [
       "0     3.99\n",
       "1     5.99\n",
       "2    22.99\n",
       "3     7.99\n",
       "4    33.99\n",
       "dtype: float64"
      ]
     },
     "execution_count": 344,
     "metadata": {},
     "output_type": "execute_result"
    }
   ],
   "source": [
    "clean_wholesale"
   ]
  },
  {
   "cell_type": "code",
   "execution_count": 345,
   "id": "7cfd6182-8098-4653-bf65-c501b4837613",
   "metadata": {},
   "outputs": [
    {
     "data": {
      "text/plain": [
       "0     3.99\n",
       "1     5.99\n",
       "2    20.69\n",
       "3     7.99\n",
       "4    30.59\n",
       "dtype: float64"
      ]
     },
     "execution_count": 345,
     "metadata": {},
     "output_type": "execute_result"
    }
   ],
   "source": [
    "clean_wholesale.where(clean_wholesale <= 20, round(clean_wholesale * 0.9, 2))"
   ]
  },
  {
   "cell_type": "code",
   "execution_count": 347,
   "id": "ce612a09-a25f-4261-b903-4f4543818321",
   "metadata": {},
   "outputs": [
    {
     "data": {
      "text/plain": [
       "0     3.99\n",
       "1     5.99\n",
       "2    20.69\n",
       "3     7.99\n",
       "4    30.59\n",
       "dtype: float64"
      ]
     },
     "execution_count": 347,
     "metadata": {},
     "output_type": "execute_result"
    }
   ],
   "source": [
    "# Use tilde ~ to invert Boolean values and turn this into a value is True logical test\n",
    "clean_wholesale.where(~(clean_wholesale > 20), round(clean_wholesale * 0.9, 2))"
   ]
  },
  {
   "cell_type": "markdown",
   "id": "dc58f140-6d94-42d6-8e9e-d93c6290ef17",
   "metadata": {},
   "source": [
    "# NumPy vs Pandas Where"
   ]
  },
  {
   "cell_type": "code",
   "execution_count": 348,
   "id": "6b8e82be-d6d1-478f-a67e-789c30a2f2b5",
   "metadata": {},
   "outputs": [
    {
     "data": {
      "text/plain": [
       "array(['Normal Price', 'Normal Price', 'Discounted', 'Normal Price',\n",
       "       'Discounted'], dtype='<U12')"
      ]
     },
     "execution_count": 348,
     "metadata": {},
     "output_type": "execute_result"
    }
   ],
   "source": [
    "# NumPy array, then convert bye to pandas series\n",
    "np.where(clean_wholesale > 20, \"Discounted\", \"Normal Price\")"
   ]
  },
  {
   "cell_type": "code",
   "execution_count": 349,
   "id": "eace7ff9-5216-490b-a839-11469a873d65",
   "metadata": {},
   "outputs": [
    {
     "data": {
      "text/plain": [
       "0        Nope\n",
       "1        Nope\n",
       "2    Found it\n",
       "3    Found it\n",
       "4        Nope\n",
       "dtype: object"
      ]
     },
     "execution_count": 349,
     "metadata": {},
     "output_type": "execute_result"
    }
   ],
   "source": [
    "string_series.apply(search, args='2')"
   ]
  },
  {
   "cell_type": "code",
   "execution_count": 350,
   "id": "06f65919-9bf7-4794-9a57-392bf44fed2f",
   "metadata": {},
   "outputs": [
    {
     "data": {
      "text/plain": [
       "0    day 0\n",
       "1    day 0\n",
       "2    day 2\n",
       "3    day 2\n",
       "4    day 4\n",
       "dtype: object"
      ]
     },
     "execution_count": 350,
     "metadata": {},
     "output_type": "execute_result"
    }
   ],
   "source": [
    "string_series"
   ]
  },
  {
   "cell_type": "code",
   "execution_count": 353,
   "id": "44f734c2-32bc-43e8-ac99-d63f41ce17ef",
   "metadata": {},
   "outputs": [
    {
     "data": {
      "text/plain": [
       "0    Nope!\n",
       "1    Nope!\n",
       "2    day 2\n",
       "3    day 2\n",
       "4    Nope!\n",
       "dtype: object"
      ]
     },
     "execution_count": 353,
     "metadata": {},
     "output_type": "execute_result"
    }
   ],
   "source": [
    "# Pandas where method, specifies False value only\n",
    "string_series.where(string_series.str.contains('2'), \"Nope!\")"
   ]
  },
  {
   "cell_type": "code",
   "execution_count": 359,
   "id": "5853769a-1b27-4da7-901b-9fd5c92fdfc7",
   "metadata": {},
   "outputs": [
    {
     "data": {
      "text/plain": [
       "0        Nope!\n",
       "1        Nope!\n",
       "2    Found it!\n",
       "3    Found it!\n",
       "4        Nope!\n",
       "dtype: object"
      ]
     },
     "execution_count": 359,
     "metadata": {},
     "output_type": "execute_result"
    }
   ],
   "source": [
    "# Pandas where, use inverse to specify True value\n",
    "string_series.where(\n",
    "    string_series.str.contains('2'), \"Nope!\").where(\n",
    "    ~string_series.str.contains(\"2\"), \"Found it!\")"
   ]
  },
  {
   "cell_type": "code",
   "execution_count": 360,
   "id": "41d9ef74-3163-4ebe-bdcf-d4a43e165a43",
   "metadata": {},
   "outputs": [
    {
     "data": {
      "text/plain": [
       "0        nope\n",
       "1        nope\n",
       "2    found it\n",
       "3    found it\n",
       "4        nope\n",
       "dtype: object"
      ]
     },
     "execution_count": 360,
     "metadata": {},
     "output_type": "execute_result"
    }
   ],
   "source": [
    "# Use numpy array and reconvert back to series\n",
    "pd.Series(np.where(string_series.str.contains('2'), \"found it\", \"nope\"))"
   ]
  },
  {
   "cell_type": "markdown",
   "id": "19a0e70c",
   "metadata": {
    "tags": []
   },
   "source": [
    "# Exercise 7: Apply and Where\n",
    "\n",
    "Write a function that outputs ‘buy’ if price is less than the 90th percentile and ‘wait’ if it’s not. Apply it to the oil series.\n",
    "\n",
    "Then, create a series that multiplies price by .9 if the date is ‘2016-12-23’ or ‘2017-05-10’, and 1.1 for all other dates. "
   ]
  },
  {
   "cell_type": "code",
   "execution_count": 387,
   "id": "8e2e38a2-dc9a-433f-b3d6-2d74d8cf6211",
   "metadata": {},
   "outputs": [],
   "source": [
    "def buy_bool(price, percentile):\n",
    "    if price < percentile:\n",
    "        return 'Buy'\n",
    "    return 'Wait'"
   ]
  },
  {
   "cell_type": "code",
   "execution_count": 388,
   "id": "a36cc9d3-c630-41a2-841e-11f884c4204f",
   "metadata": {},
   "outputs": [
    {
     "data": {
      "text/plain": [
       "date\n",
       "2017-05-04     Buy\n",
       "2017-05-09     Buy\n",
       "2017-05-05     Buy\n",
       "2017-05-08     Buy\n",
       "2017-03-23     Buy\n",
       "              ... \n",
       "2017-02-28    Wait\n",
       "2016-12-28    Wait\n",
       "2017-02-21    Wait\n",
       "2017-02-27    Wait\n",
       "2017-02-23    Wait\n",
       "Name: oil prices, Length: 100, dtype: object"
      ]
     },
     "execution_count": 388,
     "metadata": {},
     "output_type": "execute_result"
    }
   ],
   "source": [
    "oil_series.apply(buy_bool, args=(oil_series.quantile(0.9),))"
   ]
  },
  {
   "cell_type": "code",
   "execution_count": 389,
   "id": "feab5b7d",
   "metadata": {},
   "outputs": [
    {
     "data": {
      "text/plain": [
       "date\n",
       "2017-05-04     Buy\n",
       "2017-05-09     Buy\n",
       "2017-05-05     Buy\n",
       "2017-05-08     Buy\n",
       "2017-03-23     Buy\n",
       "              ... \n",
       "2017-02-28    Wait\n",
       "2016-12-28    Wait\n",
       "2017-02-21    Wait\n",
       "2017-02-27    Wait\n",
       "2017-02-23    Wait\n",
       "Name: oil prices, Length: 100, dtype: object"
      ]
     },
     "execution_count": 389,
     "metadata": {},
     "output_type": "execute_result"
    }
   ],
   "source": [
    "oil_series.apply(lambda x: 'Buy' if x < oil_series.quantile(0.9) else 'Wait')"
   ]
  },
  {
   "cell_type": "code",
   "execution_count": 363,
   "id": "e508687c",
   "metadata": {},
   "outputs": [
    {
     "data": {
      "text/plain": [
       "2"
      ]
     },
     "execution_count": 363,
     "metadata": {},
     "output_type": "execute_result"
    }
   ],
   "source": [
    "oil_series.isna().sum()"
   ]
  },
  {
   "cell_type": "code",
   "execution_count": 386,
   "id": "ddc6601b-f8fe-4736-8f67-af4bbc8ef25a",
   "metadata": {},
   "outputs": [
    {
     "data": {
      "text/plain": [
       "53.813"
      ]
     },
     "execution_count": 386,
     "metadata": {},
     "output_type": "execute_result"
    }
   ],
   "source": [
    "oil_series.quantile(0.9)"
   ]
  },
  {
   "cell_type": "code",
   "execution_count": 378,
   "id": "b777fb95-77c4-45e2-b901-a033a8c446a6",
   "metadata": {},
   "outputs": [
    {
     "data": {
      "text/plain": [
       "0     50.105\n",
       "1     50.424\n",
       "2     50.853\n",
       "3     51.106\n",
       "4     51.700\n",
       "       ...  \n",
       "95    59.400\n",
       "96    59.411\n",
       "97    59.422\n",
       "98    59.444\n",
       "99    59.928\n",
       "Length: 100, dtype: float64"
      ]
     },
     "execution_count": 378,
     "metadata": {},
     "output_type": "execute_result"
    }
   ],
   "source": [
    "pd.Series(np.where(\n",
    "    oil_series.index.isin([\"2016-12-23\", \"2017-05-10\"]), \n",
    "    oil_series * 0.9,\n",
    "    oil_series * 1.1))"
   ]
  },
  {
   "cell_type": "code",
   "execution_count": 371,
   "id": "6e9ec561",
   "metadata": {},
   "outputs": [
    {
     "data": {
      "text/plain": [
       "date\n",
       "2017-05-10    47.28\n",
       "2016-12-23    52.01\n",
       "Name: oil prices, dtype: float64"
      ]
     },
     "execution_count": 371,
     "metadata": {},
     "output_type": "execute_result"
    }
   ],
   "source": [
    "oil_series[oil_series.index.isin([\"2016-12-23\", \"2017-05-10\"])]"
   ]
  },
  {
   "cell_type": "code",
   "execution_count": 393,
   "id": "acc5119f-fa21-48f2-b6e8-c45352843772",
   "metadata": {},
   "outputs": [
    {
     "data": {
      "text/plain": [
       "date\n",
       "2017-05-04    45.55\n",
       "2017-05-09    45.84\n",
       "2017-05-05    46.23\n",
       "2017-05-08    46.46\n",
       "2017-03-23    47.00\n",
       "              ...  \n",
       "2017-02-28    54.00\n",
       "2016-12-28    54.01\n",
       "2017-02-21    54.02\n",
       "2017-02-27    54.04\n",
       "2017-02-23    54.48\n",
       "Name: oil prices, Length: 100, dtype: float64"
      ]
     },
     "execution_count": 393,
     "metadata": {},
     "output_type": "execute_result"
    }
   ],
   "source": [
    "oil_series"
   ]
  },
  {
   "cell_type": "code",
   "execution_count": 401,
   "id": "fae6cab4-f980-4b3a-ad2d-aef99de013f6",
   "metadata": {},
   "outputs": [
    {
     "data": {
      "text/plain": [
       "date\n",
       "2017-05-04    45.55\n",
       "2017-05-09    45.84\n",
       "2017-05-05    46.23\n",
       "2017-05-08    46.46\n",
       "2017-03-23    47.00\n",
       "              ...  \n",
       "2017-02-28    54.00\n",
       "2016-12-28    54.01\n",
       "2017-02-21    54.02\n",
       "2017-02-27    54.04\n",
       "2017-02-23    54.48\n",
       "Name: oil prices, Length: 100, dtype: float64"
      ]
     },
     "execution_count": 401,
     "metadata": {},
     "output_type": "execute_result"
    }
   ],
   "source": [
    "oil_series #.reset_index()"
   ]
  },
  {
   "cell_type": "code",
   "execution_count": 409,
   "id": "77ad59c4-a592-41ec-9ec3-b2b0cb22b660",
   "metadata": {},
   "outputs": [
    {
     "data": {
      "text/html": [
       "<div>\n",
       "<style scoped>\n",
       "    .dataframe tbody tr th:only-of-type {\n",
       "        vertical-align: middle;\n",
       "    }\n",
       "\n",
       "    .dataframe tbody tr th {\n",
       "        vertical-align: top;\n",
       "    }\n",
       "\n",
       "    .dataframe thead th {\n",
       "        text-align: right;\n",
       "    }\n",
       "</style>\n",
       "<table border=\"1\" class=\"dataframe\">\n",
       "  <thead>\n",
       "    <tr style=\"text-align: right;\">\n",
       "      <th></th>\n",
       "      <th>date</th>\n",
       "      <th>oil prices</th>\n",
       "    </tr>\n",
       "  </thead>\n",
       "  <tbody>\n",
       "    <tr>\n",
       "      <th>0</th>\n",
       "      <td>2016-12-20</td>\n",
       "      <td>52.22</td>\n",
       "    </tr>\n",
       "    <tr>\n",
       "      <th>1</th>\n",
       "      <td>2016-12-21</td>\n",
       "      <td>NaN</td>\n",
       "    </tr>\n",
       "    <tr>\n",
       "      <th>2</th>\n",
       "      <td>2016-12-22</td>\n",
       "      <td>51.98</td>\n",
       "    </tr>\n",
       "    <tr>\n",
       "      <th>3</th>\n",
       "      <td>2016-12-23</td>\n",
       "      <td>52.01</td>\n",
       "    </tr>\n",
       "    <tr>\n",
       "      <th>4</th>\n",
       "      <td>2016-12-27</td>\n",
       "      <td>52.82</td>\n",
       "    </tr>\n",
       "    <tr>\n",
       "      <th>...</th>\n",
       "      <td>...</td>\n",
       "      <td>...</td>\n",
       "    </tr>\n",
       "    <tr>\n",
       "      <th>95</th>\n",
       "      <td>2017-05-09</td>\n",
       "      <td>45.84</td>\n",
       "    </tr>\n",
       "    <tr>\n",
       "      <th>96</th>\n",
       "      <td>2017-05-10</td>\n",
       "      <td>47.28</td>\n",
       "    </tr>\n",
       "    <tr>\n",
       "      <th>97</th>\n",
       "      <td>2017-05-11</td>\n",
       "      <td>47.81</td>\n",
       "    </tr>\n",
       "    <tr>\n",
       "      <th>98</th>\n",
       "      <td>2017-05-12</td>\n",
       "      <td>NaN</td>\n",
       "    </tr>\n",
       "    <tr>\n",
       "      <th>99</th>\n",
       "      <td>2017-05-15</td>\n",
       "      <td>48.86</td>\n",
       "    </tr>\n",
       "  </tbody>\n",
       "</table>\n",
       "<p>100 rows × 2 columns</p>\n",
       "</div>"
      ],
      "text/plain": [
       "          date  oil prices\n",
       "0   2016-12-20       52.22\n",
       "1   2016-12-21         NaN\n",
       "2   2016-12-22       51.98\n",
       "3   2016-12-23       52.01\n",
       "4   2016-12-27       52.82\n",
       "..         ...         ...\n",
       "95  2017-05-09       45.84\n",
       "96  2017-05-10       47.28\n",
       "97  2017-05-11       47.81\n",
       "98  2017-05-12         NaN\n",
       "99  2017-05-15       48.86\n",
       "\n",
       "[100 rows x 2 columns]"
      ]
     },
     "execution_count": 409,
     "metadata": {},
     "output_type": "execute_result"
    }
   ],
   "source": [
    "# Convert to data frame\n",
    "df = pd.DataFrame(oil_series).sort_values(by='date').reset_index()\n",
    "\n",
    "df"
   ]
  },
  {
   "cell_type": "code",
   "execution_count": 413,
   "id": "30f665d0-79a3-477f-95bd-4ef826df6d27",
   "metadata": {},
   "outputs": [
    {
     "data": {
      "text/html": [
       "<div>\n",
       "<style scoped>\n",
       "    .dataframe tbody tr th:only-of-type {\n",
       "        vertical-align: middle;\n",
       "    }\n",
       "\n",
       "    .dataframe tbody tr th {\n",
       "        vertical-align: top;\n",
       "    }\n",
       "\n",
       "    .dataframe thead th {\n",
       "        text-align: right;\n",
       "    }\n",
       "</style>\n",
       "<table border=\"1\" class=\"dataframe\">\n",
       "  <thead>\n",
       "    <tr style=\"text-align: right;\">\n",
       "      <th></th>\n",
       "      <th>date</th>\n",
       "      <th>oil prices</th>\n",
       "      <th>new_price</th>\n",
       "    </tr>\n",
       "  </thead>\n",
       "  <tbody>\n",
       "    <tr>\n",
       "      <th>0</th>\n",
       "      <td>2016-12-20</td>\n",
       "      <td>52.22</td>\n",
       "      <td>50.105</td>\n",
       "    </tr>\n",
       "    <tr>\n",
       "      <th>1</th>\n",
       "      <td>2016-12-21</td>\n",
       "      <td>NaN</td>\n",
       "      <td>50.424</td>\n",
       "    </tr>\n",
       "    <tr>\n",
       "      <th>2</th>\n",
       "      <td>2016-12-22</td>\n",
       "      <td>51.98</td>\n",
       "      <td>50.853</td>\n",
       "    </tr>\n",
       "    <tr>\n",
       "      <th>3</th>\n",
       "      <td>2016-12-23</td>\n",
       "      <td>52.01</td>\n",
       "      <td>51.106</td>\n",
       "    </tr>\n",
       "    <tr>\n",
       "      <th>4</th>\n",
       "      <td>2016-12-27</td>\n",
       "      <td>52.82</td>\n",
       "      <td>51.700</td>\n",
       "    </tr>\n",
       "    <tr>\n",
       "      <th>...</th>\n",
       "      <td>...</td>\n",
       "      <td>...</td>\n",
       "      <td>...</td>\n",
       "    </tr>\n",
       "    <tr>\n",
       "      <th>95</th>\n",
       "      <td>2017-05-09</td>\n",
       "      <td>45.84</td>\n",
       "      <td>59.400</td>\n",
       "    </tr>\n",
       "    <tr>\n",
       "      <th>96</th>\n",
       "      <td>2017-05-10</td>\n",
       "      <td>47.28</td>\n",
       "      <td>59.411</td>\n",
       "    </tr>\n",
       "    <tr>\n",
       "      <th>97</th>\n",
       "      <td>2017-05-11</td>\n",
       "      <td>47.81</td>\n",
       "      <td>59.422</td>\n",
       "    </tr>\n",
       "    <tr>\n",
       "      <th>98</th>\n",
       "      <td>2017-05-12</td>\n",
       "      <td>NaN</td>\n",
       "      <td>59.444</td>\n",
       "    </tr>\n",
       "    <tr>\n",
       "      <th>99</th>\n",
       "      <td>2017-05-15</td>\n",
       "      <td>48.86</td>\n",
       "      <td>59.928</td>\n",
       "    </tr>\n",
       "  </tbody>\n",
       "</table>\n",
       "<p>100 rows × 3 columns</p>\n",
       "</div>"
      ],
      "text/plain": [
       "          date  oil prices  new_price\n",
       "0   2016-12-20       52.22     50.105\n",
       "1   2016-12-21         NaN     50.424\n",
       "2   2016-12-22       51.98     50.853\n",
       "3   2016-12-23       52.01     51.106\n",
       "4   2016-12-27       52.82     51.700\n",
       "..         ...         ...        ...\n",
       "95  2017-05-09       45.84     59.400\n",
       "96  2017-05-10       47.28     59.411\n",
       "97  2017-05-11       47.81     59.422\n",
       "98  2017-05-12         NaN     59.444\n",
       "99  2017-05-15       48.86     59.928\n",
       "\n",
       "[100 rows x 3 columns]"
      ]
     },
     "execution_count": 413,
     "metadata": {},
     "output_type": "execute_result"
    }
   ],
   "source": [
    "df[\"new_price\"] = pd.Series(np.where(\n",
    "    oil_series.index.isin(['2016-12-20', '2017-05-10']), \n",
    "    oil_series * 0.9,\n",
    "    oil_series * 1.1))\n",
    "   \n",
    "df"
   ]
  },
  {
   "cell_type": "markdown",
   "id": "14fc5665-0976-4538-98fc-072c5780357f",
   "metadata": {},
   "source": [
    "# Key Takeaways\n",
    "\n",
    "1. Pandas Series add an index & title to NumPy arrays\n",
    "    - Pandas Series form the columns for DataFrames\n",
    "2. The .loc() & .iloc() methods are key in working with Pandas data structures\n",
    "    - These methods allow you to access rows in Series (DataFrames), either by their positional index or by their labels\n",
    "3. Pandas & NumPy have similar operations for filtering, sorting & aggregating\n",
    "    - Use built-in Pandas and NumPy functions and methods to take advantage of vectorization, which is much more efficient than writing for loops in base Python\n",
    "4. Pandas lets you easily handle missing data\n",
    "    - It's important to understand the impact of dropping or imputing might have on your analysis, so make sure you consult a SME (subject matter expert) about the root cause of the missing data"
   ]
  },
  {
   "cell_type": "code",
   "execution_count": null,
   "id": "80c7389d-99da-4adc-b93e-6c47df970f70",
   "metadata": {},
   "outputs": [],
   "source": []
  }
 ],
 "metadata": {
  "kernelspec": {
   "display_name": "Python 3 (ipykernel)",
   "language": "python",
   "name": "python3"
  },
  "language_info": {
   "codemirror_mode": {
    "name": "ipython",
    "version": 3
   },
   "file_extension": ".py",
   "mimetype": "text/x-python",
   "name": "python",
   "nbconvert_exporter": "python",
   "pygments_lexer": "ipython3",
   "version": "3.9.7"
  }
 },
 "nbformat": 4,
 "nbformat_minor": 5
}
