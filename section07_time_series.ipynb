{
 "cells": [
  {
   "cell_type": "code",
   "execution_count": 140,
   "id": "03989423-dc58-450b-a4be-773ce40b080e",
   "metadata": {},
   "outputs": [],
   "source": [
    "import pandas as pd\n",
    "import numpy as np"
   ]
  },
  {
   "cell_type": "markdown",
   "id": "b88c88a3-0fe8-426a-8ced-07506f93c70c",
   "metadata": {
    "tags": []
   },
   "source": [
    "# Datetime Data Type\n",
    "- Base Python's datetime data type lets you work with time series data\n",
    "    - datetime include both a date and time portion by default\n",
    "    \n",
    "- datatime.now() returns the current date and time, which is great for comparing time delts from the dates in the data to the present"
   ]
  },
  {
   "cell_type": "code",
   "execution_count": 4,
   "id": "8bdfd075-fd85-473d-a238-473f701e1ed7",
   "metadata": {},
   "outputs": [
    {
     "name": "stdout",
     "output_type": "stream",
     "text": [
      "<class 'datetime.datetime'>\n"
     ]
    }
   ],
   "source": [
    "from datetime import datetime\n",
    "\n",
    "now = datetime.now()\n",
    "\n",
    "now\n",
    "\n",
    "print(type(now))"
   ]
  },
  {
   "cell_type": "markdown",
   "id": "8bdf7f2e-244b-4d76-9f5e-e5d1bdc65d99",
   "metadata": {},
   "source": [
    "## Datetime 64\n",
    "\n",
    "- NumPy's datetime64 data type lets you work with datetimes in DataFrames\n",
    "- Pandas will treat dates as 'object' datatypes until converted to 'datetime64'"
   ]
  },
  {
   "cell_type": "code",
   "execution_count": 6,
   "id": "e983ad34-01ed-42cd-a1d7-aa4b8c5e010d",
   "metadata": {},
   "outputs": [],
   "source": [
    " # sales.astype({'date': 'datetime64', 'sales': 'int16'})"
   ]
  },
  {
   "cell_type": "markdown",
   "id": "f5aa255c-ddfc-4f0b-98f2-a61f64c1b362",
   "metadata": {},
   "source": [
    "# Conversion Limitations\n",
    "\n",
    "- .astype() method can convert strings to datetimes, but has some limitations:\n",
    "\n",
    "1. Any values that Pandas can't correctly identify as dates will return an error\n",
    "2. Ignoring the errors will return the Series as an 'object' data type, not datetime64"
   ]
  },
  {
   "cell_type": "markdown",
   "id": "ac893cf2-4ae6-4dee-8d21-d19cacb23e0a",
   "metadata": {},
   "source": [
    "# To_Datetime\n",
    "\n",
    "- pd.to_datetime() function is a more flexible option for converting datetimes\n",
    "\n",
    "- can specify a format\n",
    "- To convert using .to_datetime():\n",
    "    - Pass the columns to convert\n",
    "    - Specify errors='coerce' to convert errors to NaT\n",
    "    - Use infer_datetime_format=True to let Pandas intelligently guess the date format of the text strings\n",
    "    - Or use format= to specify the datetime format yourself, especially if Pandas can't guess correctly\n",
    "    \n",
    "    \n",
    "shipping_dates['delivery_date'] = pd.to_datetime(\n",
    "    shipping_dates['delivery date'],\n",
    "    errors='coerce',\n",
    "    infer_datetime_format=True,\n",
    "    # format= '%Y-%M-%D',)"
   ]
  },
  {
   "cell_type": "code",
   "execution_count": 14,
   "id": "1862df3d",
   "metadata": {},
   "outputs": [],
   "source": [
    "import pandas as pd"
   ]
  },
  {
   "cell_type": "code",
   "execution_count": 15,
   "id": "42b28c12-7211-4339-bb7d-afe0298a4c1c",
   "metadata": {},
   "outputs": [
    {
     "data": {
      "text/html": [
       "<div>\n",
       "<style scoped>\n",
       "    .dataframe tbody tr th:only-of-type {\n",
       "        vertical-align: middle;\n",
       "    }\n",
       "\n",
       "    .dataframe tbody tr th {\n",
       "        vertical-align: top;\n",
       "    }\n",
       "\n",
       "    .dataframe thead th {\n",
       "        text-align: right;\n",
       "    }\n",
       "</style>\n",
       "<table border=\"1\" class=\"dataframe\">\n",
       "  <thead>\n",
       "    <tr style=\"text-align: right;\">\n",
       "      <th></th>\n",
       "      <th>id</th>\n",
       "      <th>date</th>\n",
       "      <th>store_nbr</th>\n",
       "      <th>family</th>\n",
       "      <th>sales</th>\n",
       "      <th>onpromotion</th>\n",
       "    </tr>\n",
       "  </thead>\n",
       "  <tbody>\n",
       "    <tr>\n",
       "      <th>0</th>\n",
       "      <td>1945944</td>\n",
       "      <td>2016-01-01</td>\n",
       "      <td>1</td>\n",
       "      <td>AUTOMOTIVE</td>\n",
       "      <td>0.0</td>\n",
       "      <td>0</td>\n",
       "    </tr>\n",
       "    <tr>\n",
       "      <th>1</th>\n",
       "      <td>1945945</td>\n",
       "      <td>2016-01-01</td>\n",
       "      <td>1</td>\n",
       "      <td>BABY CARE</td>\n",
       "      <td>0.0</td>\n",
       "      <td>0</td>\n",
       "    </tr>\n",
       "    <tr>\n",
       "      <th>2</th>\n",
       "      <td>1945946</td>\n",
       "      <td>2016-01-01</td>\n",
       "      <td>1</td>\n",
       "      <td>BEAUTY</td>\n",
       "      <td>0.0</td>\n",
       "      <td>0</td>\n",
       "    </tr>\n",
       "    <tr>\n",
       "      <th>3</th>\n",
       "      <td>1945947</td>\n",
       "      <td>2016-01-01</td>\n",
       "      <td>1</td>\n",
       "      <td>BEVERAGES</td>\n",
       "      <td>0.0</td>\n",
       "      <td>0</td>\n",
       "    </tr>\n",
       "    <tr>\n",
       "      <th>4</th>\n",
       "      <td>1945948</td>\n",
       "      <td>2016-01-01</td>\n",
       "      <td>1</td>\n",
       "      <td>BOOKS</td>\n",
       "      <td>0.0</td>\n",
       "      <td>0</td>\n",
       "    </tr>\n",
       "  </tbody>\n",
       "</table>\n",
       "</div>"
      ],
      "text/plain": [
       "        id        date  store_nbr      family  sales  onpromotion\n",
       "0  1945944  2016-01-01          1  AUTOMOTIVE    0.0            0\n",
       "1  1945945  2016-01-01          1   BABY CARE    0.0            0\n",
       "2  1945946  2016-01-01          1      BEAUTY    0.0            0\n",
       "3  1945947  2016-01-01          1   BEVERAGES    0.0            0\n",
       "4  1945948  2016-01-01          1       BOOKS    0.0            0"
      ]
     },
     "execution_count": 15,
     "metadata": {},
     "output_type": "execute_result"
    }
   ],
   "source": [
    "retail = pd.read_csv('../retail/retail_2016_2017.csv')\n",
    "\n",
    "retail.head()"
   ]
  },
  {
   "cell_type": "code",
   "execution_count": 16,
   "id": "91efdc7d-6a4c-4cf6-8921-8eafbbe8ed07",
   "metadata": {},
   "outputs": [
    {
     "name": "stdout",
     "output_type": "stream",
     "text": [
      "<class 'pandas.core.frame.DataFrame'>\n",
      "RangeIndex: 1054944 entries, 0 to 1054943\n",
      "Data columns (total 6 columns):\n",
      " #   Column       Non-Null Count    Dtype  \n",
      "---  ------       --------------    -----  \n",
      " 0   id           1054944 non-null  int64  \n",
      " 1   date         1054944 non-null  object \n",
      " 2   store_nbr    1054944 non-null  int64  \n",
      " 3   family       1054944 non-null  object \n",
      " 4   sales        1054944 non-null  float64\n",
      " 5   onpromotion  1054944 non-null  int64  \n",
      "dtypes: float64(1), int64(3), object(2)\n",
      "memory usage: 167.8 MB\n"
     ]
    }
   ],
   "source": [
    "retail.info(memory_usage='deep')"
   ]
  },
  {
   "cell_type": "code",
   "execution_count": 22,
   "id": "3152cd05-8e6e-4fba-8a81-bd861ba395c1",
   "metadata": {},
   "outputs": [],
   "source": [
    "retail.loc[0, ['date']] = 'N/A'"
   ]
  },
  {
   "cell_type": "code",
   "execution_count": 23,
   "id": "01c6951b-ab01-4435-a6c4-42beb9bbcc0b",
   "metadata": {},
   "outputs": [
    {
     "data": {
      "text/html": [
       "<div>\n",
       "<style scoped>\n",
       "    .dataframe tbody tr th:only-of-type {\n",
       "        vertical-align: middle;\n",
       "    }\n",
       "\n",
       "    .dataframe tbody tr th {\n",
       "        vertical-align: top;\n",
       "    }\n",
       "\n",
       "    .dataframe thead th {\n",
       "        text-align: right;\n",
       "    }\n",
       "</style>\n",
       "<table border=\"1\" class=\"dataframe\">\n",
       "  <thead>\n",
       "    <tr style=\"text-align: right;\">\n",
       "      <th></th>\n",
       "      <th>id</th>\n",
       "      <th>date</th>\n",
       "      <th>store_nbr</th>\n",
       "      <th>family</th>\n",
       "      <th>sales</th>\n",
       "      <th>onpromotion</th>\n",
       "    </tr>\n",
       "  </thead>\n",
       "  <tbody>\n",
       "    <tr>\n",
       "      <th>0</th>\n",
       "      <td>1945944</td>\n",
       "      <td>N/A</td>\n",
       "      <td>1</td>\n",
       "      <td>AUTOMOTIVE</td>\n",
       "      <td>0.0</td>\n",
       "      <td>0</td>\n",
       "    </tr>\n",
       "    <tr>\n",
       "      <th>1</th>\n",
       "      <td>1945945</td>\n",
       "      <td>2016-01-01</td>\n",
       "      <td>1</td>\n",
       "      <td>BABY CARE</td>\n",
       "      <td>0.0</td>\n",
       "      <td>0</td>\n",
       "    </tr>\n",
       "    <tr>\n",
       "      <th>2</th>\n",
       "      <td>1945946</td>\n",
       "      <td>2016-01-01</td>\n",
       "      <td>1</td>\n",
       "      <td>BEAUTY</td>\n",
       "      <td>0.0</td>\n",
       "      <td>0</td>\n",
       "    </tr>\n",
       "    <tr>\n",
       "      <th>3</th>\n",
       "      <td>1945947</td>\n",
       "      <td>2016-01-01</td>\n",
       "      <td>1</td>\n",
       "      <td>BEVERAGES</td>\n",
       "      <td>0.0</td>\n",
       "      <td>0</td>\n",
       "    </tr>\n",
       "    <tr>\n",
       "      <th>4</th>\n",
       "      <td>1945948</td>\n",
       "      <td>2016-01-01</td>\n",
       "      <td>1</td>\n",
       "      <td>BOOKS</td>\n",
       "      <td>0.0</td>\n",
       "      <td>0</td>\n",
       "    </tr>\n",
       "  </tbody>\n",
       "</table>\n",
       "</div>"
      ],
      "text/plain": [
       "        id        date  store_nbr      family  sales  onpromotion\n",
       "0  1945944         N/A          1  AUTOMOTIVE    0.0            0\n",
       "1  1945945  2016-01-01          1   BABY CARE    0.0            0\n",
       "2  1945946  2016-01-01          1      BEAUTY    0.0            0\n",
       "3  1945947  2016-01-01          1   BEVERAGES    0.0            0\n",
       "4  1945948  2016-01-01          1       BOOKS    0.0            0"
      ]
     },
     "execution_count": 23,
     "metadata": {},
     "output_type": "execute_result"
    }
   ],
   "source": [
    "# retail = retail.astype({'date':'datetime64'})\n",
    "\n",
    "retail.head()"
   ]
  },
  {
   "cell_type": "code",
   "execution_count": 27,
   "id": "41c3afe4-3aa8-40ee-a768-a0d14efcef3c",
   "metadata": {},
   "outputs": [
    {
     "name": "stdout",
     "output_type": "stream",
     "text": [
      "<class 'pandas.core.frame.DataFrame'>\n",
      "RangeIndex: 1054944 entries, 0 to 1054943\n",
      "Data columns (total 6 columns):\n",
      " #   Column       Non-Null Count    Dtype         \n",
      "---  ------       --------------    -----         \n",
      " 0   id           1054944 non-null  int64         \n",
      " 1   date         1054943 non-null  datetime64[ns]\n",
      " 2   store_nbr    1054944 non-null  int64         \n",
      " 3   family       1054944 non-null  object        \n",
      " 4   sales        1054944 non-null  float64       \n",
      " 5   onpromotion  1054944 non-null  int64         \n",
      "dtypes: datetime64[ns](1), float64(1), int64(3), object(1)\n",
      "memory usage: 108.4 MB\n"
     ]
    }
   ],
   "source": [
    "retail.assign(date=pd.to_datetime(retail['date'],\n",
    "                                errors='coerce',\n",
    "                                infer_datetime_format=True)).info(memory_usage='deep')"
   ]
  },
  {
   "cell_type": "markdown",
   "id": "69f005f3-bc86-4873-ae6e-92e959b98af2",
   "metadata": {},
   "source": [
    "# Datetime Codes\n",
    "\n",
    "- use these datetime codes to format dates or extract date components\n",
    "\n",
    "1. Date\n",
    "- %D : 07/14/2022 (zero-padded date)\n",
    "- %Y : 2022 (year)\n",
    "- %m : 07 (month)\n",
    "- %B : July (full month name)\n",
    "- %d : 14 (day of the month)\n",
    "- % : 4 (weekday number)\n",
    "- %A : Thursday (full weekday name)\n",
    "- %U : 28 (week of the year)\n",
    "- %j : 195 (day of the year)\n",
    "\n",
    "2. Time\n",
    "- %T : 16:36:30 (zero padded time 24 hr)\n",
    "- %H : 16 (hour 24-hr format)\n",
    "- %I : 04 (hour 12-hr format)\n",
    "- %p : PM (AM or PM)\n",
    "- %M : 36 (minute)\n",
    "- %S : 30 (second)"
   ]
  },
  {
   "cell_type": "markdown",
   "id": "0a64a3da-c9ca-4785-86a4-dc754f9adbb7",
   "metadata": {},
   "source": [
    "# Formatting Datetimes\n",
    "\n",
    "- use datetime codes with the .strftime() method to customize the datetime format\n",
    "\n",
    "- string fomratted time = strftime\n",
    "- .strftime() returns a string, so assigning the formatted datetime values to the DF column reverts the data type to an object\n",
    "\n",
    "- .dt accessor lets you use the .strftime() on datetimes in Pandas DF"
   ]
  },
  {
   "cell_type": "code",
   "execution_count": 28,
   "id": "7f9fe51a-4614-4cbb-b536-a34d359ebda1",
   "metadata": {},
   "outputs": [
    {
     "data": {
      "text/plain": [
       "datetime.datetime(2023, 1, 27, 22, 44, 47, 351047)"
      ]
     },
     "execution_count": 28,
     "metadata": {},
     "output_type": "execute_result"
    }
   ],
   "source": [
    "now"
   ]
  },
  {
   "cell_type": "code",
   "execution_count": 29,
   "id": "aed2aac9-af33-44fa-a192-e10595dfc8ee",
   "metadata": {},
   "outputs": [
    {
     "data": {
      "text/plain": [
       "'January 27, 2023'"
      ]
     },
     "execution_count": 29,
     "metadata": {},
     "output_type": "execute_result"
    }
   ],
   "source": [
    "now.strftime('%B %d, %Y')"
   ]
  },
  {
   "cell_type": "code",
   "execution_count": 32,
   "id": "4d4d2300-f43f-4a74-9ca7-acf7dddd6c8e",
   "metadata": {},
   "outputs": [],
   "source": [
    "# specify multiple datetime codes and punctuation to create custom formats\n",
    "# reverts to object dtype\n",
    "# sales.assign(date=sales['date'].dt.strftime('%Y-%B-%a'))\n",
    "\n",
    "#  best dateformat, big, mid, small unit"
   ]
  },
  {
   "cell_type": "code",
   "execution_count": 34,
   "id": "b74e11fe-f9df-46f4-b1fb-ee0d86962c73",
   "metadata": {},
   "outputs": [
    {
     "data": {
      "text/html": [
       "<div>\n",
       "<style scoped>\n",
       "    .dataframe tbody tr th:only-of-type {\n",
       "        vertical-align: middle;\n",
       "    }\n",
       "\n",
       "    .dataframe tbody tr th {\n",
       "        vertical-align: top;\n",
       "    }\n",
       "\n",
       "    .dataframe thead th {\n",
       "        text-align: right;\n",
       "    }\n",
       "</style>\n",
       "<table border=\"1\" class=\"dataframe\">\n",
       "  <thead>\n",
       "    <tr style=\"text-align: right;\">\n",
       "      <th></th>\n",
       "      <th>id</th>\n",
       "      <th>date</th>\n",
       "      <th>store_nbr</th>\n",
       "      <th>family</th>\n",
       "      <th>sales</th>\n",
       "      <th>onpromotion</th>\n",
       "    </tr>\n",
       "  </thead>\n",
       "  <tbody>\n",
       "    <tr>\n",
       "      <th>0</th>\n",
       "      <td>1945944</td>\n",
       "      <td>2016-01-01</td>\n",
       "      <td>1</td>\n",
       "      <td>AUTOMOTIVE</td>\n",
       "      <td>0.0</td>\n",
       "      <td>0</td>\n",
       "    </tr>\n",
       "    <tr>\n",
       "      <th>1</th>\n",
       "      <td>1945945</td>\n",
       "      <td>2016-01-01</td>\n",
       "      <td>1</td>\n",
       "      <td>BABY CARE</td>\n",
       "      <td>0.0</td>\n",
       "      <td>0</td>\n",
       "    </tr>\n",
       "    <tr>\n",
       "      <th>2</th>\n",
       "      <td>1945946</td>\n",
       "      <td>2016-01-01</td>\n",
       "      <td>1</td>\n",
       "      <td>BEAUTY</td>\n",
       "      <td>0.0</td>\n",
       "      <td>0</td>\n",
       "    </tr>\n",
       "    <tr>\n",
       "      <th>3</th>\n",
       "      <td>1945947</td>\n",
       "      <td>2016-01-01</td>\n",
       "      <td>1</td>\n",
       "      <td>BEVERAGES</td>\n",
       "      <td>0.0</td>\n",
       "      <td>0</td>\n",
       "    </tr>\n",
       "    <tr>\n",
       "      <th>4</th>\n",
       "      <td>1945948</td>\n",
       "      <td>2016-01-01</td>\n",
       "      <td>1</td>\n",
       "      <td>BOOKS</td>\n",
       "      <td>0.0</td>\n",
       "      <td>0</td>\n",
       "    </tr>\n",
       "  </tbody>\n",
       "</table>\n",
       "</div>"
      ],
      "text/plain": [
       "        id       date  store_nbr      family  sales  onpromotion\n",
       "0  1945944 2016-01-01          1  AUTOMOTIVE    0.0            0\n",
       "1  1945945 2016-01-01          1   BABY CARE    0.0            0\n",
       "2  1945946 2016-01-01          1      BEAUTY    0.0            0\n",
       "3  1945947 2016-01-01          1   BEVERAGES    0.0            0\n",
       "4  1945948 2016-01-01          1       BOOKS    0.0            0"
      ]
     },
     "execution_count": 34,
     "metadata": {},
     "output_type": "execute_result"
    }
   ],
   "source": [
    "retail = pd.read_csv('../retail/retail_2016_2017.csv', parse_dates=['date'])\n",
    "\n",
    "retail.head()"
   ]
  },
  {
   "cell_type": "code",
   "execution_count": 35,
   "id": "e1fe5c84-0769-4c77-bd37-e710c7721c3a",
   "metadata": {},
   "outputs": [
    {
     "name": "stdout",
     "output_type": "stream",
     "text": [
      "<class 'pandas.core.frame.DataFrame'>\n",
      "RangeIndex: 1054944 entries, 0 to 1054943\n",
      "Data columns (total 6 columns):\n",
      " #   Column       Non-Null Count    Dtype         \n",
      "---  ------       --------------    -----         \n",
      " 0   id           1054944 non-null  int64         \n",
      " 1   date         1054944 non-null  datetime64[ns]\n",
      " 2   store_nbr    1054944 non-null  int64         \n",
      " 3   family       1054944 non-null  object        \n",
      " 4   sales        1054944 non-null  float64       \n",
      " 5   onpromotion  1054944 non-null  int64         \n",
      "dtypes: datetime64[ns](1), float64(1), int64(3), object(1)\n",
      "memory usage: 108.4 MB\n"
     ]
    }
   ],
   "source": [
    "retail.info(memory_usage='deep')"
   ]
  },
  {
   "cell_type": "code",
   "execution_count": 40,
   "id": "89f2f763-9f74-4c81-988a-bebd6db0b9ea",
   "metadata": {},
   "outputs": [
    {
     "data": {
      "text/plain": [
       "0    16-Jan-01\n",
       "1    16-Jan-01\n",
       "2    16-Jan-01\n",
       "3    16-Jan-01\n",
       "4    16-Jan-01\n",
       "Name: date, dtype: object"
      ]
     },
     "execution_count": 40,
     "metadata": {},
     "output_type": "execute_result"
    }
   ],
   "source": [
    "retail['date'].dt.strftime('%y-%b-%d').head()"
   ]
  },
  {
   "cell_type": "markdown",
   "id": "c0161cf6-aa1e-4020-805f-b1ecc76c1f28",
   "metadata": {},
   "source": [
    "# Extracting Dateime components\n",
    "\n",
    "- while you can use .strftime() method to extract datetime components, it's preferred to use th dedicated .dt accessors\n",
    "\n",
    "- return date = dates.dt.date\n",
    "- return year = dates.dt.year\n",
    "- return month = date.dt.month\n",
    "- return day of week = dates.dt.dayofweek\n",
    "- return time = dates.dt.time\n",
    "- return hour = date.dt.hour\n",
    "- return minute = date.dt.minute\n",
    "- return second = date.dt.second"
   ]
  },
  {
   "cell_type": "code",
   "execution_count": 46,
   "id": "e3b00398-9a2c-4a6b-ab60-3027c125f6ae",
   "metadata": {},
   "outputs": [
    {
     "data": {
      "text/html": [
       "<div>\n",
       "<style scoped>\n",
       "    .dataframe tbody tr th:only-of-type {\n",
       "        vertical-align: middle;\n",
       "    }\n",
       "\n",
       "    .dataframe tbody tr th {\n",
       "        vertical-align: top;\n",
       "    }\n",
       "\n",
       "    .dataframe thead th {\n",
       "        text-align: right;\n",
       "    }\n",
       "</style>\n",
       "<table border=\"1\" class=\"dataframe\">\n",
       "  <thead>\n",
       "    <tr style=\"text-align: right;\">\n",
       "      <th></th>\n",
       "      <th>id</th>\n",
       "      <th>date</th>\n",
       "      <th>store_nbr</th>\n",
       "      <th>family</th>\n",
       "      <th>sales</th>\n",
       "      <th>onpromotion</th>\n",
       "      <th>year</th>\n",
       "    </tr>\n",
       "  </thead>\n",
       "  <tbody>\n",
       "    <tr>\n",
       "      <th>0</th>\n",
       "      <td>1945944</td>\n",
       "      <td>2016-01-01</td>\n",
       "      <td>1</td>\n",
       "      <td>AUTOMOTIVE</td>\n",
       "      <td>0.000</td>\n",
       "      <td>0</td>\n",
       "      <td>2016</td>\n",
       "    </tr>\n",
       "    <tr>\n",
       "      <th>1</th>\n",
       "      <td>1945945</td>\n",
       "      <td>2016-01-01</td>\n",
       "      <td>1</td>\n",
       "      <td>BABY CARE</td>\n",
       "      <td>0.000</td>\n",
       "      <td>0</td>\n",
       "      <td>2016</td>\n",
       "    </tr>\n",
       "    <tr>\n",
       "      <th>2</th>\n",
       "      <td>1945946</td>\n",
       "      <td>2016-01-01</td>\n",
       "      <td>1</td>\n",
       "      <td>BEAUTY</td>\n",
       "      <td>0.000</td>\n",
       "      <td>0</td>\n",
       "      <td>2016</td>\n",
       "    </tr>\n",
       "    <tr>\n",
       "      <th>3</th>\n",
       "      <td>1945947</td>\n",
       "      <td>2016-01-01</td>\n",
       "      <td>1</td>\n",
       "      <td>BEVERAGES</td>\n",
       "      <td>0.000</td>\n",
       "      <td>0</td>\n",
       "      <td>2016</td>\n",
       "    </tr>\n",
       "    <tr>\n",
       "      <th>4</th>\n",
       "      <td>1945948</td>\n",
       "      <td>2016-01-01</td>\n",
       "      <td>1</td>\n",
       "      <td>BOOKS</td>\n",
       "      <td>0.000</td>\n",
       "      <td>0</td>\n",
       "      <td>2016</td>\n",
       "    </tr>\n",
       "    <tr>\n",
       "      <th>...</th>\n",
       "      <td>...</td>\n",
       "      <td>...</td>\n",
       "      <td>...</td>\n",
       "      <td>...</td>\n",
       "      <td>...</td>\n",
       "      <td>...</td>\n",
       "      <td>...</td>\n",
       "    </tr>\n",
       "    <tr>\n",
       "      <th>1054939</th>\n",
       "      <td>3000883</td>\n",
       "      <td>2017-08-15</td>\n",
       "      <td>9</td>\n",
       "      <td>POULTRY</td>\n",
       "      <td>438.133</td>\n",
       "      <td>0</td>\n",
       "      <td>2017</td>\n",
       "    </tr>\n",
       "    <tr>\n",
       "      <th>1054940</th>\n",
       "      <td>3000884</td>\n",
       "      <td>2017-08-15</td>\n",
       "      <td>9</td>\n",
       "      <td>PREPARED FOODS</td>\n",
       "      <td>154.553</td>\n",
       "      <td>1</td>\n",
       "      <td>2017</td>\n",
       "    </tr>\n",
       "    <tr>\n",
       "      <th>1054941</th>\n",
       "      <td>3000885</td>\n",
       "      <td>2017-08-15</td>\n",
       "      <td>9</td>\n",
       "      <td>PRODUCE</td>\n",
       "      <td>2419.729</td>\n",
       "      <td>148</td>\n",
       "      <td>2017</td>\n",
       "    </tr>\n",
       "    <tr>\n",
       "      <th>1054942</th>\n",
       "      <td>3000886</td>\n",
       "      <td>2017-08-15</td>\n",
       "      <td>9</td>\n",
       "      <td>SCHOOL AND OFFICE SUPPLIES</td>\n",
       "      <td>121.000</td>\n",
       "      <td>8</td>\n",
       "      <td>2017</td>\n",
       "    </tr>\n",
       "    <tr>\n",
       "      <th>1054943</th>\n",
       "      <td>3000887</td>\n",
       "      <td>2017-08-15</td>\n",
       "      <td>9</td>\n",
       "      <td>SEAFOOD</td>\n",
       "      <td>16.000</td>\n",
       "      <td>0</td>\n",
       "      <td>2017</td>\n",
       "    </tr>\n",
       "  </tbody>\n",
       "</table>\n",
       "<p>1054944 rows × 7 columns</p>\n",
       "</div>"
      ],
      "text/plain": [
       "              id       date  store_nbr                      family     sales  \\\n",
       "0        1945944 2016-01-01          1                  AUTOMOTIVE     0.000   \n",
       "1        1945945 2016-01-01          1                   BABY CARE     0.000   \n",
       "2        1945946 2016-01-01          1                      BEAUTY     0.000   \n",
       "3        1945947 2016-01-01          1                   BEVERAGES     0.000   \n",
       "4        1945948 2016-01-01          1                       BOOKS     0.000   \n",
       "...          ...        ...        ...                         ...       ...   \n",
       "1054939  3000883 2017-08-15          9                     POULTRY   438.133   \n",
       "1054940  3000884 2017-08-15          9              PREPARED FOODS   154.553   \n",
       "1054941  3000885 2017-08-15          9                     PRODUCE  2419.729   \n",
       "1054942  3000886 2017-08-15          9  SCHOOL AND OFFICE SUPPLIES   121.000   \n",
       "1054943  3000887 2017-08-15          9                     SEAFOOD    16.000   \n",
       "\n",
       "         onpromotion  year  \n",
       "0                  0  2016  \n",
       "1                  0  2016  \n",
       "2                  0  2016  \n",
       "3                  0  2016  \n",
       "4                  0  2016  \n",
       "...              ...   ...  \n",
       "1054939            0  2017  \n",
       "1054940            1  2017  \n",
       "1054941          148  2017  \n",
       "1054942            8  2017  \n",
       "1054943            0  2017  \n",
       "\n",
       "[1054944 rows x 7 columns]"
      ]
     },
     "execution_count": 46,
     "metadata": {},
     "output_type": "execute_result"
    }
   ],
   "source": [
    "retail.assign(\n",
    "    year = retail['date'].dt.year)"
   ]
  },
  {
   "cell_type": "markdown",
   "id": "8a3870e2",
   "metadata": {},
   "source": [
    "# Assignment 1: Date Formats and Date Parts\n",
    "\n",
    "* First, convert the `date` column to datetime64, by any method.\n",
    "\n",
    "* Then, create a column representing the time difference between the last date in the data and each date. \n",
    "\n",
    "* Next, create columns for the date parts year, month, and weekday.\n",
    "\n",
    "* Finally, format the date to Year-Month-Day (This will be a string/object)."
   ]
  },
  {
   "cell_type": "code",
   "execution_count": 82,
   "id": "b6e64a39",
   "metadata": {},
   "outputs": [
    {
     "data": {
      "text/html": [
       "<div>\n",
       "<style scoped>\n",
       "    .dataframe tbody tr th:only-of-type {\n",
       "        vertical-align: middle;\n",
       "    }\n",
       "\n",
       "    .dataframe tbody tr th {\n",
       "        vertical-align: top;\n",
       "    }\n",
       "\n",
       "    .dataframe thead th {\n",
       "        text-align: right;\n",
       "    }\n",
       "</style>\n",
       "<table border=\"1\" class=\"dataframe\">\n",
       "  <thead>\n",
       "    <tr style=\"text-align: right;\">\n",
       "      <th></th>\n",
       "      <th>date</th>\n",
       "      <th>store_nbr</th>\n",
       "      <th>transactions</th>\n",
       "    </tr>\n",
       "  </thead>\n",
       "  <tbody>\n",
       "    <tr>\n",
       "      <th>0</th>\n",
       "      <td>2013-01-01</td>\n",
       "      <td>25</td>\n",
       "      <td>770</td>\n",
       "    </tr>\n",
       "    <tr>\n",
       "      <th>1</th>\n",
       "      <td>2013-01-02</td>\n",
       "      <td>1</td>\n",
       "      <td>2111</td>\n",
       "    </tr>\n",
       "    <tr>\n",
       "      <th>2</th>\n",
       "      <td>2013-01-02</td>\n",
       "      <td>2</td>\n",
       "      <td>2358</td>\n",
       "    </tr>\n",
       "    <tr>\n",
       "      <th>3</th>\n",
       "      <td>2013-01-02</td>\n",
       "      <td>3</td>\n",
       "      <td>3487</td>\n",
       "    </tr>\n",
       "    <tr>\n",
       "      <th>4</th>\n",
       "      <td>2013-01-02</td>\n",
       "      <td>4</td>\n",
       "      <td>1922</td>\n",
       "    </tr>\n",
       "  </tbody>\n",
       "</table>\n",
       "</div>"
      ],
      "text/plain": [
       "        date  store_nbr  transactions\n",
       "0 2013-01-01         25           770\n",
       "1 2013-01-02          1          2111\n",
       "2 2013-01-02          2          2358\n",
       "3 2013-01-02          3          3487\n",
       "4 2013-01-02          4          1922"
      ]
     },
     "execution_count": 82,
     "metadata": {},
     "output_type": "execute_result"
    }
   ],
   "source": [
    "# read in transactions.csv \n",
    "transactions = pd.read_csv('../retail/transactions.csv', parse_dates=['date'])\n",
    "\n",
    "transactions.head()"
   ]
  },
  {
   "cell_type": "code",
   "execution_count": 83,
   "id": "f882c772",
   "metadata": {},
   "outputs": [
    {
     "name": "stdout",
     "output_type": "stream",
     "text": [
      "<class 'pandas.core.frame.DataFrame'>\n",
      "RangeIndex: 83488 entries, 0 to 83487\n",
      "Data columns (total 3 columns):\n",
      " #   Column        Non-Null Count  Dtype         \n",
      "---  ------        --------------  -----         \n",
      " 0   date          83488 non-null  datetime64[ns]\n",
      " 1   store_nbr     83488 non-null  int64         \n",
      " 2   transactions  83488 non-null  int64         \n",
      "dtypes: datetime64[ns](1), int64(2)\n",
      "memory usage: 1.9 MB\n"
     ]
    }
   ],
   "source": [
    "transactions.info()"
   ]
  },
  {
   "cell_type": "code",
   "execution_count": 84,
   "id": "007463b3-177f-4e2a-b04a-40d7db183ec3",
   "metadata": {},
   "outputs": [
    {
     "data": {
      "text/plain": [
       "Timestamp('2017-08-15 00:00:00')"
      ]
     },
     "execution_count": 84,
     "metadata": {},
     "output_type": "execute_result"
    }
   ],
   "source": [
    "transactions['date'].max()"
   ]
  },
  {
   "cell_type": "code",
   "execution_count": 91,
   "id": "7fd7009b",
   "metadata": {},
   "outputs": [
    {
     "data": {
      "text/html": [
       "<div>\n",
       "<style scoped>\n",
       "    .dataframe tbody tr th:only-of-type {\n",
       "        vertical-align: middle;\n",
       "    }\n",
       "\n",
       "    .dataframe tbody tr th {\n",
       "        vertical-align: top;\n",
       "    }\n",
       "\n",
       "    .dataframe thead th {\n",
       "        text-align: right;\n",
       "    }\n",
       "</style>\n",
       "<table border=\"1\" class=\"dataframe\">\n",
       "  <thead>\n",
       "    <tr style=\"text-align: right;\">\n",
       "      <th></th>\n",
       "      <th>date</th>\n",
       "      <th>store_nbr</th>\n",
       "      <th>transactions</th>\n",
       "      <th>time_diff</th>\n",
       "      <th>year</th>\n",
       "      <th>month</th>\n",
       "      <th>dayofweek</th>\n",
       "    </tr>\n",
       "  </thead>\n",
       "  <tbody>\n",
       "    <tr>\n",
       "      <th>0</th>\n",
       "      <td>2013-Jan-01</td>\n",
       "      <td>25</td>\n",
       "      <td>770</td>\n",
       "      <td>1687 days</td>\n",
       "      <td>2013</td>\n",
       "      <td>1</td>\n",
       "      <td>1</td>\n",
       "    </tr>\n",
       "    <tr>\n",
       "      <th>1</th>\n",
       "      <td>2013-Jan-02</td>\n",
       "      <td>1</td>\n",
       "      <td>2111</td>\n",
       "      <td>1686 days</td>\n",
       "      <td>2013</td>\n",
       "      <td>1</td>\n",
       "      <td>2</td>\n",
       "    </tr>\n",
       "    <tr>\n",
       "      <th>2</th>\n",
       "      <td>2013-Jan-02</td>\n",
       "      <td>2</td>\n",
       "      <td>2358</td>\n",
       "      <td>1686 days</td>\n",
       "      <td>2013</td>\n",
       "      <td>1</td>\n",
       "      <td>2</td>\n",
       "    </tr>\n",
       "    <tr>\n",
       "      <th>3</th>\n",
       "      <td>2013-Jan-02</td>\n",
       "      <td>3</td>\n",
       "      <td>3487</td>\n",
       "      <td>1686 days</td>\n",
       "      <td>2013</td>\n",
       "      <td>1</td>\n",
       "      <td>2</td>\n",
       "    </tr>\n",
       "    <tr>\n",
       "      <th>4</th>\n",
       "      <td>2013-Jan-02</td>\n",
       "      <td>4</td>\n",
       "      <td>1922</td>\n",
       "      <td>1686 days</td>\n",
       "      <td>2013</td>\n",
       "      <td>1</td>\n",
       "      <td>2</td>\n",
       "    </tr>\n",
       "    <tr>\n",
       "      <th>...</th>\n",
       "      <td>...</td>\n",
       "      <td>...</td>\n",
       "      <td>...</td>\n",
       "      <td>...</td>\n",
       "      <td>...</td>\n",
       "      <td>...</td>\n",
       "      <td>...</td>\n",
       "    </tr>\n",
       "    <tr>\n",
       "      <th>83483</th>\n",
       "      <td>2017-Aug-15</td>\n",
       "      <td>50</td>\n",
       "      <td>2804</td>\n",
       "      <td>0 days</td>\n",
       "      <td>2017</td>\n",
       "      <td>8</td>\n",
       "      <td>1</td>\n",
       "    </tr>\n",
       "    <tr>\n",
       "      <th>83484</th>\n",
       "      <td>2017-Aug-15</td>\n",
       "      <td>51</td>\n",
       "      <td>1573</td>\n",
       "      <td>0 days</td>\n",
       "      <td>2017</td>\n",
       "      <td>8</td>\n",
       "      <td>1</td>\n",
       "    </tr>\n",
       "    <tr>\n",
       "      <th>83485</th>\n",
       "      <td>2017-Aug-15</td>\n",
       "      <td>52</td>\n",
       "      <td>2255</td>\n",
       "      <td>0 days</td>\n",
       "      <td>2017</td>\n",
       "      <td>8</td>\n",
       "      <td>1</td>\n",
       "    </tr>\n",
       "    <tr>\n",
       "      <th>83486</th>\n",
       "      <td>2017-Aug-15</td>\n",
       "      <td>53</td>\n",
       "      <td>932</td>\n",
       "      <td>0 days</td>\n",
       "      <td>2017</td>\n",
       "      <td>8</td>\n",
       "      <td>1</td>\n",
       "    </tr>\n",
       "    <tr>\n",
       "      <th>83487</th>\n",
       "      <td>2017-Aug-15</td>\n",
       "      <td>54</td>\n",
       "      <td>802</td>\n",
       "      <td>0 days</td>\n",
       "      <td>2017</td>\n",
       "      <td>8</td>\n",
       "      <td>1</td>\n",
       "    </tr>\n",
       "  </tbody>\n",
       "</table>\n",
       "<p>83488 rows × 7 columns</p>\n",
       "</div>"
      ],
      "text/plain": [
       "              date  store_nbr  transactions time_diff  year  month  dayofweek\n",
       "0      2013-Jan-01         25           770 1687 days  2013      1          1\n",
       "1      2013-Jan-02          1          2111 1686 days  2013      1          2\n",
       "2      2013-Jan-02          2          2358 1686 days  2013      1          2\n",
       "3      2013-Jan-02          3          3487 1686 days  2013      1          2\n",
       "4      2013-Jan-02          4          1922 1686 days  2013      1          2\n",
       "...            ...        ...           ...       ...   ...    ...        ...\n",
       "83483  2017-Aug-15         50          2804    0 days  2017      8          1\n",
       "83484  2017-Aug-15         51          1573    0 days  2017      8          1\n",
       "83485  2017-Aug-15         52          2255    0 days  2017      8          1\n",
       "83486  2017-Aug-15         53           932    0 days  2017      8          1\n",
       "83487  2017-Aug-15         54           802    0 days  2017      8          1\n",
       "\n",
       "[83488 rows x 7 columns]"
      ]
     },
     "execution_count": 91,
     "metadata": {},
     "output_type": "execute_result"
    }
   ],
   "source": [
    "transactions.assign(\n",
    "    time_diff = transactions['date'].max() - transactions['date'],\n",
    "    year = transactions['date'].dt.year, \n",
    "    month = transactions['date'].dt.month, \n",
    "    dayofweek = transactions['date'].dt.dayofweek,\n",
    "    date = transactions['date'].dt.strftime('%Y-%b-%d')\n",
    ")"
   ]
  },
  {
   "cell_type": "markdown",
   "id": "d9cfa729-dab4-435e-a861-1c00999ab2d4",
   "metadata": {},
   "source": [
    "# Time Deltas\n",
    "\n",
    "- Time deltas represent the amount or time, or difference, between two datetimes\n",
    "- a time delra is returned when subtracting 2 datetime values"
   ]
  },
  {
   "cell_type": "markdown",
   "id": "4c7aca9e-781c-4be9-b804-bfc516a08ce0",
   "metadata": {},
   "source": [
    "# To_Timedelta & Frequencies"
   ]
  },
  {
   "cell_type": "markdown",
   "id": "24d195c6-d7c3-4e91-8b00-5b91b00c5e83",
   "metadata": {},
   "source": [
    "- .to_timedelta() method lets you use frequencies to return timedelta values\n",
    "- specify a number and frequency as unit\n",
    "\n",
    "\n",
    "- Frequency -> Unit\n",
    "- 'D' : Day\n",
    "- 'W' : Week\n",
    "- 'H' : Hour\n",
    "- 'T' : Minute\n",
    "- 'S' : Second\n",
    "\n",
    "- 'M' : Month end\n",
    "- 'Q' : Quarter end\n",
    "- 'Y' : Year end\n",
    "\n",
    "\n",
    "- Because M, Q and Y have differing lengths, they are sometimes known as 'anchored' frequencies, since thay are anchored to the end of calendar periods\n",
    "\n",
    "- They can't be used in time delta arithmetic, but are useful for things like resampling"
   ]
  },
  {
   "cell_type": "code",
   "execution_count": 93,
   "id": "b15c321e",
   "metadata": {},
   "outputs": [
    {
     "data": {
      "text/plain": [
       "Timedelta('5 days 00:00:00')"
      ]
     },
     "execution_count": 93,
     "metadata": {},
     "output_type": "execute_result"
    }
   ],
   "source": [
    "pd.to_timedelta(5, unit='D')"
   ]
  },
  {
   "cell_type": "code",
   "execution_count": 94,
   "id": "3f070ea1-76e6-4c1a-b6e4-536b4e00aa15",
   "metadata": {},
   "outputs": [
    {
     "data": {
      "text/plain": [
       "Timedelta('35 days 00:00:00')"
      ]
     },
     "execution_count": 94,
     "metadata": {},
     "output_type": "execute_result"
    }
   ],
   "source": [
    "pd.to_timedelta(5, unit='W')"
   ]
  },
  {
   "cell_type": "code",
   "execution_count": 96,
   "id": "7eaad282-8ae0-4bc6-9e57-b70d58b4980a",
   "metadata": {},
   "outputs": [],
   "source": [
    "# pd.to_timedelta(5, unit='Y')"
   ]
  },
  {
   "cell_type": "code",
   "execution_count": 98,
   "id": "931ac51e-6597-44b3-9848-77b1974748ef",
   "metadata": {},
   "outputs": [
    {
     "data": {
      "text/html": [
       "<div>\n",
       "<style scoped>\n",
       "    .dataframe tbody tr th:only-of-type {\n",
       "        vertical-align: middle;\n",
       "    }\n",
       "\n",
       "    .dataframe tbody tr th {\n",
       "        vertical-align: top;\n",
       "    }\n",
       "\n",
       "    .dataframe thead th {\n",
       "        text-align: right;\n",
       "    }\n",
       "</style>\n",
       "<table border=\"1\" class=\"dataframe\">\n",
       "  <thead>\n",
       "    <tr style=\"text-align: right;\">\n",
       "      <th></th>\n",
       "      <th>id</th>\n",
       "      <th>date</th>\n",
       "      <th>store_nbr</th>\n",
       "      <th>family</th>\n",
       "      <th>sales</th>\n",
       "      <th>onpromotion</th>\n",
       "      <th>birthday</th>\n",
       "    </tr>\n",
       "  </thead>\n",
       "  <tbody>\n",
       "    <tr>\n",
       "      <th>0</th>\n",
       "      <td>1945944</td>\n",
       "      <td>2016-01-01</td>\n",
       "      <td>1</td>\n",
       "      <td>AUTOMOTIVE</td>\n",
       "      <td>0.0</td>\n",
       "      <td>0</td>\n",
       "      <td>1990-01-01</td>\n",
       "    </tr>\n",
       "    <tr>\n",
       "      <th>1</th>\n",
       "      <td>1945945</td>\n",
       "      <td>2016-01-01</td>\n",
       "      <td>1</td>\n",
       "      <td>BABY CARE</td>\n",
       "      <td>0.0</td>\n",
       "      <td>0</td>\n",
       "      <td>1990-01-01</td>\n",
       "    </tr>\n",
       "    <tr>\n",
       "      <th>2</th>\n",
       "      <td>1945946</td>\n",
       "      <td>2016-01-01</td>\n",
       "      <td>1</td>\n",
       "      <td>BEAUTY</td>\n",
       "      <td>0.0</td>\n",
       "      <td>0</td>\n",
       "      <td>1990-01-01</td>\n",
       "    </tr>\n",
       "    <tr>\n",
       "      <th>3</th>\n",
       "      <td>1945947</td>\n",
       "      <td>2016-01-01</td>\n",
       "      <td>1</td>\n",
       "      <td>BEVERAGES</td>\n",
       "      <td>0.0</td>\n",
       "      <td>0</td>\n",
       "      <td>1990-01-01</td>\n",
       "    </tr>\n",
       "    <tr>\n",
       "      <th>4</th>\n",
       "      <td>1945948</td>\n",
       "      <td>2016-01-01</td>\n",
       "      <td>1</td>\n",
       "      <td>BOOKS</td>\n",
       "      <td>0.0</td>\n",
       "      <td>0</td>\n",
       "      <td>1990-01-01</td>\n",
       "    </tr>\n",
       "  </tbody>\n",
       "</table>\n",
       "</div>"
      ],
      "text/plain": [
       "        id       date  store_nbr      family  sales  onpromotion   birthday\n",
       "0  1945944 2016-01-01          1  AUTOMOTIVE    0.0            0 1990-01-01\n",
       "1  1945945 2016-01-01          1   BABY CARE    0.0            0 1990-01-01\n",
       "2  1945946 2016-01-01          1      BEAUTY    0.0            0 1990-01-01\n",
       "3  1945947 2016-01-01          1   BEVERAGES    0.0            0 1990-01-01\n",
       "4  1945948 2016-01-01          1       BOOKS    0.0            0 1990-01-01"
      ]
     },
     "execution_count": 98,
     "metadata": {},
     "output_type": "execute_result"
    }
   ],
   "source": [
    "retail = retail.assign(birthday=pd.to_datetime('1990-01-01'))\n",
    "\n",
    "retail.head()"
   ]
  },
  {
   "cell_type": "code",
   "execution_count": 108,
   "id": "32bb043c-3699-477e-86bf-330633a955d0",
   "metadata": {},
   "outputs": [
    {
     "data": {
      "text/html": [
       "<div>\n",
       "<style scoped>\n",
       "    .dataframe tbody tr th:only-of-type {\n",
       "        vertical-align: middle;\n",
       "    }\n",
       "\n",
       "    .dataframe tbody tr th {\n",
       "        vertical-align: top;\n",
       "    }\n",
       "\n",
       "    .dataframe thead th {\n",
       "        text-align: right;\n",
       "    }\n",
       "</style>\n",
       "<table border=\"1\" class=\"dataframe\">\n",
       "  <thead>\n",
       "    <tr style=\"text-align: right;\">\n",
       "      <th></th>\n",
       "      <th>id</th>\n",
       "      <th>date</th>\n",
       "      <th>store_nbr</th>\n",
       "      <th>family</th>\n",
       "      <th>sales</th>\n",
       "      <th>onpromotion</th>\n",
       "      <th>birthday</th>\n",
       "      <th>age</th>\n",
       "    </tr>\n",
       "  </thead>\n",
       "  <tbody>\n",
       "    <tr>\n",
       "      <th>0</th>\n",
       "      <td>1945944</td>\n",
       "      <td>2016-01-01</td>\n",
       "      <td>1</td>\n",
       "      <td>AUTOMOTIVE</td>\n",
       "      <td>0.0</td>\n",
       "      <td>0</td>\n",
       "      <td>1990-01-01</td>\n",
       "      <td>25.998631</td>\n",
       "    </tr>\n",
       "    <tr>\n",
       "      <th>1</th>\n",
       "      <td>1945945</td>\n",
       "      <td>2016-01-01</td>\n",
       "      <td>1</td>\n",
       "      <td>BABY CARE</td>\n",
       "      <td>0.0</td>\n",
       "      <td>0</td>\n",
       "      <td>1990-01-01</td>\n",
       "      <td>25.998631</td>\n",
       "    </tr>\n",
       "    <tr>\n",
       "      <th>2</th>\n",
       "      <td>1945946</td>\n",
       "      <td>2016-01-01</td>\n",
       "      <td>1</td>\n",
       "      <td>BEAUTY</td>\n",
       "      <td>0.0</td>\n",
       "      <td>0</td>\n",
       "      <td>1990-01-01</td>\n",
       "      <td>25.998631</td>\n",
       "    </tr>\n",
       "    <tr>\n",
       "      <th>3</th>\n",
       "      <td>1945947</td>\n",
       "      <td>2016-01-01</td>\n",
       "      <td>1</td>\n",
       "      <td>BEVERAGES</td>\n",
       "      <td>0.0</td>\n",
       "      <td>0</td>\n",
       "      <td>1990-01-01</td>\n",
       "      <td>25.998631</td>\n",
       "    </tr>\n",
       "    <tr>\n",
       "      <th>4</th>\n",
       "      <td>1945948</td>\n",
       "      <td>2016-01-01</td>\n",
       "      <td>1</td>\n",
       "      <td>BOOKS</td>\n",
       "      <td>0.0</td>\n",
       "      <td>0</td>\n",
       "      <td>1990-01-01</td>\n",
       "      <td>25.998631</td>\n",
       "    </tr>\n",
       "  </tbody>\n",
       "</table>\n",
       "</div>"
      ],
      "text/plain": [
       "        id       date  store_nbr      family  sales  onpromotion   birthday  \\\n",
       "0  1945944 2016-01-01          1  AUTOMOTIVE    0.0            0 1990-01-01   \n",
       "1  1945945 2016-01-01          1   BABY CARE    0.0            0 1990-01-01   \n",
       "2  1945946 2016-01-01          1      BEAUTY    0.0            0 1990-01-01   \n",
       "3  1945947 2016-01-01          1   BEVERAGES    0.0            0 1990-01-01   \n",
       "4  1945948 2016-01-01          1       BOOKS    0.0            0 1990-01-01   \n",
       "\n",
       "         age  \n",
       "0  25.998631  \n",
       "1  25.998631  \n",
       "2  25.998631  \n",
       "3  25.998631  \n",
       "4  25.998631  "
      ]
     },
     "execution_count": 108,
     "metadata": {},
     "output_type": "execute_result"
    }
   ],
   "source": [
    "retail = retail.assign(age=(retail['date'] - retail['birthday']).dt.days / 365.25)\n",
    "\n",
    "retail.head()"
   ]
  },
  {
   "cell_type": "code",
   "execution_count": 113,
   "id": "275beb16-95a2-4a51-8983-12467c255655",
   "metadata": {},
   "outputs": [
    {
     "data": {
      "text/html": [
       "<div>\n",
       "<style scoped>\n",
       "    .dataframe tbody tr th:only-of-type {\n",
       "        vertical-align: middle;\n",
       "    }\n",
       "\n",
       "    .dataframe tbody tr th {\n",
       "        vertical-align: top;\n",
       "    }\n",
       "\n",
       "    .dataframe thead th {\n",
       "        text-align: right;\n",
       "    }\n",
       "</style>\n",
       "<table border=\"1\" class=\"dataframe\">\n",
       "  <thead>\n",
       "    <tr style=\"text-align: right;\">\n",
       "      <th></th>\n",
       "      <th>id</th>\n",
       "      <th>date</th>\n",
       "      <th>store_nbr</th>\n",
       "      <th>family</th>\n",
       "      <th>sales</th>\n",
       "      <th>onpromotion</th>\n",
       "      <th>birthday</th>\n",
       "      <th>age</th>\n",
       "      <th>retirement_date</th>\n",
       "    </tr>\n",
       "  </thead>\n",
       "  <tbody>\n",
       "    <tr>\n",
       "      <th>0</th>\n",
       "      <td>1945944</td>\n",
       "      <td>2016-01-01</td>\n",
       "      <td>1</td>\n",
       "      <td>AUTOMOTIVE</td>\n",
       "      <td>0.0</td>\n",
       "      <td>0</td>\n",
       "      <td>1990-01-01</td>\n",
       "      <td>25.998631</td>\n",
       "      <td>2036-01-01</td>\n",
       "    </tr>\n",
       "    <tr>\n",
       "      <th>1</th>\n",
       "      <td>1945945</td>\n",
       "      <td>2016-01-01</td>\n",
       "      <td>1</td>\n",
       "      <td>BABY CARE</td>\n",
       "      <td>0.0</td>\n",
       "      <td>0</td>\n",
       "      <td>1990-01-01</td>\n",
       "      <td>25.998631</td>\n",
       "      <td>2036-01-01</td>\n",
       "    </tr>\n",
       "    <tr>\n",
       "      <th>2</th>\n",
       "      <td>1945946</td>\n",
       "      <td>2016-01-01</td>\n",
       "      <td>1</td>\n",
       "      <td>BEAUTY</td>\n",
       "      <td>0.0</td>\n",
       "      <td>0</td>\n",
       "      <td>1990-01-01</td>\n",
       "      <td>25.998631</td>\n",
       "      <td>2036-01-01</td>\n",
       "    </tr>\n",
       "    <tr>\n",
       "      <th>3</th>\n",
       "      <td>1945947</td>\n",
       "      <td>2016-01-01</td>\n",
       "      <td>1</td>\n",
       "      <td>BEVERAGES</td>\n",
       "      <td>0.0</td>\n",
       "      <td>0</td>\n",
       "      <td>1990-01-01</td>\n",
       "      <td>25.998631</td>\n",
       "      <td>2036-01-01</td>\n",
       "    </tr>\n",
       "    <tr>\n",
       "      <th>4</th>\n",
       "      <td>1945948</td>\n",
       "      <td>2016-01-01</td>\n",
       "      <td>1</td>\n",
       "      <td>BOOKS</td>\n",
       "      <td>0.0</td>\n",
       "      <td>0</td>\n",
       "      <td>1990-01-01</td>\n",
       "      <td>25.998631</td>\n",
       "      <td>2036-01-01</td>\n",
       "    </tr>\n",
       "  </tbody>\n",
       "</table>\n",
       "</div>"
      ],
      "text/plain": [
       "        id       date  store_nbr      family  sales  onpromotion   birthday  \\\n",
       "0  1945944 2016-01-01          1  AUTOMOTIVE    0.0            0 1990-01-01   \n",
       "1  1945945 2016-01-01          1   BABY CARE    0.0            0 1990-01-01   \n",
       "2  1945946 2016-01-01          1      BEAUTY    0.0            0 1990-01-01   \n",
       "3  1945947 2016-01-01          1   BEVERAGES    0.0            0 1990-01-01   \n",
       "4  1945948 2016-01-01          1       BOOKS    0.0            0 1990-01-01   \n",
       "\n",
       "         age retirement_date  \n",
       "0  25.998631      2036-01-01  \n",
       "1  25.998631      2036-01-01  \n",
       "2  25.998631      2036-01-01  \n",
       "3  25.998631      2036-01-01  \n",
       "4  25.998631      2036-01-01  "
      ]
     },
     "execution_count": 113,
     "metadata": {},
     "output_type": "execute_result"
    }
   ],
   "source": [
    "retail = retail.assign(\n",
    "    retirement_date = retail['date'] + (pd.to_timedelta(365.25, unit='D') * 20))\n",
    "\n",
    "retail.head()"
   ]
  },
  {
   "cell_type": "markdown",
   "id": "934c2fa9",
   "metadata": {
    "tags": []
   },
   "source": [
    "# Assignment 2: Time Arithmetic\n",
    "\n",
    "\n",
    "Hi again,\n",
    "\n",
    "I just got word the the true max date in our data was three weeks after 2017-08-15.\n",
    "\n",
    "* Can you add three weeks to the ‘time_to_last_date’ column? \n",
    "* Then, calculate ‘weeks_to_last_date’ by dividing the number of days  in ‘time_to_last_date’ by 7.\n",
    "\n",
    "Thanks"
   ]
  },
  {
   "cell_type": "code",
   "execution_count": 114,
   "id": "4a866234",
   "metadata": {},
   "outputs": [],
   "source": [
    "# overwrite previous transactions df and convert date column\n",
    "\n",
    "transactions = pd.read_csv(\"../retail/transactions.csv\", parse_dates=[\"date\"])"
   ]
  },
  {
   "cell_type": "code",
   "execution_count": 115,
   "id": "692ff9b8",
   "metadata": {},
   "outputs": [
    {
     "data": {
      "text/html": [
       "<div>\n",
       "<style scoped>\n",
       "    .dataframe tbody tr th:only-of-type {\n",
       "        vertical-align: middle;\n",
       "    }\n",
       "\n",
       "    .dataframe tbody tr th {\n",
       "        vertical-align: top;\n",
       "    }\n",
       "\n",
       "    .dataframe thead th {\n",
       "        text-align: right;\n",
       "    }\n",
       "</style>\n",
       "<table border=\"1\" class=\"dataframe\">\n",
       "  <thead>\n",
       "    <tr style=\"text-align: right;\">\n",
       "      <th></th>\n",
       "      <th>date</th>\n",
       "      <th>store_nbr</th>\n",
       "      <th>transactions</th>\n",
       "    </tr>\n",
       "  </thead>\n",
       "  <tbody>\n",
       "    <tr>\n",
       "      <th>83483</th>\n",
       "      <td>2017-08-15</td>\n",
       "      <td>50</td>\n",
       "      <td>2804</td>\n",
       "    </tr>\n",
       "    <tr>\n",
       "      <th>83484</th>\n",
       "      <td>2017-08-15</td>\n",
       "      <td>51</td>\n",
       "      <td>1573</td>\n",
       "    </tr>\n",
       "    <tr>\n",
       "      <th>83485</th>\n",
       "      <td>2017-08-15</td>\n",
       "      <td>52</td>\n",
       "      <td>2255</td>\n",
       "    </tr>\n",
       "    <tr>\n",
       "      <th>83486</th>\n",
       "      <td>2017-08-15</td>\n",
       "      <td>53</td>\n",
       "      <td>932</td>\n",
       "    </tr>\n",
       "    <tr>\n",
       "      <th>83487</th>\n",
       "      <td>2017-08-15</td>\n",
       "      <td>54</td>\n",
       "      <td>802</td>\n",
       "    </tr>\n",
       "  </tbody>\n",
       "</table>\n",
       "</div>"
      ],
      "text/plain": [
       "            date  store_nbr  transactions\n",
       "83483 2017-08-15         50          2804\n",
       "83484 2017-08-15         51          1573\n",
       "83485 2017-08-15         52          2255\n",
       "83486 2017-08-15         53           932\n",
       "83487 2017-08-15         54           802"
      ]
     },
     "execution_count": 115,
     "metadata": {},
     "output_type": "execute_result"
    }
   ],
   "source": [
    "transactions.tail()"
   ]
  },
  {
   "cell_type": "code",
   "execution_count": 116,
   "id": "8fbdcb77",
   "metadata": {},
   "outputs": [
    {
     "data": {
      "text/html": [
       "<div>\n",
       "<style scoped>\n",
       "    .dataframe tbody tr th:only-of-type {\n",
       "        vertical-align: middle;\n",
       "    }\n",
       "\n",
       "    .dataframe tbody tr th {\n",
       "        vertical-align: top;\n",
       "    }\n",
       "\n",
       "    .dataframe thead th {\n",
       "        text-align: right;\n",
       "    }\n",
       "</style>\n",
       "<table border=\"1\" class=\"dataframe\">\n",
       "  <thead>\n",
       "    <tr style=\"text-align: right;\">\n",
       "      <th></th>\n",
       "      <th>date</th>\n",
       "      <th>store_nbr</th>\n",
       "      <th>transactions</th>\n",
       "      <th>year</th>\n",
       "      <th>month</th>\n",
       "      <th>day_of_week</th>\n",
       "      <th>time_to_last_date</th>\n",
       "    </tr>\n",
       "  </thead>\n",
       "  <tbody>\n",
       "    <tr>\n",
       "      <th>0</th>\n",
       "      <td>2013-01-01</td>\n",
       "      <td>25</td>\n",
       "      <td>770</td>\n",
       "      <td>2013</td>\n",
       "      <td>1</td>\n",
       "      <td>1</td>\n",
       "      <td>1687 days</td>\n",
       "    </tr>\n",
       "    <tr>\n",
       "      <th>1</th>\n",
       "      <td>2013-01-02</td>\n",
       "      <td>1</td>\n",
       "      <td>2111</td>\n",
       "      <td>2013</td>\n",
       "      <td>1</td>\n",
       "      <td>2</td>\n",
       "      <td>1686 days</td>\n",
       "    </tr>\n",
       "    <tr>\n",
       "      <th>2</th>\n",
       "      <td>2013-01-02</td>\n",
       "      <td>2</td>\n",
       "      <td>2358</td>\n",
       "      <td>2013</td>\n",
       "      <td>1</td>\n",
       "      <td>2</td>\n",
       "      <td>1686 days</td>\n",
       "    </tr>\n",
       "    <tr>\n",
       "      <th>3</th>\n",
       "      <td>2013-01-02</td>\n",
       "      <td>3</td>\n",
       "      <td>3487</td>\n",
       "      <td>2013</td>\n",
       "      <td>1</td>\n",
       "      <td>2</td>\n",
       "      <td>1686 days</td>\n",
       "    </tr>\n",
       "    <tr>\n",
       "      <th>4</th>\n",
       "      <td>2013-01-02</td>\n",
       "      <td>4</td>\n",
       "      <td>1922</td>\n",
       "      <td>2013</td>\n",
       "      <td>1</td>\n",
       "      <td>2</td>\n",
       "      <td>1686 days</td>\n",
       "    </tr>\n",
       "  </tbody>\n",
       "</table>\n",
       "</div>"
      ],
      "text/plain": [
       "        date  store_nbr  transactions  year  month  day_of_week  \\\n",
       "0 2013-01-01         25           770  2013      1            1   \n",
       "1 2013-01-02          1          2111  2013      1            2   \n",
       "2 2013-01-02          2          2358  2013      1            2   \n",
       "3 2013-01-02          3          3487  2013      1            2   \n",
       "4 2013-01-02          4          1922  2013      1            2   \n",
       "\n",
       "  time_to_last_date  \n",
       "0         1687 days  \n",
       "1         1686 days  \n",
       "2         1686 days  \n",
       "3         1686 days  \n",
       "4         1686 days  "
      ]
     },
     "execution_count": 116,
     "metadata": {},
     "output_type": "execute_result"
    }
   ],
   "source": [
    "# recreate columns from assignment 1 using assign\n",
    "\n",
    "transactions = transactions.assign(\n",
    "    year=transactions[\"date\"].dt.year,\n",
    "    month=transactions[\"date\"].dt.month,\n",
    "    day_of_week=transactions[\"date\"].dt.dayofweek,\n",
    "    time_to_last_date=transactions[\"date\"].max() - transactions[\"date\"],\n",
    ")\n",
    "\n",
    "transactions.head()"
   ]
  },
  {
   "cell_type": "code",
   "execution_count": 125,
   "id": "f42a3cc7",
   "metadata": {},
   "outputs": [
    {
     "data": {
      "text/html": [
       "<div>\n",
       "<style scoped>\n",
       "    .dataframe tbody tr th:only-of-type {\n",
       "        vertical-align: middle;\n",
       "    }\n",
       "\n",
       "    .dataframe tbody tr th {\n",
       "        vertical-align: top;\n",
       "    }\n",
       "\n",
       "    .dataframe thead th {\n",
       "        text-align: right;\n",
       "    }\n",
       "</style>\n",
       "<table border=\"1\" class=\"dataframe\">\n",
       "  <thead>\n",
       "    <tr style=\"text-align: right;\">\n",
       "      <th></th>\n",
       "      <th>date</th>\n",
       "      <th>store_nbr</th>\n",
       "      <th>transactions</th>\n",
       "      <th>year</th>\n",
       "      <th>month</th>\n",
       "      <th>day_of_week</th>\n",
       "      <th>time_to_last_date</th>\n",
       "      <th>weeks_to_last_date</th>\n",
       "    </tr>\n",
       "  </thead>\n",
       "  <tbody>\n",
       "    <tr>\n",
       "      <th>0</th>\n",
       "      <td>2013-01-01</td>\n",
       "      <td>25</td>\n",
       "      <td>770</td>\n",
       "      <td>2013</td>\n",
       "      <td>1</td>\n",
       "      <td>1</td>\n",
       "      <td>1708 days</td>\n",
       "      <td>244.000000</td>\n",
       "    </tr>\n",
       "    <tr>\n",
       "      <th>1</th>\n",
       "      <td>2013-01-02</td>\n",
       "      <td>1</td>\n",
       "      <td>2111</td>\n",
       "      <td>2013</td>\n",
       "      <td>1</td>\n",
       "      <td>2</td>\n",
       "      <td>1707 days</td>\n",
       "      <td>243.857143</td>\n",
       "    </tr>\n",
       "    <tr>\n",
       "      <th>2</th>\n",
       "      <td>2013-01-02</td>\n",
       "      <td>2</td>\n",
       "      <td>2358</td>\n",
       "      <td>2013</td>\n",
       "      <td>1</td>\n",
       "      <td>2</td>\n",
       "      <td>1707 days</td>\n",
       "      <td>243.857143</td>\n",
       "    </tr>\n",
       "    <tr>\n",
       "      <th>3</th>\n",
       "      <td>2013-01-02</td>\n",
       "      <td>3</td>\n",
       "      <td>3487</td>\n",
       "      <td>2013</td>\n",
       "      <td>1</td>\n",
       "      <td>2</td>\n",
       "      <td>1707 days</td>\n",
       "      <td>243.857143</td>\n",
       "    </tr>\n",
       "    <tr>\n",
       "      <th>4</th>\n",
       "      <td>2013-01-02</td>\n",
       "      <td>4</td>\n",
       "      <td>1922</td>\n",
       "      <td>2013</td>\n",
       "      <td>1</td>\n",
       "      <td>2</td>\n",
       "      <td>1707 days</td>\n",
       "      <td>243.857143</td>\n",
       "    </tr>\n",
       "    <tr>\n",
       "      <th>...</th>\n",
       "      <td>...</td>\n",
       "      <td>...</td>\n",
       "      <td>...</td>\n",
       "      <td>...</td>\n",
       "      <td>...</td>\n",
       "      <td>...</td>\n",
       "      <td>...</td>\n",
       "      <td>...</td>\n",
       "    </tr>\n",
       "    <tr>\n",
       "      <th>83483</th>\n",
       "      <td>2017-08-15</td>\n",
       "      <td>50</td>\n",
       "      <td>2804</td>\n",
       "      <td>2017</td>\n",
       "      <td>8</td>\n",
       "      <td>1</td>\n",
       "      <td>21 days</td>\n",
       "      <td>3.000000</td>\n",
       "    </tr>\n",
       "    <tr>\n",
       "      <th>83484</th>\n",
       "      <td>2017-08-15</td>\n",
       "      <td>51</td>\n",
       "      <td>1573</td>\n",
       "      <td>2017</td>\n",
       "      <td>8</td>\n",
       "      <td>1</td>\n",
       "      <td>21 days</td>\n",
       "      <td>3.000000</td>\n",
       "    </tr>\n",
       "    <tr>\n",
       "      <th>83485</th>\n",
       "      <td>2017-08-15</td>\n",
       "      <td>52</td>\n",
       "      <td>2255</td>\n",
       "      <td>2017</td>\n",
       "      <td>8</td>\n",
       "      <td>1</td>\n",
       "      <td>21 days</td>\n",
       "      <td>3.000000</td>\n",
       "    </tr>\n",
       "    <tr>\n",
       "      <th>83486</th>\n",
       "      <td>2017-08-15</td>\n",
       "      <td>53</td>\n",
       "      <td>932</td>\n",
       "      <td>2017</td>\n",
       "      <td>8</td>\n",
       "      <td>1</td>\n",
       "      <td>21 days</td>\n",
       "      <td>3.000000</td>\n",
       "    </tr>\n",
       "    <tr>\n",
       "      <th>83487</th>\n",
       "      <td>2017-08-15</td>\n",
       "      <td>54</td>\n",
       "      <td>802</td>\n",
       "      <td>2017</td>\n",
       "      <td>8</td>\n",
       "      <td>1</td>\n",
       "      <td>21 days</td>\n",
       "      <td>3.000000</td>\n",
       "    </tr>\n",
       "  </tbody>\n",
       "</table>\n",
       "<p>83488 rows × 8 columns</p>\n",
       "</div>"
      ],
      "text/plain": [
       "            date  store_nbr  transactions  year  month  day_of_week  \\\n",
       "0     2013-01-01         25           770  2013      1            1   \n",
       "1     2013-01-02          1          2111  2013      1            2   \n",
       "2     2013-01-02          2          2358  2013      1            2   \n",
       "3     2013-01-02          3          3487  2013      1            2   \n",
       "4     2013-01-02          4          1922  2013      1            2   \n",
       "...          ...        ...           ...   ...    ...          ...   \n",
       "83483 2017-08-15         50          2804  2017      8            1   \n",
       "83484 2017-08-15         51          1573  2017      8            1   \n",
       "83485 2017-08-15         52          2255  2017      8            1   \n",
       "83486 2017-08-15         53           932  2017      8            1   \n",
       "83487 2017-08-15         54           802  2017      8            1   \n",
       "\n",
       "      time_to_last_date  weeks_to_last_date  \n",
       "0             1708 days          244.000000  \n",
       "1             1707 days          243.857143  \n",
       "2             1707 days          243.857143  \n",
       "3             1707 days          243.857143  \n",
       "4             1707 days          243.857143  \n",
       "...                 ...                 ...  \n",
       "83483           21 days            3.000000  \n",
       "83484           21 days            3.000000  \n",
       "83485           21 days            3.000000  \n",
       "83486           21 days            3.000000  \n",
       "83487           21 days            3.000000  \n",
       "\n",
       "[83488 rows x 8 columns]"
      ]
     },
     "execution_count": 125,
     "metadata": {},
     "output_type": "execute_result"
    }
   ],
   "source": [
    "transactions.assign(\n",
    "    time_to_last_date = transactions['time_to_last_date'] + pd.to_timedelta(3, unit='W'),\n",
    "    weeks_to_last_date = (lambda x : x['time_to_last_date'].dt.daysb / 7)\n",
    ")"
   ]
  },
  {
   "cell_type": "markdown",
   "id": "3d6707ac-31e4-4cc9-9ae9-229c3008488a",
   "metadata": {
    "tags": []
   },
   "source": [
    "# Time Series Indices\n",
    "\n",
    "- Use datetime as the index to allow for intuitive slicing of your DataFrame\n",
    "- Like with integers, make sure your time index is sorted or you will get add results."
   ]
  },
  {
   "cell_type": "markdown",
   "id": "bbcd85d7-493c-44bd-9fd4-ad49c7a2651f",
   "metadata": {},
   "source": [
    "- dates.loc['2022']\n",
    "- dates.loc['2022':'2023']\n",
    "- dates.loc['2022-01':'2022-02']\n",
    "- dates.loc['2022-02-01':'2022-03-01']"
   ]
  },
  {
   "cell_type": "code",
   "execution_count": 128,
   "id": "6bfa6816-128b-4dfc-a1fb-4180b905248a",
   "metadata": {},
   "outputs": [
    {
     "data": {
      "text/html": [
       "<div>\n",
       "<style scoped>\n",
       "    .dataframe tbody tr th:only-of-type {\n",
       "        vertical-align: middle;\n",
       "    }\n",
       "\n",
       "    .dataframe tbody tr th {\n",
       "        vertical-align: top;\n",
       "    }\n",
       "\n",
       "    .dataframe thead th {\n",
       "        text-align: right;\n",
       "    }\n",
       "</style>\n",
       "<table border=\"1\" class=\"dataframe\">\n",
       "  <thead>\n",
       "    <tr style=\"text-align: right;\">\n",
       "      <th></th>\n",
       "      <th>id</th>\n",
       "      <th>date</th>\n",
       "      <th>store_nbr</th>\n",
       "      <th>family</th>\n",
       "      <th>sales</th>\n",
       "      <th>onpromotion</th>\n",
       "    </tr>\n",
       "  </thead>\n",
       "  <tbody>\n",
       "    <tr>\n",
       "      <th>0</th>\n",
       "      <td>1945944</td>\n",
       "      <td>2016-01-01</td>\n",
       "      <td>1</td>\n",
       "      <td>AUTOMOTIVE</td>\n",
       "      <td>0.0</td>\n",
       "      <td>0</td>\n",
       "    </tr>\n",
       "    <tr>\n",
       "      <th>1</th>\n",
       "      <td>1945945</td>\n",
       "      <td>2016-01-01</td>\n",
       "      <td>1</td>\n",
       "      <td>BABY CARE</td>\n",
       "      <td>0.0</td>\n",
       "      <td>0</td>\n",
       "    </tr>\n",
       "    <tr>\n",
       "      <th>2</th>\n",
       "      <td>1945946</td>\n",
       "      <td>2016-01-01</td>\n",
       "      <td>1</td>\n",
       "      <td>BEAUTY</td>\n",
       "      <td>0.0</td>\n",
       "      <td>0</td>\n",
       "    </tr>\n",
       "    <tr>\n",
       "      <th>3</th>\n",
       "      <td>1945947</td>\n",
       "      <td>2016-01-01</td>\n",
       "      <td>1</td>\n",
       "      <td>BEVERAGES</td>\n",
       "      <td>0.0</td>\n",
       "      <td>0</td>\n",
       "    </tr>\n",
       "    <tr>\n",
       "      <th>4</th>\n",
       "      <td>1945948</td>\n",
       "      <td>2016-01-01</td>\n",
       "      <td>1</td>\n",
       "      <td>BOOKS</td>\n",
       "      <td>0.0</td>\n",
       "      <td>0</td>\n",
       "    </tr>\n",
       "  </tbody>\n",
       "</table>\n",
       "</div>"
      ],
      "text/plain": [
       "        id       date  store_nbr      family  sales  onpromotion\n",
       "0  1945944 2016-01-01          1  AUTOMOTIVE    0.0            0\n",
       "1  1945945 2016-01-01          1   BABY CARE    0.0            0\n",
       "2  1945946 2016-01-01          1      BEAUTY    0.0            0\n",
       "3  1945947 2016-01-01          1   BEVERAGES    0.0            0\n",
       "4  1945948 2016-01-01          1       BOOKS    0.0            0"
      ]
     },
     "execution_count": 128,
     "metadata": {},
     "output_type": "execute_result"
    }
   ],
   "source": [
    "retail = pd.read_csv('../retail/retail_2016_2017.csv', parse_dates=['date'])\n",
    "\n",
    "retail.head()"
   ]
  },
  {
   "cell_type": "code",
   "execution_count": 130,
   "id": "d79641b1-6ef1-487b-81b0-4aa3e9c63e78",
   "metadata": {},
   "outputs": [],
   "source": [
    "# set index equal to date column\n",
    "retail.index = retail['date']"
   ]
  },
  {
   "cell_type": "code",
   "execution_count": 131,
   "id": "b526c26c-e909-497b-92b6-32d55e5f8249",
   "metadata": {},
   "outputs": [
    {
     "data": {
      "text/html": [
       "<div>\n",
       "<style scoped>\n",
       "    .dataframe tbody tr th:only-of-type {\n",
       "        vertical-align: middle;\n",
       "    }\n",
       "\n",
       "    .dataframe tbody tr th {\n",
       "        vertical-align: top;\n",
       "    }\n",
       "\n",
       "    .dataframe thead th {\n",
       "        text-align: right;\n",
       "    }\n",
       "</style>\n",
       "<table border=\"1\" class=\"dataframe\">\n",
       "  <thead>\n",
       "    <tr style=\"text-align: right;\">\n",
       "      <th></th>\n",
       "      <th>id</th>\n",
       "      <th>date</th>\n",
       "      <th>store_nbr</th>\n",
       "      <th>family</th>\n",
       "      <th>sales</th>\n",
       "      <th>onpromotion</th>\n",
       "    </tr>\n",
       "    <tr>\n",
       "      <th>date</th>\n",
       "      <th></th>\n",
       "      <th></th>\n",
       "      <th></th>\n",
       "      <th></th>\n",
       "      <th></th>\n",
       "      <th></th>\n",
       "    </tr>\n",
       "  </thead>\n",
       "  <tbody>\n",
       "    <tr>\n",
       "      <th>2016-01-01</th>\n",
       "      <td>1945944</td>\n",
       "      <td>2016-01-01</td>\n",
       "      <td>1</td>\n",
       "      <td>AUTOMOTIVE</td>\n",
       "      <td>0.0</td>\n",
       "      <td>0</td>\n",
       "    </tr>\n",
       "    <tr>\n",
       "      <th>2016-01-01</th>\n",
       "      <td>1945945</td>\n",
       "      <td>2016-01-01</td>\n",
       "      <td>1</td>\n",
       "      <td>BABY CARE</td>\n",
       "      <td>0.0</td>\n",
       "      <td>0</td>\n",
       "    </tr>\n",
       "    <tr>\n",
       "      <th>2016-01-01</th>\n",
       "      <td>1945946</td>\n",
       "      <td>2016-01-01</td>\n",
       "      <td>1</td>\n",
       "      <td>BEAUTY</td>\n",
       "      <td>0.0</td>\n",
       "      <td>0</td>\n",
       "    </tr>\n",
       "    <tr>\n",
       "      <th>2016-01-01</th>\n",
       "      <td>1945947</td>\n",
       "      <td>2016-01-01</td>\n",
       "      <td>1</td>\n",
       "      <td>BEVERAGES</td>\n",
       "      <td>0.0</td>\n",
       "      <td>0</td>\n",
       "    </tr>\n",
       "    <tr>\n",
       "      <th>2016-01-01</th>\n",
       "      <td>1945948</td>\n",
       "      <td>2016-01-01</td>\n",
       "      <td>1</td>\n",
       "      <td>BOOKS</td>\n",
       "      <td>0.0</td>\n",
       "      <td>0</td>\n",
       "    </tr>\n",
       "  </tbody>\n",
       "</table>\n",
       "</div>"
      ],
      "text/plain": [
       "                 id       date  store_nbr      family  sales  onpromotion\n",
       "date                                                                     \n",
       "2016-01-01  1945944 2016-01-01          1  AUTOMOTIVE    0.0            0\n",
       "2016-01-01  1945945 2016-01-01          1   BABY CARE    0.0            0\n",
       "2016-01-01  1945946 2016-01-01          1      BEAUTY    0.0            0\n",
       "2016-01-01  1945947 2016-01-01          1   BEVERAGES    0.0            0\n",
       "2016-01-01  1945948 2016-01-01          1       BOOKS    0.0            0"
      ]
     },
     "execution_count": 131,
     "metadata": {},
     "output_type": "execute_result"
    }
   ],
   "source": [
    "retail.head()"
   ]
  },
  {
   "cell_type": "code",
   "execution_count": 134,
   "id": "5298ae88-50ee-4c62-b849-a05b32ce05b0",
   "metadata": {},
   "outputs": [
    {
     "data": {
      "text/html": [
       "<div>\n",
       "<style scoped>\n",
       "    .dataframe tbody tr th:only-of-type {\n",
       "        vertical-align: middle;\n",
       "    }\n",
       "\n",
       "    .dataframe tbody tr th {\n",
       "        vertical-align: top;\n",
       "    }\n",
       "\n",
       "    .dataframe thead th {\n",
       "        text-align: right;\n",
       "    }\n",
       "</style>\n",
       "<table border=\"1\" class=\"dataframe\">\n",
       "  <thead>\n",
       "    <tr style=\"text-align: right;\">\n",
       "      <th></th>\n",
       "      <th>id</th>\n",
       "      <th>date</th>\n",
       "      <th>store_nbr</th>\n",
       "      <th>family</th>\n",
       "      <th>sales</th>\n",
       "      <th>onpromotion</th>\n",
       "    </tr>\n",
       "    <tr>\n",
       "      <th>date</th>\n",
       "      <th></th>\n",
       "      <th></th>\n",
       "      <th></th>\n",
       "      <th></th>\n",
       "      <th></th>\n",
       "      <th></th>\n",
       "    </tr>\n",
       "  </thead>\n",
       "  <tbody>\n",
       "    <tr>\n",
       "      <th>2016-01-01</th>\n",
       "      <td>1945944</td>\n",
       "      <td>2016-01-01</td>\n",
       "      <td>1</td>\n",
       "      <td>AUTOMOTIVE</td>\n",
       "      <td>0.000000</td>\n",
       "      <td>0</td>\n",
       "    </tr>\n",
       "    <tr>\n",
       "      <th>2016-01-01</th>\n",
       "      <td>1945945</td>\n",
       "      <td>2016-01-01</td>\n",
       "      <td>1</td>\n",
       "      <td>BABY CARE</td>\n",
       "      <td>0.000000</td>\n",
       "      <td>0</td>\n",
       "    </tr>\n",
       "    <tr>\n",
       "      <th>2016-01-01</th>\n",
       "      <td>1945946</td>\n",
       "      <td>2016-01-01</td>\n",
       "      <td>1</td>\n",
       "      <td>BEAUTY</td>\n",
       "      <td>0.000000</td>\n",
       "      <td>0</td>\n",
       "    </tr>\n",
       "    <tr>\n",
       "      <th>2016-01-01</th>\n",
       "      <td>1945947</td>\n",
       "      <td>2016-01-01</td>\n",
       "      <td>1</td>\n",
       "      <td>BEVERAGES</td>\n",
       "      <td>0.000000</td>\n",
       "      <td>0</td>\n",
       "    </tr>\n",
       "    <tr>\n",
       "      <th>2016-01-01</th>\n",
       "      <td>1945948</td>\n",
       "      <td>2016-01-01</td>\n",
       "      <td>1</td>\n",
       "      <td>BOOKS</td>\n",
       "      <td>0.000000</td>\n",
       "      <td>0</td>\n",
       "    </tr>\n",
       "    <tr>\n",
       "      <th>...</th>\n",
       "      <td>...</td>\n",
       "      <td>...</td>\n",
       "      <td>...</td>\n",
       "      <td>...</td>\n",
       "      <td>...</td>\n",
       "      <td>...</td>\n",
       "    </tr>\n",
       "    <tr>\n",
       "      <th>2017-08-01</th>\n",
       "      <td>2975935</td>\n",
       "      <td>2017-08-01</td>\n",
       "      <td>9</td>\n",
       "      <td>POULTRY</td>\n",
       "      <td>570.196000</td>\n",
       "      <td>0</td>\n",
       "    </tr>\n",
       "    <tr>\n",
       "      <th>2017-08-01</th>\n",
       "      <td>2975936</td>\n",
       "      <td>2017-08-01</td>\n",
       "      <td>9</td>\n",
       "      <td>PREPARED FOODS</td>\n",
       "      <td>50.462997</td>\n",
       "      <td>0</td>\n",
       "    </tr>\n",
       "    <tr>\n",
       "      <th>2017-08-01</th>\n",
       "      <td>2975937</td>\n",
       "      <td>2017-08-01</td>\n",
       "      <td>9</td>\n",
       "      <td>PRODUCE</td>\n",
       "      <td>2470.461000</td>\n",
       "      <td>151</td>\n",
       "    </tr>\n",
       "    <tr>\n",
       "      <th>2017-08-01</th>\n",
       "      <td>2975938</td>\n",
       "      <td>2017-08-01</td>\n",
       "      <td>9</td>\n",
       "      <td>SCHOOL AND OFFICE SUPPLIES</td>\n",
       "      <td>203.000000</td>\n",
       "      <td>9</td>\n",
       "    </tr>\n",
       "    <tr>\n",
       "      <th>2017-08-01</th>\n",
       "      <td>2975939</td>\n",
       "      <td>2017-08-01</td>\n",
       "      <td>9</td>\n",
       "      <td>SEAFOOD</td>\n",
       "      <td>19.316000</td>\n",
       "      <td>0</td>\n",
       "    </tr>\n",
       "  </tbody>\n",
       "</table>\n",
       "<p>1029996 rows × 6 columns</p>\n",
       "</div>"
      ],
      "text/plain": [
       "                 id       date  store_nbr                      family  \\\n",
       "date                                                                    \n",
       "2016-01-01  1945944 2016-01-01          1                  AUTOMOTIVE   \n",
       "2016-01-01  1945945 2016-01-01          1                   BABY CARE   \n",
       "2016-01-01  1945946 2016-01-01          1                      BEAUTY   \n",
       "2016-01-01  1945947 2016-01-01          1                   BEVERAGES   \n",
       "2016-01-01  1945948 2016-01-01          1                       BOOKS   \n",
       "...             ...        ...        ...                         ...   \n",
       "2017-08-01  2975935 2017-08-01          9                     POULTRY   \n",
       "2017-08-01  2975936 2017-08-01          9              PREPARED FOODS   \n",
       "2017-08-01  2975937 2017-08-01          9                     PRODUCE   \n",
       "2017-08-01  2975938 2017-08-01          9  SCHOOL AND OFFICE SUPPLIES   \n",
       "2017-08-01  2975939 2017-08-01          9                     SEAFOOD   \n",
       "\n",
       "                  sales  onpromotion  \n",
       "date                                  \n",
       "2016-01-01     0.000000            0  \n",
       "2016-01-01     0.000000            0  \n",
       "2016-01-01     0.000000            0  \n",
       "2016-01-01     0.000000            0  \n",
       "2016-01-01     0.000000            0  \n",
       "...                 ...          ...  \n",
       "2017-08-01   570.196000            0  \n",
       "2017-08-01    50.462997            0  \n",
       "2017-08-01  2470.461000          151  \n",
       "2017-08-01   203.000000            9  \n",
       "2017-08-01    19.316000            0  \n",
       "\n",
       "[1029996 rows x 6 columns]"
      ]
     },
     "execution_count": 134,
     "metadata": {},
     "output_type": "execute_result"
    }
   ],
   "source": [
    "retail.loc['2016':'2017-08-01']"
   ]
  },
  {
   "cell_type": "markdown",
   "id": "db61d176-b358-404d-9ce1-3278b6be358f",
   "metadata": {},
   "source": [
    "# Missing Time Series Data\n",
    "\n",
    "- time series data allows for methods for fixing missing data beyond .filna()"
   ]
  },
  {
   "cell_type": "markdown",
   "id": "e91fdc07-38e9-421a-bdf6-9fb8286c31a4",
   "metadata": {},
   "source": [
    "- Forward-filling - replaces missing values with value from the previous available date\n",
    "    - dates.ffill()\n",
    "- Back-filling - replaces missing values with value from next available date\n",
    "    - dates.bfill()\n",
    "- Interpolating data replaces missing values with a linear approximation based on the values from the previous and next available dates\n",
    "    - dates = dates.astype('float64')\n",
    "    - dates.interpolate()"
   ]
  },
  {
   "cell_type": "code",
   "execution_count": 143,
   "id": "d932b878-cf4a-44ba-9026-8b6b3c2d88ef",
   "metadata": {},
   "outputs": [
    {
     "data": {
      "text/html": [
       "<div>\n",
       "<style scoped>\n",
       "    .dataframe tbody tr th:only-of-type {\n",
       "        vertical-align: middle;\n",
       "    }\n",
       "\n",
       "    .dataframe tbody tr th {\n",
       "        vertical-align: top;\n",
       "    }\n",
       "\n",
       "    .dataframe thead th {\n",
       "        text-align: right;\n",
       "    }\n",
       "</style>\n",
       "<table border=\"1\" class=\"dataframe\">\n",
       "  <thead>\n",
       "    <tr style=\"text-align: right;\">\n",
       "      <th></th>\n",
       "      <th>id</th>\n",
       "      <th>date</th>\n",
       "      <th>store_nbr</th>\n",
       "      <th>family</th>\n",
       "      <th>sales</th>\n",
       "      <th>onpromotion</th>\n",
       "    </tr>\n",
       "  </thead>\n",
       "  <tbody>\n",
       "    <tr>\n",
       "      <th>0</th>\n",
       "      <td>1945944</td>\n",
       "      <td>2016-01-01</td>\n",
       "      <td>1</td>\n",
       "      <td>AUTOMOTIVE</td>\n",
       "      <td>0.0</td>\n",
       "      <td>0</td>\n",
       "    </tr>\n",
       "    <tr>\n",
       "      <th>1</th>\n",
       "      <td>1945945</td>\n",
       "      <td>2016-01-01</td>\n",
       "      <td>1</td>\n",
       "      <td>BABY CARE</td>\n",
       "      <td>0.0</td>\n",
       "      <td>0</td>\n",
       "    </tr>\n",
       "    <tr>\n",
       "      <th>2</th>\n",
       "      <td>1945946</td>\n",
       "      <td>2016-01-01</td>\n",
       "      <td>1</td>\n",
       "      <td>BEAUTY</td>\n",
       "      <td>0.0</td>\n",
       "      <td>0</td>\n",
       "    </tr>\n",
       "    <tr>\n",
       "      <th>3</th>\n",
       "      <td>1945947</td>\n",
       "      <td>2016-01-01</td>\n",
       "      <td>1</td>\n",
       "      <td>BEVERAGES</td>\n",
       "      <td>0.0</td>\n",
       "      <td>0</td>\n",
       "    </tr>\n",
       "    <tr>\n",
       "      <th>4</th>\n",
       "      <td>1945948</td>\n",
       "      <td>2016-01-01</td>\n",
       "      <td>1</td>\n",
       "      <td>BOOKS</td>\n",
       "      <td>0.0</td>\n",
       "      <td>0</td>\n",
       "    </tr>\n",
       "  </tbody>\n",
       "</table>\n",
       "</div>"
      ],
      "text/plain": [
       "        id       date  store_nbr      family  sales  onpromotion\n",
       "0  1945944 2016-01-01          1  AUTOMOTIVE    0.0            0\n",
       "1  1945945 2016-01-01          1   BABY CARE    0.0            0\n",
       "2  1945946 2016-01-01          1      BEAUTY    0.0            0\n",
       "3  1945947 2016-01-01          1   BEVERAGES    0.0            0\n",
       "4  1945948 2016-01-01          1       BOOKS    0.0            0"
      ]
     },
     "execution_count": 143,
     "metadata": {},
     "output_type": "execute_result"
    }
   ],
   "source": [
    "retail = pd.read_csv('../retail/retail_2016_2017.csv', parse_dates=['date'])\n",
    "\n",
    "retail.head()"
   ]
  },
  {
   "cell_type": "code",
   "execution_count": 147,
   "id": "5c9e872b-e54c-4baa-be97-7313ff24333e",
   "metadata": {},
   "outputs": [
    {
     "data": {
      "text/html": [
       "<div>\n",
       "<style scoped>\n",
       "    .dataframe tbody tr th:only-of-type {\n",
       "        vertical-align: middle;\n",
       "    }\n",
       "\n",
       "    .dataframe tbody tr th {\n",
       "        vertical-align: top;\n",
       "    }\n",
       "\n",
       "    .dataframe thead th {\n",
       "        text-align: right;\n",
       "    }\n",
       "</style>\n",
       "<table border=\"1\" class=\"dataframe\">\n",
       "  <thead>\n",
       "    <tr style=\"text-align: right;\">\n",
       "      <th></th>\n",
       "      <th>sales</th>\n",
       "    </tr>\n",
       "    <tr>\n",
       "      <th>date</th>\n",
       "      <th></th>\n",
       "    </tr>\n",
       "  </thead>\n",
       "  <tbody>\n",
       "    <tr>\n",
       "      <th>2016-01-01</th>\n",
       "      <td>16433.0</td>\n",
       "    </tr>\n",
       "    <tr>\n",
       "      <th>2016-01-02</th>\n",
       "      <td>NaN</td>\n",
       "    </tr>\n",
       "    <tr>\n",
       "      <th>2016-01-03</th>\n",
       "      <td>1226736.0</td>\n",
       "    </tr>\n",
       "    <tr>\n",
       "      <th>2016-01-04</th>\n",
       "      <td>955957.0</td>\n",
       "    </tr>\n",
       "    <tr>\n",
       "      <th>2016-01-05</th>\n",
       "      <td>NaN</td>\n",
       "    </tr>\n",
       "    <tr>\n",
       "      <th>2016-01-06</th>\n",
       "      <td>NaN</td>\n",
       "    </tr>\n",
       "    <tr>\n",
       "      <th>2016-01-07</th>\n",
       "      <td>653504.0</td>\n",
       "    </tr>\n",
       "    <tr>\n",
       "      <th>2016-01-08</th>\n",
       "      <td>713608.0</td>\n",
       "    </tr>\n",
       "    <tr>\n",
       "      <th>2016-01-09</th>\n",
       "      <td>989209.0</td>\n",
       "    </tr>\n",
       "    <tr>\n",
       "      <th>2016-01-10</th>\n",
       "      <td>1094694.0</td>\n",
       "    </tr>\n",
       "  </tbody>\n",
       "</table>\n",
       "</div>"
      ],
      "text/plain": [
       "                sales\n",
       "date                 \n",
       "2016-01-01    16433.0\n",
       "2016-01-02        NaN\n",
       "2016-01-03  1226736.0\n",
       "2016-01-04   955957.0\n",
       "2016-01-05        NaN\n",
       "2016-01-06        NaN\n",
       "2016-01-07   653504.0\n",
       "2016-01-08   713608.0\n",
       "2016-01-09   989209.0\n",
       "2016-01-10  1094694.0"
      ]
     },
     "execution_count": 147,
     "metadata": {},
     "output_type": "execute_result"
    }
   ],
   "source": [
    "retail_agg = retail.groupby(['date']).agg({'sales':'sum'}).round().iloc[:10]\n",
    "\n",
    "retail_agg.iloc[1] = np.NaN\n",
    "retail_agg.iloc[4:6] = np.NaN\n",
    "\n",
    "retail_agg"
   ]
  },
  {
   "cell_type": "code",
   "execution_count": 148,
   "id": "6228808a-e8ef-4c2e-ada1-b26e10d2b17e",
   "metadata": {},
   "outputs": [
    {
     "data": {
      "text/plain": [
       "<AxesSubplot:xlabel='date'>"
      ]
     },
     "execution_count": 148,
     "metadata": {},
     "output_type": "execute_result"
    },
    {
     "data": {
      "image/png": "[encoded data removed]",
      "text/plain": [
       "<Figure size 432x288 with 1 Axes>"
      ]
     },
     "metadata": {
      "needs_background": "light"
     },
     "output_type": "display_data"
    }
   ],
   "source": [
    "retail_agg.plot()"
   ]
  },
  {
   "cell_type": "code",
   "execution_count": 150,
   "id": "572c0c0a-539f-40e8-992a-f4ab925eba77",
   "metadata": {},
   "outputs": [
    {
     "data": {
      "text/plain": [
       "<AxesSubplot:xlabel='date'>"
      ]
     },
     "execution_count": 150,
     "metadata": {},
     "output_type": "execute_result"
    },
    {
     "data": {
      "image/png": "[encoded data removed]",
      "text/plain": [
       "<Figure size 432x288 with 1 Axes>"
      ]
     },
     "metadata": {
      "needs_background": "light"
     },
     "output_type": "display_data"
    }
   ],
   "source": [
    "retail_agg.fillna(retail_agg['sales'].mean()).plot()"
   ]
  },
  {
   "cell_type": "code",
   "execution_count": 151,
   "id": "1088e40e-d700-4f81-8401-a6de9f97ebcf",
   "metadata": {},
   "outputs": [
    {
     "data": {
      "text/plain": [
       "<AxesSubplot:xlabel='date'>"
      ]
     },
     "execution_count": 151,
     "metadata": {},
     "output_type": "execute_result"
    },
    {
     "data": {
      "image/png": "[encoded data removed]",
      "text/plain": [
       "<Figure size 432x288 with 1 Axes>"
      ]
     },
     "metadata": {
      "needs_background": "light"
     },
     "output_type": "display_data"
    }
   ],
   "source": [
    "retail_agg.ffill().plot()"
   ]
  },
  {
   "cell_type": "code",
   "execution_count": 152,
   "id": "f76f3f21-0399-4f2d-8a65-02773d1761cd",
   "metadata": {},
   "outputs": [
    {
     "data": {
      "text/plain": [
       "<AxesSubplot:xlabel='date'>"
      ]
     },
     "execution_count": 152,
     "metadata": {},
     "output_type": "execute_result"
    },
    {
     "data": {
      "image/png": "[encoded data removed]",
      "text/plain": [
       "<Figure size 432x288 with 1 Axes>"
      ]
     },
     "metadata": {
      "needs_background": "light"
     },
     "output_type": "display_data"
    }
   ],
   "source": [
    "retail_agg.bfill().plot()"
   ]
  },
  {
   "cell_type": "code",
   "execution_count": 154,
   "id": "2d9b7436-0334-445a-a79d-7c065e9f5c83",
   "metadata": {},
   "outputs": [
    {
     "data": {
      "text/plain": [
       "<AxesSubplot:xlabel='date'>"
      ]
     },
     "execution_count": 154,
     "metadata": {},
     "output_type": "execute_result"
    },
    {
     "data": {
      "image/png": "[encoded data removed]",
      "text/plain": [
       "<Figure size 432x288 with 1 Axes>"
      ]
     },
     "metadata": {
      "needs_background": "light"
     },
     "output_type": "display_data"
    }
   ],
   "source": [
    "retail_agg.interpolate().round().plot()"
   ]
  },
  {
   "cell_type": "markdown",
   "id": "879f2a87",
   "metadata": {},
   "source": [
    "# Assignment 3: Missing Time Series Data\n",
    "\n",
    "Take a look at the mean value for the oil price using forward fill, backfill, and interpolation. Are they very different?\n",
    "\n",
    "Then, plot the series with forward fill for:\n",
    " * The year 2014.\n",
    " * The month of December 2014.\n",
    " * The days from December 1st to December 15th, 2014.\n"
   ]
  },
  {
   "cell_type": "code",
   "execution_count": 155,
   "id": "4cee7edf",
   "metadata": {},
   "outputs": [],
   "source": [
    "# Read in oil csv with date as index (and converted to datetime64)\n",
    "oil = pd.read_csv(\"../retail/oil.csv\", \n",
    "                  index_col=\"date\", \n",
    "                  parse_dates=True)"
   ]
  },
  {
   "cell_type": "code",
   "execution_count": 159,
   "id": "0f20786e",
   "metadata": {},
   "outputs": [
    {
     "data": {
      "text/plain": [
       "dtype('<M8[ns]')"
      ]
     },
     "execution_count": 159,
     "metadata": {},
     "output_type": "execute_result"
    }
   ],
   "source": [
    "# This is a synonym for datetime64\n",
    "\n",
    "oil.index.dtype"
   ]
  },
  {
   "cell_type": "code",
   "execution_count": 157,
   "id": "520bf69a",
   "metadata": {},
   "outputs": [
    {
     "data": {
      "text/plain": [
       "dcoilwtico    67.714366\n",
       "dtype: float64"
      ]
     },
     "execution_count": 157,
     "metadata": {},
     "output_type": "execute_result"
    }
   ],
   "source": [
    "# mean of original series\n",
    "\n",
    "oil.mean()"
   ]
  },
  {
   "cell_type": "code",
   "execution_count": 158,
   "id": "f00eb0d8",
   "metadata": {},
   "outputs": [
    {
     "data": {
      "text/plain": [
       "<AxesSubplot:xlabel='date'>"
      ]
     },
     "execution_count": 158,
     "metadata": {},
     "output_type": "execute_result"
    },
    {
     "data": {
      "image/png": "[encoded data removed]",
      "text/plain": [
       "<Figure size 432x288 with 1 Axes>"
      ]
     },
     "metadata": {
      "needs_background": "light"
     },
     "output_type": "display_data"
    }
   ],
   "source": [
    "# original plot\n",
    "\n",
    "oil.plot()"
   ]
  },
  {
   "cell_type": "code",
   "execution_count": 163,
   "id": "32e319aa",
   "metadata": {},
   "outputs": [
    {
     "data": {
      "text/plain": [
       "dcoilwtico    67.671249\n",
       "dtype: float64"
      ]
     },
     "execution_count": 163,
     "metadata": {},
     "output_type": "execute_result"
    }
   ],
   "source": [
    "oil.ffill().mean()"
   ]
  },
  {
   "cell_type": "code",
   "execution_count": 164,
   "id": "a4101442",
   "metadata": {},
   "outputs": [
    {
     "data": {
      "text/plain": [
       "dcoilwtico    67.673325\n",
       "dtype: float64"
      ]
     },
     "execution_count": 164,
     "metadata": {},
     "output_type": "execute_result"
    }
   ],
   "source": [
    "oil.bfill().mean()"
   ]
  },
  {
   "cell_type": "code",
   "execution_count": 166,
   "id": "c27f4b1a",
   "metadata": {},
   "outputs": [
    {
     "data": {
      "text/plain": [
       "dcoilwtico    67.661824\n",
       "dtype: float64"
      ]
     },
     "execution_count": 166,
     "metadata": {},
     "output_type": "execute_result"
    }
   ],
   "source": [
    "oil.interpolate().mean()"
   ]
  },
  {
   "cell_type": "code",
   "execution_count": 169,
   "id": "fdc0cf0d-5c1d-4018-84c8-7798349ef7c4",
   "metadata": {},
   "outputs": [
    {
     "data": {
      "text/plain": [
       "<AxesSubplot:xlabel='date'>"
      ]
     },
     "execution_count": 169,
     "metadata": {},
     "output_type": "execute_result"
    },
    {
     "data": {
      "image/png": "[encoded data removed]",
      "text/plain": [
       "<Figure size 432x288 with 1 Axes>"
      ]
     },
     "metadata": {
      "needs_background": "light"
     },
     "output_type": "display_data"
    }
   ],
   "source": [
    "oil.loc['2014'].ffill().plot()"
   ]
  },
  {
   "cell_type": "code",
   "execution_count": 175,
   "id": "1174d9e8-71cf-408b-b9b9-c36239bbcc39",
   "metadata": {},
   "outputs": [
    {
     "data": {
      "text/plain": [
       "<AxesSubplot:xlabel='date'>"
      ]
     },
     "execution_count": 175,
     "metadata": {},
     "output_type": "execute_result"
    },
    {
     "data": {
      "image/png": "[encoded data removed]",
      "text/plain": [
       "<Figure size 432x288 with 1 Axes>"
      ]
     },
     "metadata": {
      "needs_background": "light"
     },
     "output_type": "display_data"
    }
   ],
   "source": [
    "oil.loc['2014-12'].ffill().plot()"
   ]
  },
  {
   "cell_type": "code",
   "execution_count": 176,
   "id": "76053dd4-e173-4cc6-a813-8a6c5f26a14d",
   "metadata": {},
   "outputs": [
    {
     "data": {
      "text/plain": [
       "<AxesSubplot:xlabel='date'>"
      ]
     },
     "execution_count": 176,
     "metadata": {},
     "output_type": "execute_result"
    },
    {
     "data": {
      "image/png": "[encoded data removed]",
      "text/plain": [
       "<Figure size 432x288 with 1 Axes>"
      ]
     },
     "metadata": {
      "needs_background": "light"
     },
     "output_type": "display_data"
    }
   ],
   "source": [
    "oil.loc['2014-12-01':'2014-12-15'].ffill().plot()"
   ]
  },
  {
   "cell_type": "markdown",
   "id": "9a724202-1142-43a6-8538-e481342ec647",
   "metadata": {},
   "source": [
    "# Shifting Series\n",
    "\n",
    "- You can shift a Series by a specified number of rows using the .shift() method\n",
    "- This is helpful when working with time series to compare values against previous periods"
   ]
  },
  {
   "cell_type": "code",
   "execution_count": 189,
   "id": "7b4ebc0c-6182-4efc-a088-05a489ac3104",
   "metadata": {},
   "outputs": [
    {
     "data": {
      "text/html": [
       "<div>\n",
       "<style scoped>\n",
       "    .dataframe tbody tr th:only-of-type {\n",
       "        vertical-align: middle;\n",
       "    }\n",
       "\n",
       "    .dataframe tbody tr th {\n",
       "        vertical-align: top;\n",
       "    }\n",
       "\n",
       "    .dataframe thead th {\n",
       "        text-align: right;\n",
       "    }\n",
       "</style>\n",
       "<table border=\"1\" class=\"dataframe\">\n",
       "  <thead>\n",
       "    <tr style=\"text-align: right;\">\n",
       "      <th></th>\n",
       "      <th>sales</th>\n",
       "      <th>yesterday_sales</th>\n",
       "    </tr>\n",
       "    <tr>\n",
       "      <th>date</th>\n",
       "      <th></th>\n",
       "      <th></th>\n",
       "    </tr>\n",
       "  </thead>\n",
       "  <tbody>\n",
       "    <tr>\n",
       "      <th>2016-01-02</th>\n",
       "      <td>1066677.0</td>\n",
       "      <td>NaN</td>\n",
       "    </tr>\n",
       "    <tr>\n",
       "      <th>2016-01-03</th>\n",
       "      <td>1226736.0</td>\n",
       "      <td>1066677.0</td>\n",
       "    </tr>\n",
       "    <tr>\n",
       "      <th>2016-01-04</th>\n",
       "      <td>955957.0</td>\n",
       "      <td>1226736.0</td>\n",
       "    </tr>\n",
       "    <tr>\n",
       "      <th>2016-01-05</th>\n",
       "      <td>835320.0</td>\n",
       "      <td>955957.0</td>\n",
       "    </tr>\n",
       "    <tr>\n",
       "      <th>2016-01-06</th>\n",
       "      <td>821686.0</td>\n",
       "      <td>835320.0</td>\n",
       "    </tr>\n",
       "    <tr>\n",
       "      <th>2016-01-07</th>\n",
       "      <td>653504.0</td>\n",
       "      <td>821686.0</td>\n",
       "    </tr>\n",
       "    <tr>\n",
       "      <th>2016-01-08</th>\n",
       "      <td>713608.0</td>\n",
       "      <td>653504.0</td>\n",
       "    </tr>\n",
       "    <tr>\n",
       "      <th>2016-01-09</th>\n",
       "      <td>989209.0</td>\n",
       "      <td>713608.0</td>\n",
       "    </tr>\n",
       "    <tr>\n",
       "      <th>2016-01-10</th>\n",
       "      <td>1094694.0</td>\n",
       "      <td>989209.0</td>\n",
       "    </tr>\n",
       "  </tbody>\n",
       "</table>\n",
       "</div>"
      ],
      "text/plain": [
       "                sales  yesterday_sales\n",
       "date                                  \n",
       "2016-01-02  1066677.0              NaN\n",
       "2016-01-03  1226736.0        1066677.0\n",
       "2016-01-04   955957.0        1226736.0\n",
       "2016-01-05   835320.0         955957.0\n",
       "2016-01-06   821686.0         835320.0\n",
       "2016-01-07   653504.0         821686.0\n",
       "2016-01-08   713608.0         653504.0\n",
       "2016-01-09   989209.0         713608.0\n",
       "2016-01-10  1094694.0         989209.0"
      ]
     },
     "execution_count": 189,
     "metadata": {},
     "output_type": "execute_result"
    }
   ],
   "source": [
    "retail_agg = retail.groupby(['date']).agg({'sales':'sum'}).round().iloc[1:10]\n",
    "\n",
    "# compare sales today vs yesterday\n",
    "retail_agg.assign(yesterday_sales = retail_agg['sales'].shift())"
   ]
  },
  {
   "cell_type": "code",
   "execution_count": 193,
   "id": "afeb97dc-9a7b-4c2d-b396-a1f95dd6f59d",
   "metadata": {},
   "outputs": [
    {
     "data": {
      "text/html": [
       "<div>\n",
       "<style scoped>\n",
       "    .dataframe tbody tr th:only-of-type {\n",
       "        vertical-align: middle;\n",
       "    }\n",
       "\n",
       "    .dataframe tbody tr th {\n",
       "        vertical-align: top;\n",
       "    }\n",
       "\n",
       "    .dataframe thead th {\n",
       "        text-align: right;\n",
       "    }\n",
       "</style>\n",
       "<table border=\"1\" class=\"dataframe\">\n",
       "  <thead>\n",
       "    <tr style=\"text-align: right;\">\n",
       "      <th></th>\n",
       "      <th>sales</th>\n",
       "      <th>yesterday_sales</th>\n",
       "    </tr>\n",
       "    <tr>\n",
       "      <th>date</th>\n",
       "      <th></th>\n",
       "      <th></th>\n",
       "    </tr>\n",
       "  </thead>\n",
       "  <tbody>\n",
       "    <tr>\n",
       "      <th>2016-01-02</th>\n",
       "      <td>1066677.0</td>\n",
       "      <td>NaN</td>\n",
       "    </tr>\n",
       "    <tr>\n",
       "      <th>2016-01-03</th>\n",
       "      <td>1226736.0</td>\n",
       "      <td>15.005386</td>\n",
       "    </tr>\n",
       "    <tr>\n",
       "      <th>2016-01-04</th>\n",
       "      <td>955957.0</td>\n",
       "      <td>-22.073127</td>\n",
       "    </tr>\n",
       "    <tr>\n",
       "      <th>2016-01-05</th>\n",
       "      <td>835320.0</td>\n",
       "      <td>-12.619501</td>\n",
       "    </tr>\n",
       "    <tr>\n",
       "      <th>2016-01-06</th>\n",
       "      <td>821686.0</td>\n",
       "      <td>-1.632189</td>\n",
       "    </tr>\n",
       "    <tr>\n",
       "      <th>2016-01-07</th>\n",
       "      <td>653504.0</td>\n",
       "      <td>-20.467916</td>\n",
       "    </tr>\n",
       "    <tr>\n",
       "      <th>2016-01-08</th>\n",
       "      <td>713608.0</td>\n",
       "      <td>9.197189</td>\n",
       "    </tr>\n",
       "    <tr>\n",
       "      <th>2016-01-09</th>\n",
       "      <td>989209.0</td>\n",
       "      <td>38.620783</td>\n",
       "    </tr>\n",
       "    <tr>\n",
       "      <th>2016-01-10</th>\n",
       "      <td>1094694.0</td>\n",
       "      <td>10.663571</td>\n",
       "    </tr>\n",
       "  </tbody>\n",
       "</table>\n",
       "</div>"
      ],
      "text/plain": [
       "                sales  yesterday_sales\n",
       "date                                  \n",
       "2016-01-02  1066677.0              NaN\n",
       "2016-01-03  1226736.0        15.005386\n",
       "2016-01-04   955957.0       -22.073127\n",
       "2016-01-05   835320.0       -12.619501\n",
       "2016-01-06   821686.0        -1.632189\n",
       "2016-01-07   653504.0       -20.467916\n",
       "2016-01-08   713608.0         9.197189\n",
       "2016-01-09   989209.0        38.620783\n",
       "2016-01-10  1094694.0        10.663571"
      ]
     },
     "execution_count": 193,
     "metadata": {},
     "output_type": "execute_result"
    }
   ],
   "source": [
    "# today sales - yesterday sales using shift\n",
    "retail_agg.assign(\n",
    "    yesterday_sales = ((retail_agg['sales'] / retail_agg['sales'].shift())-1) * 100)"
   ]
  },
  {
   "cell_type": "markdown",
   "id": "8a5bd91d-1062-4982-bd20-d0a188eb86ea",
   "metadata": {},
   "source": [
    "# Diff methods\n",
    "\n",
    "- .diff() method calculates the difference between the values in a Series and those same values shifted a specified number of periods\n",
    "- Useful in measuring absolute changes over time\n",
    "- along with .shift(), both methods calcualte the difference between the current row and the previous one.\n",
    "- .diff() calculates the difference from the previous row by default, but you can specify the number of rows as well."
   ]
  },
  {
   "cell_type": "code",
   "execution_count": 200,
   "id": "ab25324e-f55a-4340-953d-3e247d1d06f8",
   "metadata": {},
   "outputs": [
    {
     "data": {
      "text/html": [
       "<div>\n",
       "<style scoped>\n",
       "    .dataframe tbody tr th:only-of-type {\n",
       "        vertical-align: middle;\n",
       "    }\n",
       "\n",
       "    .dataframe tbody tr th {\n",
       "        vertical-align: top;\n",
       "    }\n",
       "\n",
       "    .dataframe thead th {\n",
       "        text-align: right;\n",
       "    }\n",
       "</style>\n",
       "<table border=\"1\" class=\"dataframe\">\n",
       "  <thead>\n",
       "    <tr style=\"text-align: right;\">\n",
       "      <th></th>\n",
       "      <th>sales</th>\n",
       "      <th>diff_change</th>\n",
       "    </tr>\n",
       "    <tr>\n",
       "      <th>date</th>\n",
       "      <th></th>\n",
       "      <th></th>\n",
       "    </tr>\n",
       "  </thead>\n",
       "  <tbody>\n",
       "    <tr>\n",
       "      <th>2016-01-02</th>\n",
       "      <td>1066677.0</td>\n",
       "      <td>NaN</td>\n",
       "    </tr>\n",
       "    <tr>\n",
       "      <th>2016-01-03</th>\n",
       "      <td>1226736.0</td>\n",
       "      <td>0.150054</td>\n",
       "    </tr>\n",
       "    <tr>\n",
       "      <th>2016-01-04</th>\n",
       "      <td>955957.0</td>\n",
       "      <td>-0.220731</td>\n",
       "    </tr>\n",
       "    <tr>\n",
       "      <th>2016-01-05</th>\n",
       "      <td>835320.0</td>\n",
       "      <td>-0.126195</td>\n",
       "    </tr>\n",
       "    <tr>\n",
       "      <th>2016-01-06</th>\n",
       "      <td>821686.0</td>\n",
       "      <td>-0.016322</td>\n",
       "    </tr>\n",
       "    <tr>\n",
       "      <th>2016-01-07</th>\n",
       "      <td>653504.0</td>\n",
       "      <td>-0.204679</td>\n",
       "    </tr>\n",
       "    <tr>\n",
       "      <th>2016-01-08</th>\n",
       "      <td>713608.0</td>\n",
       "      <td>0.091972</td>\n",
       "    </tr>\n",
       "    <tr>\n",
       "      <th>2016-01-09</th>\n",
       "      <td>989209.0</td>\n",
       "      <td>0.386208</td>\n",
       "    </tr>\n",
       "    <tr>\n",
       "      <th>2016-01-10</th>\n",
       "      <td>1094694.0</td>\n",
       "      <td>0.106636</td>\n",
       "    </tr>\n",
       "  </tbody>\n",
       "</table>\n",
       "</div>"
      ],
      "text/plain": [
       "                sales  diff_change\n",
       "date                              \n",
       "2016-01-02  1066677.0          NaN\n",
       "2016-01-03  1226736.0     0.150054\n",
       "2016-01-04   955957.0    -0.220731\n",
       "2016-01-05   835320.0    -0.126195\n",
       "2016-01-06   821686.0    -0.016322\n",
       "2016-01-07   653504.0    -0.204679\n",
       "2016-01-08   713608.0     0.091972\n",
       "2016-01-09   989209.0     0.386208\n",
       "2016-01-10  1094694.0     0.106636"
      ]
     },
     "execution_count": 200,
     "metadata": {},
     "output_type": "execute_result"
    }
   ],
   "source": [
    "retail_agg = retail.groupby(['date']).agg({'sales':'sum'}).round().iloc[1:10]\n",
    "\n",
    "retail_agg.assign(diff_change = retail_agg['sales'].diff() / retail_agg['sales'].shift())"
   ]
  },
  {
   "cell_type": "markdown",
   "id": "8f037991",
   "metadata": {},
   "source": [
    "# Assignment 4: Shift and Diff\n",
    "\n",
    "Hello,\n",
    "I’m looking into a few different year over year trends related to changes made at store 47.\n",
    "\n",
    "Can you plot the sum of monthly of transactions in year 2015 vs the sum of monthly transactions in the year prior for store 47?\n",
    "\n",
    "Make sure to group your DataFrame by year AND month!\n",
    "\n",
    "Thanks"
   ]
  },
  {
   "cell_type": "code",
   "execution_count": 244,
   "id": "d6836311",
   "metadata": {},
   "outputs": [],
   "source": [
    "transactions = pd.read_csv('../retail/transactions.csv', parse_dates= ['date'])\n",
    "\n",
    "transactions_47 = transactions.loc[transactions['store_nbr'] == 47, ['date', 'transactions']]\n",
    "\n",
    "transactions_47 = transactions_47.assign(\n",
    "    year = transactions['date'].dt.year,\n",
    "    month = transactions['date'].dt.month).groupby(['year','month']).sum()"
   ]
  },
  {
   "cell_type": "code",
   "execution_count": 251,
   "id": "becb30a3-0b9e-4a0d-aa98-d52ff4e0078a",
   "metadata": {},
   "outputs": [
    {
     "data": {
      "text/plain": [
       "<AxesSubplot:xlabel='month'>"
      ]
     },
     "execution_count": 251,
     "metadata": {},
     "output_type": "execute_result"
    },
    {
     "data": {
      "image/png": "[encoded data removed]",
      "text/plain": [
       "<Figure size 432x288 with 1 Axes>"
      ]
     },
     "metadata": {
      "needs_background": "light"
     },
     "output_type": "display_data"
    }
   ],
   "source": [
    "transactions_47 = transactions_47.assign(\n",
    "    previous_year = transactions_47['transactions'].shift(12))\n",
    "\n",
    "transactions_47.loc[2015].plot()"
   ]
  },
  {
   "cell_type": "markdown",
   "id": "b3150a35-8bfa-4bc2-80c2-f6660f054c9d",
   "metadata": {
    "tags": []
   },
   "source": [
    "# Aggregating Time Series\n",
    "\n",
    "- you can aggregate time series using the .groupby() method, but depending on use cae there are better methods\n",
    "\n",
    "- sales.groupby(sales['date'].dt.month).agg({'sales':'sum'})\n",
    "- sales.groupby(sales['year'].dt.month).agg({'sales':'sum'})"
   ]
  },
  {
   "cell_type": "markdown",
   "id": "d7924353-51c8-408a-9a12-f3fe19b78456",
   "metadata": {
    "tags": []
   },
   "source": [
    "# Resampling Time Series\n",
    "\n",
    "- Resampling is a special form of time series aggregation that modifies date indices and fills any gaps to create continuous date values\n",
    "- dates.resample('M').sum() -> this modified the index and created consecutive month values from Jan 2022 to Jan 2023, even though only 4 months have data, and summed the values for each month using .sum()\n",
    "- dates.resample('M').transform('sum')"
   ]
  },
  {
   "cell_type": "code",
   "execution_count": 252,
   "id": "df10bbb5-fd1a-4e99-96e0-2e83250286d7",
   "metadata": {},
   "outputs": [
    {
     "data": {
      "text/html": [
       "<div>\n",
       "<style scoped>\n",
       "    .dataframe tbody tr th:only-of-type {\n",
       "        vertical-align: middle;\n",
       "    }\n",
       "\n",
       "    .dataframe tbody tr th {\n",
       "        vertical-align: top;\n",
       "    }\n",
       "\n",
       "    .dataframe thead th {\n",
       "        text-align: right;\n",
       "    }\n",
       "</style>\n",
       "<table border=\"1\" class=\"dataframe\">\n",
       "  <thead>\n",
       "    <tr style=\"text-align: right;\">\n",
       "      <th></th>\n",
       "      <th>id</th>\n",
       "      <th>date</th>\n",
       "      <th>store_nbr</th>\n",
       "      <th>family</th>\n",
       "      <th>sales</th>\n",
       "      <th>onpromotion</th>\n",
       "    </tr>\n",
       "  </thead>\n",
       "  <tbody>\n",
       "    <tr>\n",
       "      <th>0</th>\n",
       "      <td>1945944</td>\n",
       "      <td>2016-01-01</td>\n",
       "      <td>1</td>\n",
       "      <td>AUTOMOTIVE</td>\n",
       "      <td>0.0</td>\n",
       "      <td>0</td>\n",
       "    </tr>\n",
       "    <tr>\n",
       "      <th>1</th>\n",
       "      <td>1945945</td>\n",
       "      <td>2016-01-01</td>\n",
       "      <td>1</td>\n",
       "      <td>BABY CARE</td>\n",
       "      <td>0.0</td>\n",
       "      <td>0</td>\n",
       "    </tr>\n",
       "    <tr>\n",
       "      <th>2</th>\n",
       "      <td>1945946</td>\n",
       "      <td>2016-01-01</td>\n",
       "      <td>1</td>\n",
       "      <td>BEAUTY</td>\n",
       "      <td>0.0</td>\n",
       "      <td>0</td>\n",
       "    </tr>\n",
       "    <tr>\n",
       "      <th>3</th>\n",
       "      <td>1945947</td>\n",
       "      <td>2016-01-01</td>\n",
       "      <td>1</td>\n",
       "      <td>BEVERAGES</td>\n",
       "      <td>0.0</td>\n",
       "      <td>0</td>\n",
       "    </tr>\n",
       "    <tr>\n",
       "      <th>4</th>\n",
       "      <td>1945948</td>\n",
       "      <td>2016-01-01</td>\n",
       "      <td>1</td>\n",
       "      <td>BOOKS</td>\n",
       "      <td>0.0</td>\n",
       "      <td>0</td>\n",
       "    </tr>\n",
       "  </tbody>\n",
       "</table>\n",
       "</div>"
      ],
      "text/plain": [
       "        id       date  store_nbr      family  sales  onpromotion\n",
       "0  1945944 2016-01-01          1  AUTOMOTIVE    0.0            0\n",
       "1  1945945 2016-01-01          1   BABY CARE    0.0            0\n",
       "2  1945946 2016-01-01          1      BEAUTY    0.0            0\n",
       "3  1945947 2016-01-01          1   BEVERAGES    0.0            0\n",
       "4  1945948 2016-01-01          1       BOOKS    0.0            0"
      ]
     },
     "execution_count": 252,
     "metadata": {},
     "output_type": "execute_result"
    }
   ],
   "source": [
    "retail = pd.read_csv('../retail/retail_2016_2017.csv', parse_dates=['date'])\n",
    "\n",
    "retail.head()"
   ]
  },
  {
   "cell_type": "code",
   "execution_count": 253,
   "id": "7d550c74-87de-478d-b77a-b2bc940de79c",
   "metadata": {},
   "outputs": [
    {
     "data": {
      "text/html": [
       "<div>\n",
       "<style scoped>\n",
       "    .dataframe tbody tr th:only-of-type {\n",
       "        vertical-align: middle;\n",
       "    }\n",
       "\n",
       "    .dataframe tbody tr th {\n",
       "        vertical-align: top;\n",
       "    }\n",
       "\n",
       "    .dataframe thead th {\n",
       "        text-align: right;\n",
       "    }\n",
       "</style>\n",
       "<table border=\"1\" class=\"dataframe\">\n",
       "  <thead>\n",
       "    <tr style=\"text-align: right;\">\n",
       "      <th></th>\n",
       "      <th></th>\n",
       "      <th>id</th>\n",
       "      <th>store_nbr</th>\n",
       "      <th>sales</th>\n",
       "      <th>onpromotion</th>\n",
       "    </tr>\n",
       "    <tr>\n",
       "      <th>date</th>\n",
       "      <th>date</th>\n",
       "      <th></th>\n",
       "      <th></th>\n",
       "      <th></th>\n",
       "      <th></th>\n",
       "    </tr>\n",
       "  </thead>\n",
       "  <tbody>\n",
       "    <tr>\n",
       "      <th rowspan=\"12\" valign=\"top\">2016</th>\n",
       "      <th>1</th>\n",
       "      <td>109023650109</td>\n",
       "      <td>1519155</td>\n",
       "      <td>23977804.89</td>\n",
       "      <td>119578</td>\n",
       "    </tr>\n",
       "    <tr>\n",
       "      <th>2</th>\n",
       "      <td>104752572111</td>\n",
       "      <td>1421145</td>\n",
       "      <td>21947408.80</td>\n",
       "      <td>183541</td>\n",
       "    </tr>\n",
       "    <tr>\n",
       "      <th>3</th>\n",
       "      <td>114930124749</td>\n",
       "      <td>1519155</td>\n",
       "      <td>23131780.88</td>\n",
       "      <td>181790</td>\n",
       "    </tr>\n",
       "    <tr>\n",
       "      <th>4</th>\n",
       "      <td>114128305830</td>\n",
       "      <td>1470150</td>\n",
       "      <td>25963025.10</td>\n",
       "      <td>215312</td>\n",
       "    </tr>\n",
       "    <tr>\n",
       "      <th>5</th>\n",
       "      <td>120935040633</td>\n",
       "      <td>1519155</td>\n",
       "      <td>24779432.26</td>\n",
       "      <td>370019</td>\n",
       "    </tr>\n",
       "    <tr>\n",
       "      <th>6</th>\n",
       "      <td>119939514750</td>\n",
       "      <td>1470150</td>\n",
       "      <td>22209218.58</td>\n",
       "      <td>285416</td>\n",
       "    </tr>\n",
       "    <tr>\n",
       "      <th>7</th>\n",
       "      <td>126939956517</td>\n",
       "      <td>1519155</td>\n",
       "      <td>23462672.43</td>\n",
       "      <td>264605</td>\n",
       "    </tr>\n",
       "    <tr>\n",
       "      <th>8</th>\n",
       "      <td>129991635081</td>\n",
       "      <td>1519155</td>\n",
       "      <td>22452414.32</td>\n",
       "      <td>271592</td>\n",
       "    </tr>\n",
       "    <tr>\n",
       "      <th>9</th>\n",
       "      <td>128703960990</td>\n",
       "      <td>1470150</td>\n",
       "      <td>22417448.10</td>\n",
       "      <td>296361</td>\n",
       "    </tr>\n",
       "    <tr>\n",
       "      <th>10</th>\n",
       "      <td>135996550965</td>\n",
       "      <td>1519155</td>\n",
       "      <td>24030389.82</td>\n",
       "      <td>370514</td>\n",
       "    </tr>\n",
       "    <tr>\n",
       "      <th>11</th>\n",
       "      <td>134515169910</td>\n",
       "      <td>1470150</td>\n",
       "      <td>24642640.20</td>\n",
       "      <td>438358</td>\n",
       "    </tr>\n",
       "    <tr>\n",
       "      <th>12</th>\n",
       "      <td>137373141510</td>\n",
       "      <td>1470150</td>\n",
       "      <td>29640287.58</td>\n",
       "      <td>517498</td>\n",
       "    </tr>\n",
       "    <tr>\n",
       "      <th rowspan=\"8\" valign=\"top\">2017</th>\n",
       "      <th>1</th>\n",
       "      <td>144954704169</td>\n",
       "      <td>1519155</td>\n",
       "      <td>26328159.94</td>\n",
       "      <td>363428</td>\n",
       "    </tr>\n",
       "    <tr>\n",
       "      <th>2</th>\n",
       "      <td>133549812396</td>\n",
       "      <td>1372140</td>\n",
       "      <td>23250112.37</td>\n",
       "      <td>297254</td>\n",
       "    </tr>\n",
       "    <tr>\n",
       "      <th>3</th>\n",
       "      <td>150762737565</td>\n",
       "      <td>1519155</td>\n",
       "      <td>26704017.69</td>\n",
       "      <td>339291</td>\n",
       "    </tr>\n",
       "    <tr>\n",
       "      <th>4</th>\n",
       "      <td>148805027910</td>\n",
       "      <td>1470150</td>\n",
       "      <td>25895308.49</td>\n",
       "      <td>371042</td>\n",
       "    </tr>\n",
       "    <tr>\n",
       "      <th>5</th>\n",
       "      <td>156767653449</td>\n",
       "      <td>1519155</td>\n",
       "      <td>26911847.25</td>\n",
       "      <td>414646</td>\n",
       "    </tr>\n",
       "    <tr>\n",
       "      <th>6</th>\n",
       "      <td>154616236830</td>\n",
       "      <td>1470150</td>\n",
       "      <td>25682822.12</td>\n",
       "      <td>394582</td>\n",
       "    </tr>\n",
       "    <tr>\n",
       "      <th>7</th>\n",
       "      <td>162772569333</td>\n",
       "      <td>1519155</td>\n",
       "      <td>27011477.57</td>\n",
       "      <td>409128</td>\n",
       "    </tr>\n",
       "    <tr>\n",
       "      <th>8</th>\n",
       "      <td>79856476425</td>\n",
       "      <td>735075</td>\n",
       "      <td>12433322.94</td>\n",
       "      <td>160278</td>\n",
       "    </tr>\n",
       "  </tbody>\n",
       "</table>\n",
       "</div>"
      ],
      "text/plain": [
       "                     id  store_nbr        sales  onpromotion\n",
       "date date                                                   \n",
       "2016 1     109023650109    1519155  23977804.89       119578\n",
       "     2     104752572111    1421145  21947408.80       183541\n",
       "     3     114930124749    1519155  23131780.88       181790\n",
       "     4     114128305830    1470150  25963025.10       215312\n",
       "     5     120935040633    1519155  24779432.26       370019\n",
       "     6     119939514750    1470150  22209218.58       285416\n",
       "     7     126939956517    1519155  23462672.43       264605\n",
       "     8     129991635081    1519155  22452414.32       271592\n",
       "     9     128703960990    1470150  22417448.10       296361\n",
       "     10    135996550965    1519155  24030389.82       370514\n",
       "     11    134515169910    1470150  24642640.20       438358\n",
       "     12    137373141510    1470150  29640287.58       517498\n",
       "2017 1     144954704169    1519155  26328159.94       363428\n",
       "     2     133549812396    1372140  23250112.37       297254\n",
       "     3     150762737565    1519155  26704017.69       339291\n",
       "     4     148805027910    1470150  25895308.49       371042\n",
       "     5     156767653449    1519155  26911847.25       414646\n",
       "     6     154616236830    1470150  25682822.12       394582\n",
       "     7     162772569333    1519155  27011477.57       409128\n",
       "     8      79856476425     735075  12433322.94       160278"
      ]
     },
     "execution_count": 253,
     "metadata": {},
     "output_type": "execute_result"
    }
   ],
   "source": [
    "retail.groupby([retail['date'].dt.year, retail['date'].dt.month]).agg('sum').round(2)"
   ]
  },
  {
   "cell_type": "code",
   "execution_count": 258,
   "id": "ade5645b-4e97-4c87-b9ba-bad35693259c",
   "metadata": {},
   "outputs": [
    {
     "data": {
      "text/html": [
       "<div>\n",
       "<style scoped>\n",
       "    .dataframe tbody tr th:only-of-type {\n",
       "        vertical-align: middle;\n",
       "    }\n",
       "\n",
       "    .dataframe tbody tr th {\n",
       "        vertical-align: top;\n",
       "    }\n",
       "\n",
       "    .dataframe thead th {\n",
       "        text-align: right;\n",
       "    }\n",
       "</style>\n",
       "<table border=\"1\" class=\"dataframe\">\n",
       "  <thead>\n",
       "    <tr style=\"text-align: right;\">\n",
       "      <th></th>\n",
       "      <th>id</th>\n",
       "      <th>store_nbr</th>\n",
       "      <th>sales</th>\n",
       "      <th>onpromotion</th>\n",
       "    </tr>\n",
       "    <tr>\n",
       "      <th>date</th>\n",
       "      <th></th>\n",
       "      <th></th>\n",
       "      <th></th>\n",
       "      <th></th>\n",
       "    </tr>\n",
       "  </thead>\n",
       "  <tbody>\n",
       "    <tr>\n",
       "      <th>2016-01-31</th>\n",
       "      <td>109023650109</td>\n",
       "      <td>1519155</td>\n",
       "      <td>23977804.89</td>\n",
       "      <td>119578</td>\n",
       "    </tr>\n",
       "    <tr>\n",
       "      <th>2016-02-29</th>\n",
       "      <td>104752572111</td>\n",
       "      <td>1421145</td>\n",
       "      <td>21947408.80</td>\n",
       "      <td>183541</td>\n",
       "    </tr>\n",
       "    <tr>\n",
       "      <th>2016-03-31</th>\n",
       "      <td>114930124749</td>\n",
       "      <td>1519155</td>\n",
       "      <td>23131780.88</td>\n",
       "      <td>181790</td>\n",
       "    </tr>\n",
       "    <tr>\n",
       "      <th>2016-04-30</th>\n",
       "      <td>114128305830</td>\n",
       "      <td>1470150</td>\n",
       "      <td>25963025.10</td>\n",
       "      <td>215312</td>\n",
       "    </tr>\n",
       "    <tr>\n",
       "      <th>2016-05-31</th>\n",
       "      <td>120935040633</td>\n",
       "      <td>1519155</td>\n",
       "      <td>24779432.26</td>\n",
       "      <td>370019</td>\n",
       "    </tr>\n",
       "    <tr>\n",
       "      <th>2016-06-30</th>\n",
       "      <td>119939514750</td>\n",
       "      <td>1470150</td>\n",
       "      <td>22209218.58</td>\n",
       "      <td>285416</td>\n",
       "    </tr>\n",
       "    <tr>\n",
       "      <th>2016-07-31</th>\n",
       "      <td>126939956517</td>\n",
       "      <td>1519155</td>\n",
       "      <td>23462672.43</td>\n",
       "      <td>264605</td>\n",
       "    </tr>\n",
       "    <tr>\n",
       "      <th>2016-08-31</th>\n",
       "      <td>129991635081</td>\n",
       "      <td>1519155</td>\n",
       "      <td>22452414.32</td>\n",
       "      <td>271592</td>\n",
       "    </tr>\n",
       "    <tr>\n",
       "      <th>2016-09-30</th>\n",
       "      <td>128703960990</td>\n",
       "      <td>1470150</td>\n",
       "      <td>22417448.10</td>\n",
       "      <td>296361</td>\n",
       "    </tr>\n",
       "    <tr>\n",
       "      <th>2016-10-31</th>\n",
       "      <td>135996550965</td>\n",
       "      <td>1519155</td>\n",
       "      <td>24030389.82</td>\n",
       "      <td>370514</td>\n",
       "    </tr>\n",
       "    <tr>\n",
       "      <th>2016-11-30</th>\n",
       "      <td>134515169910</td>\n",
       "      <td>1470150</td>\n",
       "      <td>24642640.20</td>\n",
       "      <td>438358</td>\n",
       "    </tr>\n",
       "    <tr>\n",
       "      <th>2016-12-31</th>\n",
       "      <td>137373141510</td>\n",
       "      <td>1470150</td>\n",
       "      <td>29640287.58</td>\n",
       "      <td>517498</td>\n",
       "    </tr>\n",
       "    <tr>\n",
       "      <th>2017-01-31</th>\n",
       "      <td>144954704169</td>\n",
       "      <td>1519155</td>\n",
       "      <td>26328159.94</td>\n",
       "      <td>363428</td>\n",
       "    </tr>\n",
       "    <tr>\n",
       "      <th>2017-02-28</th>\n",
       "      <td>133549812396</td>\n",
       "      <td>1372140</td>\n",
       "      <td>23250112.37</td>\n",
       "      <td>297254</td>\n",
       "    </tr>\n",
       "    <tr>\n",
       "      <th>2017-03-31</th>\n",
       "      <td>150762737565</td>\n",
       "      <td>1519155</td>\n",
       "      <td>26704017.69</td>\n",
       "      <td>339291</td>\n",
       "    </tr>\n",
       "    <tr>\n",
       "      <th>2017-04-30</th>\n",
       "      <td>148805027910</td>\n",
       "      <td>1470150</td>\n",
       "      <td>25895308.49</td>\n",
       "      <td>371042</td>\n",
       "    </tr>\n",
       "    <tr>\n",
       "      <th>2017-05-31</th>\n",
       "      <td>156767653449</td>\n",
       "      <td>1519155</td>\n",
       "      <td>26911847.25</td>\n",
       "      <td>414646</td>\n",
       "    </tr>\n",
       "    <tr>\n",
       "      <th>2017-06-30</th>\n",
       "      <td>154616236830</td>\n",
       "      <td>1470150</td>\n",
       "      <td>25682822.12</td>\n",
       "      <td>394582</td>\n",
       "    </tr>\n",
       "    <tr>\n",
       "      <th>2017-07-31</th>\n",
       "      <td>162772569333</td>\n",
       "      <td>1519155</td>\n",
       "      <td>27011477.57</td>\n",
       "      <td>409128</td>\n",
       "    </tr>\n",
       "    <tr>\n",
       "      <th>2017-08-31</th>\n",
       "      <td>79856476425</td>\n",
       "      <td>735075</td>\n",
       "      <td>12433322.94</td>\n",
       "      <td>160278</td>\n",
       "    </tr>\n",
       "  </tbody>\n",
       "</table>\n",
       "</div>"
      ],
      "text/plain": [
       "                      id  store_nbr        sales  onpromotion\n",
       "date                                                         \n",
       "2016-01-31  109023650109    1519155  23977804.89       119578\n",
       "2016-02-29  104752572111    1421145  21947408.80       183541\n",
       "2016-03-31  114930124749    1519155  23131780.88       181790\n",
       "2016-04-30  114128305830    1470150  25963025.10       215312\n",
       "2016-05-31  120935040633    1519155  24779432.26       370019\n",
       "2016-06-30  119939514750    1470150  22209218.58       285416\n",
       "2016-07-31  126939956517    1519155  23462672.43       264605\n",
       "2016-08-31  129991635081    1519155  22452414.32       271592\n",
       "2016-09-30  128703960990    1470150  22417448.10       296361\n",
       "2016-10-31  135996550965    1519155  24030389.82       370514\n",
       "2016-11-30  134515169910    1470150  24642640.20       438358\n",
       "2016-12-31  137373141510    1470150  29640287.58       517498\n",
       "2017-01-31  144954704169    1519155  26328159.94       363428\n",
       "2017-02-28  133549812396    1372140  23250112.37       297254\n",
       "2017-03-31  150762737565    1519155  26704017.69       339291\n",
       "2017-04-30  148805027910    1470150  25895308.49       371042\n",
       "2017-05-31  156767653449    1519155  26911847.25       414646\n",
       "2017-06-30  154616236830    1470150  25682822.12       394582\n",
       "2017-07-31  162772569333    1519155  27011477.57       409128\n",
       "2017-08-31   79856476425     735075  12433322.94       160278"
      ]
     },
     "execution_count": 258,
     "metadata": {},
     "output_type": "execute_result"
    }
   ],
   "source": [
    "retail.set_index('date').resample('M').sum().round(2)"
   ]
  },
  {
   "cell_type": "markdown",
   "id": "05ccd835",
   "metadata": {},
   "source": [
    "# Assignment 5: Resampling Time Series\n",
    "\n",
    "Plot the monthly and yearly average oil prices."
   ]
  },
  {
   "cell_type": "code",
   "execution_count": 259,
   "id": "14ff1b65",
   "metadata": {},
   "outputs": [
    {
     "data": {
      "text/html": [
       "<div>\n",
       "<style scoped>\n",
       "    .dataframe tbody tr th:only-of-type {\n",
       "        vertical-align: middle;\n",
       "    }\n",
       "\n",
       "    .dataframe tbody tr th {\n",
       "        vertical-align: top;\n",
       "    }\n",
       "\n",
       "    .dataframe thead th {\n",
       "        text-align: right;\n",
       "    }\n",
       "</style>\n",
       "<table border=\"1\" class=\"dataframe\">\n",
       "  <thead>\n",
       "    <tr style=\"text-align: right;\">\n",
       "      <th></th>\n",
       "      <th>dcoilwtico</th>\n",
       "    </tr>\n",
       "    <tr>\n",
       "      <th>date</th>\n",
       "      <th></th>\n",
       "    </tr>\n",
       "  </thead>\n",
       "  <tbody>\n",
       "    <tr>\n",
       "      <th>2013-01-01</th>\n",
       "      <td>NaN</td>\n",
       "    </tr>\n",
       "    <tr>\n",
       "      <th>2013-01-02</th>\n",
       "      <td>93.14</td>\n",
       "    </tr>\n",
       "    <tr>\n",
       "      <th>2013-01-03</th>\n",
       "      <td>92.97</td>\n",
       "    </tr>\n",
       "    <tr>\n",
       "      <th>2013-01-04</th>\n",
       "      <td>93.12</td>\n",
       "    </tr>\n",
       "    <tr>\n",
       "      <th>2013-01-07</th>\n",
       "      <td>93.20</td>\n",
       "    </tr>\n",
       "  </tbody>\n",
       "</table>\n",
       "</div>"
      ],
      "text/plain": [
       "            dcoilwtico\n",
       "date                  \n",
       "2013-01-01         NaN\n",
       "2013-01-02       93.14\n",
       "2013-01-03       92.97\n",
       "2013-01-04       93.12\n",
       "2013-01-07       93.20"
      ]
     },
     "execution_count": 259,
     "metadata": {},
     "output_type": "execute_result"
    }
   ],
   "source": [
    "oil.head()"
   ]
  },
  {
   "cell_type": "code",
   "execution_count": 265,
   "id": "7f2755ee",
   "metadata": {},
   "outputs": [
    {
     "data": {
      "text/plain": [
       "<AxesSubplot:xlabel='date'>"
      ]
     },
     "execution_count": 265,
     "metadata": {},
     "output_type": "execute_result"
    },
    {
     "data": {
      "image/png": "[encoded data removed]",
      "text/plain": [
       "<Figure size 432x288 with 1 Axes>"
      ]
     },
     "metadata": {
      "needs_background": "light"
     },
     "output_type": "display_data"
    }
   ],
   "source": [
    "oil.resample('Y').mean().plot()"
   ]
  },
  {
   "cell_type": "code",
   "execution_count": 264,
   "id": "f9c8cae0",
   "metadata": {},
   "outputs": [
    {
     "data": {
      "text/plain": [
       "<AxesSubplot:xlabel='date'>"
      ]
     },
     "execution_count": 264,
     "metadata": {},
     "output_type": "execute_result"
    },
    {
     "data": {
      "image/png": "[encoded data removed]",
      "text/plain": [
       "<Figure size 432x288 with 1 Axes>"
      ]
     },
     "metadata": {
      "needs_background": "light"
     },
     "output_type": "display_data"
    }
   ],
   "source": [
    "oil.resample('M').mean().plot()"
   ]
  },
  {
   "cell_type": "code",
   "execution_count": 268,
   "id": "5250c452-3739-4c34-93da-98f5aaf4886f",
   "metadata": {},
   "outputs": [
    {
     "data": {
      "image/png": "[encoded data removed]",
      "text/plain": [
       "<Figure size 432x288 with 1 Axes>"
      ]
     },
     "metadata": {
      "needs_background": "light"
     },
     "output_type": "display_data"
    },
    {
     "data": {
      "image/png": "[encoded data removed]",
      "text/plain": [
       "<Figure size 432x288 with 1 Axes>"
      ]
     },
     "metadata": {
      "needs_background": "light"
     },
     "output_type": "display_data"
    },
    {
     "data": {
      "image/png": "[encoded data removed]",
      "text/plain": [
       "<Figure size 432x288 with 1 Axes>"
      ]
     },
     "metadata": {
      "needs_background": "light"
     },
     "output_type": "display_data"
    },
    {
     "data": {
      "image/png": "[encoded data removed]",
      "text/plain": [
       "<Figure size 432x288 with 1 Axes>"
      ]
     },
     "metadata": {
      "needs_background": "light"
     },
     "output_type": "display_data"
    }
   ],
   "source": [
    "for period in ['D', 'W', 'M', 'A']:\n",
    "    oil.resample(period).mean().plot()"
   ]
  },
  {
   "cell_type": "markdown",
   "id": "38494607-1450-4da8-9c9e-594803dc6796",
   "metadata": {},
   "source": [
    "# Rolling Aggregation\n",
    "\n",
    "- Rolling aggregations let you perform calculations on shifting periods of time\n",
    "- This can be used to calculate things like moving averages, which are helpful in reducing noise when plotting trends\n",
    "- dates.rolling(2).mean()\n",
    "- smooth out volatility"
   ]
  },
  {
   "cell_type": "code",
   "execution_count": 270,
   "id": "80354f2c-ff49-439f-99e9-2add18a850be",
   "metadata": {},
   "outputs": [
    {
     "data": {
      "text/plain": [
       "date\n",
       "2016-01-01      16433.39\n",
       "2016-01-02    1066677.42\n",
       "2016-01-03    1226735.72\n",
       "2016-01-04     955956.88\n",
       "2016-01-05     835320.44\n",
       "                 ...    \n",
       "2017-08-11     826373.72\n",
       "2017-08-12     792630.54\n",
       "2017-08-13     865639.68\n",
       "2017-08-14     760922.41\n",
       "2017-08-15     762661.94\n",
       "Freq: D, Name: sales, Length: 593, dtype: float64"
      ]
     },
     "execution_count": 270,
     "metadata": {},
     "output_type": "execute_result"
    }
   ],
   "source": [
    "retail_daily = retail.set_index('date').loc[:, 'sales'].resample('D').sum().round(2)\n",
    "\n",
    "retail_daily"
   ]
  },
  {
   "cell_type": "code",
   "execution_count": 272,
   "id": "b474cb03-48eb-4de3-b34e-c86e2010976f",
   "metadata": {},
   "outputs": [
    {
     "data": {
      "text/plain": [
       "date\n",
       "2016-01-01            NaN\n",
       "2016-01-02     541555.405\n",
       "2016-01-03    1146706.570\n",
       "2016-01-04    1091346.300\n",
       "2016-01-05     895638.660\n",
       "                 ...     \n",
       "2017-08-11     738880.315\n",
       "2017-08-12     809502.130\n",
       "2017-08-13     829135.110\n",
       "2017-08-14     813281.045\n",
       "2017-08-15     761792.175\n",
       "Freq: D, Name: sales, Length: 593, dtype: float64"
      ]
     },
     "execution_count": 272,
     "metadata": {},
     "output_type": "execute_result"
    }
   ],
   "source": [
    "# average between two days\n",
    "retail_daily.rolling(2).mean()\n"
   ]
  },
  {
   "cell_type": "code",
   "execution_count": 278,
   "id": "a42e377d-c403-4c96-b514-7d9e0717b8fd",
   "metadata": {},
   "outputs": [
    {
     "data": {
      "text/plain": [
       "<AxesSubplot:xlabel='date'>"
      ]
     },
     "execution_count": 278,
     "metadata": {},
     "output_type": "execute_result"
    },
    {
     "data": {
      "image/png": "[encoded data removed]",
      "text/plain": [
       "<Figure size 432x288 with 1 Axes>"
      ]
     },
     "metadata": {
      "needs_background": "light"
     },
     "output_type": "display_data"
    }
   ],
   "source": [
    "retail_daily.rolling(60).mean().plot()"
   ]
  },
  {
   "cell_type": "markdown",
   "id": "1b4ffe0f",
   "metadata": {},
   "source": [
    "# Assignment 6: Rolling Averages\n",
    "\n",
    "Plot the 90-day moving average for transactions for store 47.\n",
    "\n",
    "This will help remove some of the noise from our series.\n",
    "\n",
    "Thanks!\n"
   ]
  },
  {
   "cell_type": "code",
   "execution_count": 279,
   "id": "56276c42",
   "metadata": {},
   "outputs": [
    {
     "data": {
      "text/html": [
       "<div>\n",
       "<style scoped>\n",
       "    .dataframe tbody tr th:only-of-type {\n",
       "        vertical-align: middle;\n",
       "    }\n",
       "\n",
       "    .dataframe tbody tr th {\n",
       "        vertical-align: top;\n",
       "    }\n",
       "\n",
       "    .dataframe thead th {\n",
       "        text-align: right;\n",
       "    }\n",
       "</style>\n",
       "<table border=\"1\" class=\"dataframe\">\n",
       "  <thead>\n",
       "    <tr style=\"text-align: right;\">\n",
       "      <th></th>\n",
       "      <th>transactions</th>\n",
       "    </tr>\n",
       "    <tr>\n",
       "      <th>date</th>\n",
       "      <th></th>\n",
       "    </tr>\n",
       "  </thead>\n",
       "  <tbody>\n",
       "    <tr>\n",
       "      <th>2013-01-02</th>\n",
       "      <td>4161</td>\n",
       "    </tr>\n",
       "    <tr>\n",
       "      <th>2013-01-03</th>\n",
       "      <td>3660</td>\n",
       "    </tr>\n",
       "    <tr>\n",
       "      <th>2013-01-04</th>\n",
       "      <td>3915</td>\n",
       "    </tr>\n",
       "    <tr>\n",
       "      <th>2013-01-05</th>\n",
       "      <td>4764</td>\n",
       "    </tr>\n",
       "    <tr>\n",
       "      <th>2013-01-06</th>\n",
       "      <td>4935</td>\n",
       "    </tr>\n",
       "  </tbody>\n",
       "</table>\n",
       "</div>"
      ],
      "text/plain": [
       "            transactions\n",
       "date                    \n",
       "2013-01-02          4161\n",
       "2013-01-03          3660\n",
       "2013-01-04          3915\n",
       "2013-01-05          4764\n",
       "2013-01-06          4935"
      ]
     },
     "execution_count": 279,
     "metadata": {},
     "output_type": "execute_result"
    }
   ],
   "source": [
    "# recreate transactions_47 with date as index \n",
    "\n",
    "transactions_47 = (transactions\n",
    "                   .loc[transactions[\"store_nbr\"]==47, [\"date\", \"transactions\"]]\n",
    "                   .set_index(\"date\"))\n",
    "\n",
    "transactions_47.head()"
   ]
  },
  {
   "cell_type": "code",
   "execution_count": 280,
   "id": "b90ced78",
   "metadata": {},
   "outputs": [
    {
     "data": {
      "text/plain": [
       "<AxesSubplot:xlabel='date'>"
      ]
     },
     "execution_count": 280,
     "metadata": {},
     "output_type": "execute_result"
    },
    {
     "data": {
      "image/png": "[encoded data removed]",
      "text/plain": [
       "<Figure size 432x288 with 1 Axes>"
      ]
     },
     "metadata": {
      "needs_background": "light"
     },
     "output_type": "display_data"
    }
   ],
   "source": [
    "# original daily series for comparison\n",
    "\n",
    "transactions_47.plot()"
   ]
  },
  {
   "cell_type": "code",
   "execution_count": 287,
   "id": "7f35f5c8",
   "metadata": {},
   "outputs": [
    {
     "data": {
      "text/plain": [
       "<AxesSubplot:xlabel='date'>"
      ]
     },
     "execution_count": 287,
     "metadata": {},
     "output_type": "execute_result"
    },
    {
     "data": {
      "image/png": "[encoded data removed]",
      "text/plain": [
       "<Figure size 432x288 with 1 Axes>"
      ]
     },
     "metadata": {
      "needs_background": "light"
     },
     "output_type": "display_data"
    }
   ],
   "source": [
    "(transactions_47.assign(\n",
    "    rolling_avg_90 = transactions_47.rolling(90).mean())\n",
    "    .drop(['transactions'], axis=1)\n",
    "    .plot())"
   ]
  },
  {
   "cell_type": "markdown",
   "id": "5e4da501-bbd2-4c42-b336-e5e5a2d07e47",
   "metadata": {},
   "source": [
    "# Key Takeaways"
   ]
  },
  {
   "cell_type": "markdown",
   "id": "1e5a2e65-fc52-499e-b21b-229af0d1658e",
   "metadata": {},
   "source": [
    "- Datetime64 data type lets you work with time series in Pandas\n",
    "    - Conversion can be deceptively complicated, so use the .to_datetime() method to manage erros, or explicitly state the datetime format for Pandas to interpret it correctly\n",
    "- Use datetime codes & accessors to format dates and extract date components\n",
    "    - There are dozens of options, but you only need to memorize the common parts and formats for most business analysis scenarios - always reference the documentation if needed!\n",
    "- Leverage datetime indices to slice time series data intuitively & efficiently\n",
    "    - This also provides alternative methods for fixing missing data, like forward-filling, back-filling and interpolation.\n",
    "- Shifting & aggregation methods let you perform time intelligence calculations\n",
    "    - Shifting and differencing let you calculate period-over-period changes, grouping and resampling let you perform time series summaries, while rolling aggregations let you calculate things like moving averages"
   ]
  }
 ],
 "metadata": {
  "kernelspec": {
   "display_name": "Python 3 (ipykernel)",
   "language": "python",
   "name": "python3"
  },
  "language_info": {
   "codemirror_mode": {
    "name": "ipython",
    "version": 3
   },
   "file_extension": ".py",
   "mimetype": "text/x-python",
   "name": "python",
   "nbconvert_exporter": "python",
   "pygments_lexer": "ipython3",
   "version": "3.9.7"
  }
 },
 "nbformat": 4,
 "nbformat_minor": 5
}
